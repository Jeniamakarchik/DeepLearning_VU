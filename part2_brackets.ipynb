{
  "cells": [
    {
      "cell_type": "markdown",
      "metadata": {
        "pycharm": {
          "name": "#%% md\n"
        },
        "id": "qXNpWKji_AlG"
      },
      "source": [
        "# Assignment 2"
      ]
    },
    {
      "cell_type": "code",
      "source": [
        "!pip3 install python3-wget"
      ],
      "metadata": {
        "colab": {
          "base_uri": "https://localhost:8080/"
        },
        "id": "yyf6GwiU_iaQ",
        "outputId": "4cbb0df7-49c3-4636-decd-1ed756676469"
      },
      "execution_count": 343,
      "outputs": [
        {
          "output_type": "stream",
          "name": "stdout",
          "text": [
            "Looking in indexes: https://pypi.org/simple, https://us-python.pkg.dev/colab-wheels/public/simple/\n",
            "Requirement already satisfied: python3-wget in /usr/local/lib/python3.8/dist-packages (0.0.2b1)\n",
            "Requirement already satisfied: hurry.filesize in /usr/local/lib/python3.8/dist-packages (from python3-wget) (0.9)\n",
            "Requirement already satisfied: setuptools in /usr/local/lib/python3.8/dist-packages (from hurry.filesize->python3-wget) (57.4.0)\n"
          ]
        }
      ]
    },
    {
      "cell_type": "code",
      "execution_count": 344,
      "metadata": {
        "pycharm": {
          "name": "#%%\n"
        },
        "id": "K8ZrUug7_AlJ"
      },
      "outputs": [],
      "source": [
        "from collections import defaultdict\n",
        "import matplotlib.pyplot as plt\n",
        "import numpy as np\n",
        "import random\n",
        "from time import time\n",
        "\n",
        "from data_rnn import load_ndfa, load_brackets"
      ]
    },
    {
      "cell_type": "code",
      "execution_count": 345,
      "metadata": {
        "pycharm": {
          "name": "#%%\n",
          "is_executing": true
        },
        "id": "J6vpREhs_AlK"
      },
      "outputs": [],
      "source": [
        "import torch\n",
        "import torch.nn as nn\n",
        "import torch.nn.functional as F\n",
        "\n",
        "import torch.optim as optim\n",
        "import torch.distributions as dist"
      ]
    },
    {
      "cell_type": "code",
      "execution_count": 346,
      "metadata": {
        "pycharm": {
          "name": "#%%\n"
        },
        "colab": {
          "base_uri": "https://localhost:8080/"
        },
        "id": "4IOnWWWG_AlL",
        "outputId": "57c756d1-9264-4b8a-c028-49cf15c1f4e8"
      },
      "outputs": [
        {
          "output_type": "execute_result",
          "data": {
            "text/plain": [
              "device(type='cuda')"
            ]
          },
          "metadata": {},
          "execution_count": 346
        }
      ],
      "source": [
        "if torch.cuda.is_available():\n",
        "    device = torch.device('cuda') \n",
        "else:\n",
        "    device = torch.device('cpu') \n",
        "\n",
        "device"
      ]
    },
    {
      "cell_type": "markdown",
      "metadata": {
        "pycharm": {
          "name": "#%% md\n"
        },
        "id": "43s8fU7D_AlL"
      },
      "source": [
        "### Load data"
      ]
    },
    {
      "cell_type": "code",
      "execution_count": 347,
      "metadata": {
        "pycharm": {
          "name": "#%%\n"
        },
        "id": "yAzWG4mK_AlM"
      },
      "outputs": [],
      "source": [
        "# # NDFA\n",
        "# x_train, (i2w, w2i) = load_brackets(n=150_000)\n",
        "\n",
        "# Brackets\n",
        "x_train, (i2w, w2i) = load_brackets(n=150_000)"
      ]
    },
    {
      "cell_type": "code",
      "execution_count": 348,
      "metadata": {
        "pycharm": {
          "name": "#%%\n"
        },
        "colab": {
          "base_uri": "https://localhost:8080/"
        },
        "id": "3oBg47y0_AlM",
        "outputId": "f9b00259-1647-4a65-f81a-608406a69c3b"
      },
      "outputs": [
        {
          "output_type": "execute_result",
          "data": {
            "text/plain": [
              "150000"
            ]
          },
          "metadata": {},
          "execution_count": 348
        }
      ],
      "source": [
        "len(x_train)"
      ]
    },
    {
      "cell_type": "code",
      "execution_count": 349,
      "metadata": {
        "pycharm": {
          "name": "#%%\n"
        },
        "colab": {
          "base_uri": "https://localhost:8080/"
        },
        "id": "cxhFYc5Z_AlM",
        "outputId": "c3ee61ad-055c-40ec-c216-f1bb0ccb28e1"
      },
      "outputs": [
        {
          "output_type": "execute_result",
          "data": {
            "text/plain": [
              "[5, 4]"
            ]
          },
          "metadata": {},
          "execution_count": 349
        }
      ],
      "source": [
        "x_train[0]"
      ]
    },
    {
      "cell_type": "code",
      "execution_count": 350,
      "metadata": {
        "pycharm": {
          "name": "#%%\n"
        },
        "id": "PIkOeiG4_AlM"
      },
      "outputs": [],
      "source": [
        "def print_sequence(seq):\n",
        "    if seq[0] == w2i['.start']:\n",
        "        seq = seq[1:]\n",
        "    if seq[-1] == w2i['.end']:\n",
        "        seq = seq[:-1]\n",
        "        \n",
        "    print(''.join([i2w[i] for i in seq]) )\n"
      ]
    },
    {
      "cell_type": "code",
      "execution_count": 351,
      "metadata": {
        "pycharm": {
          "name": "#%%\n"
        },
        "colab": {
          "base_uri": "https://localhost:8080/"
        },
        "id": "TIXYrRsH_AlN",
        "outputId": "304b580f-2a27-4fb8-dd82-8964f6d27788"
      },
      "outputs": [
        {
          "output_type": "stream",
          "name": "stdout",
          "text": [
            "((()()))\n"
          ]
        }
      ],
      "source": [
        "print_sequence(x_train[120_600])"
      ]
    },
    {
      "cell_type": "code",
      "execution_count": 352,
      "metadata": {
        "pycharm": {
          "name": "#%%\n"
        },
        "colab": {
          "base_uri": "https://localhost:8080/"
        },
        "id": "cVLJMTvv_AlN",
        "outputId": "23523498-0b5e-4e7c-eb99-c5035901ebdb"
      },
      "outputs": [
        {
          "output_type": "execute_result",
          "data": {
            "text/plain": [
              "6"
            ]
          },
          "metadata": {},
          "execution_count": 352
        }
      ],
      "source": [
        "vocab_size = len(w2i)\n",
        "vocab_size"
      ]
    },
    {
      "cell_type": "code",
      "execution_count": 353,
      "metadata": {
        "pycharm": {
          "name": "#%%\n"
        },
        "colab": {
          "base_uri": "https://localhost:8080/"
        },
        "id": "cg8YSjmr_AlN",
        "outputId": "fe60f4b1-0c69-4232-ada0-298a0d5ce328"
      },
      "outputs": [
        {
          "output_type": "execute_result",
          "data": {
            "text/plain": [
              "{'.pad': 0, '.start': 1, '.end': 2, '.unk': 3, ')': 4, '(': 5}"
            ]
          },
          "metadata": {},
          "execution_count": 353
        }
      ],
      "source": [
        "w2i"
      ]
    },
    {
      "cell_type": "code",
      "execution_count": 354,
      "metadata": {
        "pycharm": {
          "name": "#%%\n"
        },
        "id": "qAVgtdYt_AlN"
      },
      "outputs": [],
      "source": [
        "def get_max_seq_length(batch):\n",
        "    return max(len(seq) for seq in batch)"
      ]
    },
    {
      "cell_type": "code",
      "execution_count": 355,
      "metadata": {
        "pycharm": {
          "name": "#%%\n"
        },
        "id": "KYJRmgxl_AlO"
      },
      "outputs": [],
      "source": [
        "def get_sum_seq_lengths(batch):\n",
        "    return sum(len(seq) for seq in batch)"
      ]
    },
    {
      "cell_type": "code",
      "execution_count": 356,
      "metadata": {
        "pycharm": {
          "name": "#%%\n"
        },
        "id": "hv2mJO14_AlO"
      },
      "outputs": [],
      "source": [
        "def add_padding(seq, amt=1):\n",
        "    for _ in range(amt):\n",
        "        seq.append(w2i['.pad'])\n",
        "    return seq"
      ]
    },
    {
      "cell_type": "code",
      "execution_count": 357,
      "metadata": {
        "pycharm": {
          "name": "#%%\n"
        },
        "id": "NZJQbjfp_AlO"
      },
      "outputs": [],
      "source": [
        "def add_start(seq):\n",
        "    seq.insert(0, w2i['.start'])\n",
        "    return seq"
      ]
    },
    {
      "cell_type": "code",
      "execution_count": 358,
      "metadata": {
        "pycharm": {
          "name": "#%%\n"
        },
        "id": "2SNaIfKL_AlO"
      },
      "outputs": [],
      "source": [
        "def add_end(seq):\n",
        "    seq.append(w2i['.end'])\n",
        "    return seq"
      ]
    },
    {
      "cell_type": "code",
      "execution_count": 359,
      "metadata": {
        "pycharm": {
          "name": "#%%\n"
        },
        "colab": {
          "base_uri": "https://localhost:8080/"
        },
        "id": "4RCMTZ-m_AlO",
        "outputId": "e8ac6366-1865-4a06-908a-0b3bf45b9796"
      },
      "outputs": [
        {
          "output_type": "stream",
          "name": "stdout",
          "text": [
            "The longest sequence in trainset has 1022 length.\n"
          ]
        }
      ],
      "source": [
        "print(f'The longest sequence in trainset has {get_max_seq_length(x_train)} length.')"
      ]
    },
    {
      "cell_type": "code",
      "execution_count": 360,
      "metadata": {
        "pycharm": {
          "name": "#%%\n"
        },
        "colab": {
          "base_uri": "https://localhost:8080/"
        },
        "id": "x_XJs-Mc_AlO",
        "outputId": "cf45306f-3fab-4869-b392-f03ad51d0186"
      },
      "outputs": [
        {
          "output_type": "stream",
          "name": "stdout",
          "text": [
            "Mean length of a sequence in trainset is 9.01628.\n"
          ]
        }
      ],
      "source": [
        "print(f'Mean length of a sequence in trainset is {get_sum_seq_lengths(x_train) / len(x_train)}.')"
      ]
    },
    {
      "cell_type": "code",
      "execution_count": 361,
      "metadata": {
        "pycharm": {
          "name": "#%%\n"
        },
        "id": "wJMxw4lF_AlO"
      },
      "outputs": [],
      "source": [
        "def preprocess_batch(batch):\n",
        "    max_len = get_max_seq_length(batch)\n",
        "    \n",
        "    upd_batch = []\n",
        "    for i, _ in enumerate(batch):\n",
        "        seq = batch[i].copy()\n",
        "        seq = add_start(seq)\n",
        "        seq = add_end(seq)\n",
        "        seq = add_padding(seq, amt=max_len + 2 - len(seq))\n",
        "        upd_batch.append(seq)\n",
        "    \n",
        "    upd_batch = torch.tensor(upd_batch, dtype=torch.long)\n",
        "    return upd_batch"
      ]
    },
    {
      "cell_type": "code",
      "execution_count": 362,
      "metadata": {
        "pycharm": {
          "name": "#%%\n"
        },
        "id": "D9qYTCIZ_AlO"
      },
      "outputs": [],
      "source": [
        "def get_batches(data, max_token_amount=10000):\n",
        "    batches, targets = [], []\n",
        "    bound_l, bound_r = -1, 0\n",
        "\n",
        "    while bound_r < len(data):\n",
        "        bound_l = bound_r\n",
        "\n",
        "        num_of_tokens = 0\n",
        "        while bound_r < len(data) and (num_of_tokens + len(data[bound_r])) < max_token_amount:\n",
        "            num_of_tokens += len(data[bound_r])\n",
        "            bound_r += 1\n",
        "        print(bound_l, bound_r)\n",
        "        batch = data[bound_l:bound_r]\n",
        "        batch = preprocess_batch(batch)\n",
        "        target = F.pad(batch, (0, 1), \"constant\", 0)[:, 1:]\n",
        "        # target = F.one_hot(target, num_classes=vocab_size)\n",
        "\n",
        "        batches.append(batch)\n",
        "        targets.append(target)\n",
        "    return batches, targets\n"
      ]
    },
    {
      "cell_type": "code",
      "execution_count": 363,
      "metadata": {
        "pycharm": {
          "name": "#%%\n"
        },
        "id": "N8Djtz1j_AlP"
      },
      "outputs": [],
      "source": [
        "def batch_generator(batches, targets):\n",
        "    indices = list(range(len(batches)))\n",
        "    random.shuffle(indices)\n",
        "    # print(f'Shuffle: {indices}')\n",
        "    \n",
        "    for ind in indices:\n",
        "        yield batches[ind], targets[ind], (len(batches[ind]), len(batches[ind][0]))"
      ]
    },
    {
      "cell_type": "markdown",
      "metadata": {
        "pycharm": {
          "name": "#%% md\n"
        },
        "id": "GxORKHY0_AlP"
      },
      "source": [
        "## Question 5"
      ]
    },
    {
      "cell_type": "code",
      "execution_count": 364,
      "metadata": {
        "pycharm": {
          "name": "#%%\n"
        },
        "id": "kYNBFkS3_AlP"
      },
      "outputs": [],
      "source": [
        "class Net(nn.Module):\n",
        "    def __init__(self, vocab_size, embedding_size=32, hidden_size=16, lstm_num_layers=3) -> None:\n",
        "        super().__init__()\n",
        "\n",
        "        self.embed = nn.Embedding(vocab_size, embedding_size)\n",
        "        self.lstm = nn.LSTM(embedding_size, hidden_size, lstm_num_layers, batch_first=True)\n",
        "        self.linear = nn.Linear(hidden_size, vocab_size)\n",
        "\n",
        "    def forward(self, input):\n",
        "        x = input\n",
        "        x = self.embed(x)\n",
        "        x, (hn, cn) = self.lstm(x)\n",
        "        output = self.linear(x)\n",
        "        return output"
      ]
    },
    {
      "cell_type": "code",
      "execution_count": 365,
      "metadata": {
        "pycharm": {
          "name": "#%%\n"
        },
        "colab": {
          "base_uri": "https://localhost:8080/"
        },
        "id": "Ebfk6Bcl_AlP",
        "outputId": "4a8c0b0d-593e-48db-ba32-06b42f634c5c"
      },
      "outputs": [
        {
          "output_type": "execute_result",
          "data": {
            "text/plain": [
              "Net(\n",
              "  (embed): Embedding(6, 32)\n",
              "  (lstm): LSTM(32, 16, num_layers=3, batch_first=True)\n",
              "  (linear): Linear(in_features=16, out_features=6, bias=True)\n",
              ")"
            ]
          },
          "metadata": {},
          "execution_count": 365
        }
      ],
      "source": [
        "net = Net(vocab_size)\n",
        "net"
      ]
    },
    {
      "cell_type": "code",
      "execution_count": 366,
      "metadata": {
        "pycharm": {
          "name": "#%%\n"
        },
        "id": "IqOyyWQU_AlP"
      },
      "outputs": [],
      "source": [
        "def sample(lnprobs, temperature=1.0):\n",
        "    \"\"\"\n",
        "    Sample an element from a categorical distribution\n",
        "    :param lnprobs: Outcome logits\n",
        "    :param temperature: Sampling temperature. 1.0 follows the given\n",
        "    distribution, 0.0 returns the maximum probability element.\n",
        "    :return: The index of the sampled element.\n",
        "    \"\"\"\n",
        "    if temperature == 0.0:\n",
        "        return lnprobs.argmax()\n",
        "\n",
        "    p = F.softmax(lnprobs / temperature, dim=0)\n",
        "    cd = dist.Categorical(p)\n",
        "    \n",
        "    return cd.sample()"
      ]
    },
    {
      "cell_type": "code",
      "execution_count": 367,
      "metadata": {
        "pycharm": {
          "name": "#%%\n"
        },
        "id": "upkTR5Ek_AlP"
      },
      "outputs": [],
      "source": [
        "def generate_seq(model, w2i, start_seq, max_length=25, temp=1.0, device=torch.device('cpu')):\n",
        "    new_seq = start_seq.copy()\n",
        "    start_seq = torch.tensor(start_seq, dtype=torch.long).to(device)\n",
        "    start_seq = start_seq[None, :]\n",
        "\n",
        "    output = model(start_seq)\n",
        "    last_token = sample(output[0, -1, :])\n",
        "\n",
        "    curr_len = len(start_seq)\n",
        "    while curr_len < max_length and last_token.item() != w2i['.end']:\n",
        "        new_seq.append(last_token.item())\n",
        "        curr_len += 1\n",
        "\n",
        "        output = model(last_token.reshape(1, 1))\n",
        "        last_token = sample(output[0, -1, :], temp)\n",
        "    new_seq.append(last_token)\n",
        "    \n",
        "    return new_seq\n"
      ]
    },
    {
      "cell_type": "code",
      "execution_count": 368,
      "metadata": {
        "pycharm": {
          "name": "#%%\n"
        },
        "id": "MckaSVpC_AlQ"
      },
      "outputs": [],
      "source": [
        "def train(model, batches, targets, start_seq, epochs=3, learning_rate=0.01, \n",
        "    grad_limit=3, max_length=25, temp=1.0, device=torch.device('cpu')):\n",
        "        \n",
        "    criterion = nn.CrossEntropyLoss(reduction='sum', ignore_index=w2i['.pad'])\n",
        "    optimizer = optim.Adam(model.parameters(), lr=learning_rate)\n",
        "\n",
        "    model.to(device)\n",
        "    model.train()\n",
        "\n",
        "    metrics = {\n",
        "        'loss_history': [], # loss per iteration\n",
        "        'loss_train': [], # loss per epoch\n",
        "        'loss_history_per_token': [] # loss per token on iteratiom\n",
        "    }\n",
        "\n",
        "    samples = defaultdict(list)\n",
        "\n",
        "    total_loss = []\n",
        "    for epoch in range(epochs):\n",
        "        print(f\"Epoch {epoch + 1}\\n-------------------------------\")\n",
        "\n",
        "        for i, (x_batch, y_batch, _) in enumerate(batch_generator(batches, targets)):\n",
        "            x_batch, y_batch = x_batch.to(device), y_batch.to(device)\n",
        "            assert x_batch.shape == y_batch.shape\n",
        "\n",
        "            optimizer.zero_grad()\n",
        "\n",
        "            start_time = time()\n",
        "            outputs = model(x_batch)\n",
        "            # print(outputs.shape)\n",
        "            loss = criterion(outputs.reshape(outputs.shape[0]*outputs.shape[1], -1), y_batch.reshape(y_batch.shape[0]*y_batch.shape[1], )) # outputs: [batch_size*time, vocab_size], y:[batch_size*time]\n",
        "            loss.backward()\n",
        "            finish_time = time()\n",
        "\n",
        "            # print statistics\n",
        "            print(f'[{epoch + 1}, {i + 1:5d}] loss: {loss.item() / y_batch.size()[0] / y_batch.size()[-1]:.6f} time: {finish_time - start_time:.3f}')\n",
        "            metrics['loss_history_per_token'].append(loss.item() / y_batch.size()[0] / y_batch.size()[-1]) # loss per token for each iteration\n",
        "            metrics['loss_history'].append(loss.item())\n",
        "            total_loss.append(loss.item())\n",
        "\n",
        "            nn.utils.clip_grad_norm_(model.parameters(), grad_limit)\n",
        "            optimizer.step()\n",
        "\n",
        "        metrics['loss_train'].append(np.mean(total_loss)) # mean loss per epoch\n",
        "\n",
        "        for _ in range(10):\n",
        "            samples[epoch].append(generate_seq(model, w2i, start_seq, max_length, temp, device))\n",
        "            \n",
        "    return model, metrics, samples"
      ]
    },
    {
      "cell_type": "code",
      "execution_count": 369,
      "metadata": {
        "pycharm": {
          "name": "#%%\n"
        },
        "colab": {
          "base_uri": "https://localhost:8080/"
        },
        "id": "gB6hBoRA_AlQ",
        "outputId": "033a2073-210b-40f7-ced1-0c8af5a706ec"
      },
      "outputs": [
        {
          "output_type": "stream",
          "name": "stdout",
          "text": [
            "0 24999\n",
            "24999 49998\n",
            "49998 74997\n",
            "74997 92323\n",
            "92323 104822\n",
            "104822 113338\n",
            "113338 120164\n",
            "120164 125505\n",
            "125505 129703\n",
            "129703 133086\n",
            "133086 135875\n",
            "135875 138200\n",
            "138200 140137\n",
            "140137 141784\n",
            "141784 143176\n",
            "143176 144358\n",
            "144358 145368\n",
            "145368 146234\n",
            "146234 146978\n",
            "146978 147621\n",
            "147621 148174\n",
            "148174 148644\n",
            "148644 149042\n",
            "149042 149374\n",
            "149374 149642\n",
            "149642 149853\n",
            "149853 149995\n",
            "149995 150000\n",
            "28\n"
          ]
        }
      ],
      "source": [
        "batches, targets = get_batches(x_train, max_token_amount=max_token_amount)\n",
        "print(len(batches))"
      ]
    },
    {
      "cell_type": "code",
      "execution_count": 370,
      "metadata": {
        "pycharm": {
          "name": "#%%\n"
        },
        "colab": {
          "base_uri": "https://localhost:8080/"
        },
        "id": "YRTOrj-f_AlQ",
        "outputId": "40a80793-f1e6-4812-de1b-2149772bbe0e"
      },
      "outputs": [
        {
          "output_type": "execute_result",
          "data": {
            "text/plain": [
              "(tensor([[1, 5, 4, 2],\n",
              "         [1, 5, 4, 2],\n",
              "         [1, 5, 4, 2],\n",
              "         [1, 5, 4, 2],\n",
              "         [1, 5, 4, 2]]), tensor([[5, 4, 2, 0],\n",
              "         [5, 4, 2, 0],\n",
              "         [5, 4, 2, 0],\n",
              "         [5, 4, 2, 0],\n",
              "         [5, 4, 2, 0]]))"
            ]
          },
          "metadata": {},
          "execution_count": 370
        }
      ],
      "source": [
        "batches[0][:5], targets[0][:5]"
      ]
    },
    {
      "cell_type": "code",
      "execution_count": 371,
      "metadata": {
        "pycharm": {
          "name": "#%%\n"
        },
        "id": "51pagmlb_AlQ"
      },
      "outputs": [],
      "source": [
        "start_seq = [\n",
        "    w2i['.start'], \n",
        "    w2i['('], \n",
        "    w2i['('], \n",
        "    w2i[')']\n",
        "]"
      ]
    },
    {
      "cell_type": "code",
      "execution_count": 372,
      "metadata": {
        "pycharm": {
          "name": "#%%\n"
        },
        "id": "Abw9tvsd_AlQ"
      },
      "outputs": [],
      "source": [
        "vocab_size=len(w2i)\n",
        "max_token_amount = 50000\n",
        "\n",
        "\n",
        "embedding_size = 32\n",
        "hidden_size = 16\n",
        "lstm_num_layers = 1\n",
        "\n",
        "grad_limit = 5\n",
        "max_length = 25\n",
        "# temp = 1.0\n",
        "temp = 0.1\n",
        "\n",
        "epochs = 20\n",
        "learning_rate = 0.01"
      ]
    },
    {
      "cell_type": "code",
      "execution_count": 373,
      "metadata": {
        "pycharm": {
          "name": "#%%\n"
        },
        "colab": {
          "base_uri": "https://localhost:8080/"
        },
        "id": "Ypr1fUVI_AlQ",
        "outputId": "46de2ef8-c9a6-4c4f-ebdd-f8dbee81cf0a"
      },
      "outputs": [
        {
          "output_type": "stream",
          "name": "stdout",
          "text": [
            "Epoch 1\n",
            "-------------------------------\n",
            "[1,     1] loss: 1.612132 time: 0.009\n",
            "[1,     2] loss: 1.241236 time: 0.017\n",
            "[1,     3] loss: 1.383036 time: 0.009\n",
            "[1,     4] loss: 0.967198 time: 0.017\n",
            "[1,     5] loss: 1.248592 time: 0.010\n",
            "[1,     6] loss: 1.081237 time: 0.017\n",
            "[1,     7] loss: 1.104800 time: 0.009\n",
            "[1,     8] loss: 0.968510 time: 0.010\n",
            "[1,     9] loss: 0.963997 time: 0.011\n",
            "[1,    10] loss: 0.979239 time: 0.008\n",
            "[1,    11] loss: 0.913503 time: 0.007\n",
            "[1,    12] loss: 0.587399 time: 0.010\n",
            "[1,    13] loss: 0.806929 time: 0.007\n",
            "[1,    14] loss: 0.795035 time: 0.007\n",
            "[1,    15] loss: 0.828699 time: 0.010\n",
            "[1,    16] loss: 0.733769 time: 0.007\n",
            "[1,    17] loss: 0.672204 time: 0.007\n",
            "[1,    18] loss: 0.738402 time: 0.007\n",
            "[1,    19] loss: 1.018094 time: 0.010\n",
            "[1,    20] loss: 0.492783 time: 0.007\n",
            "[1,    21] loss: 1.233314 time: 0.013\n",
            "[1,    22] loss: 0.686737 time: 0.007\n",
            "[1,    23] loss: 0.891326 time: 0.008\n",
            "[1,    24] loss: 0.658438 time: 0.007\n",
            "[1,    25] loss: 0.716098 time: 0.007\n",
            "[1,    26] loss: 0.650768 time: 0.007\n",
            "[1,    27] loss: 0.680268 time: 0.007\n",
            "[1,    28] loss: 0.672498 time: 0.006\n",
            "Epoch 2\n",
            "-------------------------------\n",
            "[2,     1] loss: 0.655830 time: 0.006\n",
            "[2,     2] loss: 0.669811 time: 0.005\n",
            "[2,     3] loss: 0.646593 time: 0.005\n",
            "[2,     4] loss: 1.334199 time: 0.009\n",
            "[2,     5] loss: 0.660259 time: 0.005\n",
            "[2,     6] loss: 0.938338 time: 0.009\n",
            "[2,     7] loss: 0.806062 time: 0.006\n",
            "[2,     8] loss: 0.674393 time: 0.005\n",
            "[2,     9] loss: 0.687572 time: 0.006\n",
            "[2,    10] loss: 0.678497 time: 0.005\n",
            "[2,    11] loss: 0.508547 time: 0.007\n",
            "[2,    12] loss: 0.677403 time: 0.005\n",
            "[2,    13] loss: 0.677195 time: 0.005\n",
            "[2,    14] loss: 0.664819 time: 0.005\n",
            "[2,    15] loss: 0.618844 time: 0.005\n",
            "[2,    16] loss: 0.665732 time: 0.005\n",
            "[2,    17] loss: 0.657837 time: 0.006\n",
            "[2,    18] loss: 0.877713 time: 0.006\n",
            "[2,    19] loss: 1.179290 time: 0.009\n",
            "[2,    20] loss: 1.131170 time: 0.009\n",
            "[2,    21] loss: 0.619800 time: 0.008\n",
            "[2,    22] loss: 0.591873 time: 0.008\n",
            "[2,    23] loss: 0.664191 time: 0.005\n",
            "[2,    24] loss: 0.464578 time: 0.007\n",
            "[2,    25] loss: 0.662332 time: 0.005\n",
            "[2,    26] loss: 0.570328 time: 0.005\n",
            "[2,    27] loss: 0.648687 time: 0.006\n",
            "[2,    28] loss: 0.576880 time: 0.006\n",
            "Epoch 3\n",
            "-------------------------------\n",
            "[3,     1] loss: 0.754924 time: 0.008\n",
            "[3,     2] loss: 0.718844 time: 0.004\n",
            "[3,     3] loss: 0.721925 time: 0.004\n",
            "[3,     4] loss: 0.627217 time: 0.005\n",
            "[3,     5] loss: 0.653653 time: 0.005\n",
            "[3,     6] loss: 0.656645 time: 0.005\n",
            "[3,     7] loss: 0.679939 time: 0.008\n",
            "[3,     8] loss: 0.654807 time: 0.005\n",
            "[3,     9] loss: 0.592466 time: 0.005\n",
            "[3,    10] loss: 0.664428 time: 0.004\n",
            "[3,    11] loss: 0.471711 time: 0.009\n",
            "[3,    12] loss: 0.538873 time: 0.005\n",
            "[3,    13] loss: 0.489459 time: 0.005\n",
            "[3,    14] loss: 0.455395 time: 0.009\n",
            "[3,    15] loss: 0.664282 time: 0.004\n",
            "[3,    16] loss: 0.635386 time: 0.004\n",
            "[3,    17] loss: 0.602984 time: 0.005\n",
            "[3,    18] loss: 0.619361 time: 0.005\n",
            "[3,    19] loss: 0.648895 time: 0.004\n",
            "[3,    20] loss: 0.619231 time: 0.004\n",
            "[3,    21] loss: 0.536933 time: 0.005\n",
            "[3,    22] loss: 0.636701 time: 0.008\n",
            "[3,    23] loss: 0.563247 time: 0.005\n",
            "[3,    24] loss: 0.643240 time: 0.004\n",
            "[3,    25] loss: 0.485112 time: 0.006\n",
            "[3,    26] loss: 0.599871 time: 0.005\n",
            "[3,    27] loss: 0.628533 time: 0.004\n",
            "[3,    28] loss: 0.502274 time: 0.005\n",
            "Epoch 4\n",
            "-------------------------------\n",
            "[4,     1] loss: 0.670591 time: 0.004\n",
            "[4,     2] loss: 0.413502 time: 0.006\n",
            "[4,     3] loss: 0.592867 time: 0.005\n",
            "[4,     4] loss: 0.654045 time: 0.005\n",
            "[4,     5] loss: 0.619070 time: 0.004\n",
            "[4,     6] loss: 0.642093 time: 0.004\n",
            "[4,     7] loss: 0.622959 time: 0.004\n",
            "[4,     8] loss: 0.559952 time: 0.005\n",
            "[4,     9] loss: 0.420753 time: 0.008\n",
            "[4,    10] loss: 0.485331 time: 0.006\n",
            "[4,    11] loss: 0.540507 time: 0.005\n",
            "[4,    12] loss: 0.605744 time: 0.008\n",
            "[4,    13] loss: 0.467343 time: 0.005\n",
            "[4,    14] loss: 0.597657 time: 0.006\n",
            "[4,    15] loss: 0.619182 time: 0.005\n",
            "[4,    16] loss: 0.621166 time: 0.004\n",
            "[4,    17] loss: 0.515232 time: 0.008\n",
            "[4,    18] loss: 0.613047 time: 0.005\n",
            "[4,    19] loss: 0.475345 time: 0.008\n",
            "[4,    20] loss: 0.635233 time: 0.004\n",
            "[4,    21] loss: 0.436240 time: 0.007\n",
            "[4,    22] loss: 0.440775 time: 0.005\n",
            "[4,    23] loss: 0.571347 time: 0.005\n",
            "[4,    24] loss: 0.538494 time: 0.005\n",
            "[4,    25] loss: 0.616521 time: 0.005\n",
            "[4,    26] loss: 0.459011 time: 0.005\n",
            "[4,    27] loss: 0.511177 time: 0.005\n",
            "[4,    28] loss: 0.455142 time: 0.005\n",
            "Epoch 5\n",
            "-------------------------------\n",
            "[5,     1] loss: 0.620733 time: 0.005\n",
            "[5,     2] loss: 0.288401 time: 0.008\n",
            "[5,     3] loss: 0.393363 time: 0.006\n",
            "[5,     4] loss: 0.373695 time: 0.008\n",
            "[5,     5] loss: 0.688618 time: 0.005\n",
            "[5,     6] loss: 0.701146 time: 0.005\n",
            "[5,     7] loss: 0.437526 time: 0.005\n",
            "[5,     8] loss: 0.688607 time: 0.004\n",
            "[5,     9] loss: 0.659484 time: 0.004\n",
            "[5,    10] loss: 0.487641 time: 0.006\n",
            "[5,    11] loss: 0.435475 time: 0.005\n",
            "[5,    12] loss: 0.663022 time: 0.004\n",
            "[5,    13] loss: 0.569865 time: 0.005\n",
            "[5,    14] loss: 0.622665 time: 0.004\n",
            "[5,    15] loss: 0.465675 time: 0.004\n",
            "[5,    16] loss: 0.527276 time: 0.008\n",
            "[5,    17] loss: 0.456525 time: 0.006\n",
            "[5,    18] loss: 0.554994 time: 0.006\n",
            "[5,    19] loss: 0.598731 time: 0.005\n",
            "[5,    20] loss: 0.619970 time: 0.004\n",
            "[5,    21] loss: 0.639003 time: 0.004\n",
            "[5,    22] loss: 0.631475 time: 0.004\n",
            "[5,    23] loss: 0.622196 time: 0.004\n",
            "[5,    24] loss: 0.538589 time: 0.005\n",
            "[5,    25] loss: 0.509569 time: 0.005\n",
            "[5,    26] loss: 0.547085 time: 0.005\n",
            "[5,    27] loss: 0.438519 time: 0.008\n",
            "[5,    28] loss: 0.368531 time: 0.005\n",
            "Epoch 6\n",
            "-------------------------------\n",
            "[6,     1] loss: 0.426295 time: 0.005\n",
            "[6,     2] loss: 0.371796 time: 0.008\n",
            "[6,     3] loss: 0.719293 time: 0.004\n",
            "[6,     4] loss: 0.706578 time: 0.004\n",
            "[6,     5] loss: 0.605626 time: 0.004\n",
            "[6,     6] loss: 0.789551 time: 0.004\n",
            "[6,     7] loss: 0.304847 time: 0.008\n",
            "[6,     8] loss: 0.802329 time: 0.004\n",
            "[6,     9] loss: 0.787711 time: 0.005\n",
            "[6,    10] loss: 0.550749 time: 0.005\n",
            "[6,    11] loss: 0.246248 time: 0.006\n",
            "[6,    12] loss: 0.593022 time: 0.005\n",
            "[6,    13] loss: 0.303904 time: 0.008\n",
            "[6,    14] loss: 0.627116 time: 0.005\n",
            "[6,    15] loss: 0.332096 time: 0.005\n",
            "[6,    16] loss: 0.513399 time: 0.007\n",
            "[6,    17] loss: 0.687060 time: 0.004\n",
            "[6,    18] loss: 0.705698 time: 0.004\n",
            "[6,    19] loss: 0.596840 time: 0.005\n",
            "[6,    20] loss: 0.507260 time: 0.005\n",
            "[6,    21] loss: 0.629233 time: 0.004\n",
            "[6,    22] loss: 0.621197 time: 0.004\n",
            "[6,    23] loss: 0.406605 time: 0.005\n",
            "[6,    24] loss: 0.583294 time: 0.005\n",
            "[6,    25] loss: 0.559414 time: 0.005\n",
            "[6,    26] loss: 0.462350 time: 0.006\n",
            "[6,    27] loss: 0.367407 time: 0.008\n",
            "[6,    28] loss: 0.608155 time: 0.005\n",
            "Epoch 7\n",
            "-------------------------------\n",
            "[7,     1] loss: 0.464325 time: 0.005\n",
            "[7,     2] loss: 0.551991 time: 0.005\n",
            "[7,     3] loss: 0.610599 time: 0.006\n",
            "[7,     4] loss: 0.467145 time: 0.005\n",
            "[7,     5] loss: 0.457363 time: 0.008\n",
            "[7,     6] loss: 0.375721 time: 0.005\n",
            "[7,     7] loss: 0.591765 time: 0.004\n",
            "[7,     8] loss: 0.486655 time: 0.005\n",
            "[7,     9] loss: 0.374956 time: 0.005\n",
            "[7,    10] loss: 0.497577 time: 0.005\n",
            "[7,    11] loss: 0.411798 time: 0.008\n",
            "[7,    12] loss: 0.653519 time: 0.004\n",
            "[7,    13] loss: 0.296974 time: 0.006\n",
            "[7,    14] loss: 0.613509 time: 0.007\n",
            "[7,    15] loss: 0.387377 time: 0.019\n",
            "[7,    16] loss: 0.573039 time: 0.005\n",
            "[7,    17] loss: 0.594268 time: 0.005\n",
            "[7,    18] loss: 0.658571 time: 0.005\n",
            "[7,    19] loss: 0.641441 time: 0.005\n",
            "[7,    20] loss: 0.661228 time: 0.005\n",
            "[7,    21] loss: 0.517917 time: 0.005\n",
            "[7,    22] loss: 0.301432 time: 0.014\n",
            "[7,    23] loss: 0.427785 time: 0.005\n",
            "[7,    24] loss: 0.611181 time: 0.010\n",
            "[7,    25] loss: 0.613316 time: 0.006\n",
            "[7,    26] loss: 0.602108 time: 0.005\n",
            "[7,    27] loss: 0.608915 time: 0.005\n",
            "[7,    28] loss: 0.428208 time: 0.007\n",
            "Epoch 8\n",
            "-------------------------------\n",
            "[8,     1] loss: 0.603568 time: 0.005\n",
            "[8,     2] loss: 0.586164 time: 0.007\n",
            "[8,     3] loss: 0.594363 time: 0.005\n",
            "[8,     4] loss: 0.460896 time: 0.011\n",
            "[8,     5] loss: 0.463921 time: 0.009\n",
            "[8,     6] loss: 0.464887 time: 0.013\n",
            "[8,     7] loss: 0.622535 time: 0.005\n",
            "[8,     8] loss: 0.609141 time: 0.005\n",
            "[8,     9] loss: 0.425697 time: 0.009\n",
            "[8,    10] loss: 0.552009 time: 0.005\n",
            "[8,    11] loss: 0.610647 time: 0.005\n",
            "[8,    12] loss: 0.512854 time: 0.006\n",
            "[8,    13] loss: 0.432064 time: 0.007\n",
            "[8,    14] loss: 0.420251 time: 0.007\n",
            "[8,    15] loss: 0.554419 time: 0.005\n",
            "[8,    16] loss: 0.523475 time: 0.005\n",
            "[8,    17] loss: 0.594840 time: 0.019\n",
            "[8,    18] loss: 0.409617 time: 0.019\n",
            "[8,    19] loss: 0.408235 time: 0.006\n",
            "[8,    20] loss: 0.537214 time: 0.005\n",
            "[8,    21] loss: 0.427657 time: 0.005\n",
            "[8,    22] loss: 0.282396 time: 0.009\n",
            "[8,    23] loss: 0.664587 time: 0.005\n",
            "[8,    24] loss: 0.677319 time: 0.005\n",
            "[8,    25] loss: 0.417799 time: 0.006\n",
            "[8,    26] loss: 0.665517 time: 0.007\n",
            "[8,    27] loss: 0.483023 time: 0.005\n",
            "[8,    28] loss: 0.616591 time: 0.005\n",
            "Epoch 9\n",
            "-------------------------------\n",
            "[9,     1] loss: 0.642977 time: 0.008\n",
            "[9,     2] loss: 0.485843 time: 0.007\n",
            "[9,     3] loss: 0.426771 time: 0.005\n",
            "[9,     4] loss: 0.583129 time: 0.005\n",
            "[9,     5] loss: 0.472855 time: 0.008\n",
            "[9,     6] loss: 0.553908 time: 0.005\n",
            "[9,     7] loss: 0.605415 time: 0.005\n",
            "[9,     8] loss: 0.599946 time: 0.005\n",
            "[9,     9] loss: 0.544793 time: 0.010\n",
            "[9,    10] loss: 0.389249 time: 0.009\n",
            "[9,    11] loss: 0.600761 time: 0.005\n",
            "[9,    12] loss: 0.476321 time: 0.006\n",
            "[9,    13] loss: 0.547760 time: 0.005\n",
            "[9,    14] loss: 0.411883 time: 0.006\n",
            "[9,    15] loss: 0.629195 time: 0.009\n",
            "[9,    16] loss: 0.652902 time: 0.005\n",
            "[9,    17] loss: 0.495434 time: 0.005\n",
            "[9,    18] loss: 0.378978 time: 0.008\n",
            "[9,    19] loss: 0.600518 time: 0.006\n",
            "[9,    20] loss: 0.378605 time: 0.006\n",
            "[9,    21] loss: 0.413907 time: 0.005\n",
            "[9,    22] loss: 0.480859 time: 0.007\n",
            "[9,    23] loss: 0.510064 time: 0.013\n",
            "[9,    24] loss: 0.377240 time: 0.008\n",
            "[9,    25] loss: 0.715124 time: 0.005\n",
            "[9,    26] loss: 0.542184 time: 0.005\n",
            "[9,    27] loss: 0.701591 time: 0.005\n",
            "[9,    28] loss: 0.669219 time: 0.005\n",
            "Epoch 10\n",
            "-------------------------------\n",
            "[10,     1] loss: 0.667367 time: 0.022\n",
            "[10,     2] loss: 0.654026 time: 0.005\n",
            "[10,     3] loss: 0.623169 time: 0.007\n",
            "[10,     4] loss: 0.376262 time: 0.007\n",
            "[10,     5] loss: 0.474128 time: 0.010\n",
            "[10,     6] loss: 0.509672 time: 0.005\n",
            "[10,     7] loss: 0.542101 time: 0.005\n",
            "[10,     8] loss: 0.428353 time: 0.007\n",
            "[10,     9] loss: 0.429225 time: 0.005\n",
            "[10,    10] loss: 0.577873 time: 0.010\n",
            "[10,    11] loss: 0.592766 time: 0.005\n",
            "[10,    12] loss: 0.600424 time: 0.005\n",
            "[10,    13] loss: 0.541574 time: 0.005\n",
            "[10,    14] loss: 0.553365 time: 0.005\n",
            "[10,    15] loss: 0.570808 time: 0.008\n",
            "[10,    16] loss: 0.548082 time: 0.008\n",
            "[10,    17] loss: 0.487775 time: 0.005\n",
            "[10,    18] loss: 0.348296 time: 0.006\n",
            "[10,    19] loss: 0.603662 time: 0.005\n",
            "[10,    20] loss: 0.658725 time: 0.005\n",
            "[10,    21] loss: 0.396750 time: 0.008\n",
            "[10,    22] loss: 0.417577 time: 0.005\n",
            "[10,    23] loss: 0.490076 time: 0.005\n",
            "[10,    24] loss: 0.685661 time: 0.005\n",
            "[10,    25] loss: 0.681236 time: 0.005\n",
            "[10,    26] loss: 0.265704 time: 0.009\n",
            "[10,    27] loss: 0.684553 time: 0.005\n",
            "[10,    28] loss: 0.409182 time: 0.005\n",
            "Epoch 11\n",
            "-------------------------------\n",
            "[11,     1] loss: 0.558549 time: 0.005\n",
            "[11,     2] loss: 0.517097 time: 0.006\n",
            "[11,     3] loss: 0.634654 time: 0.005\n",
            "[11,     4] loss: 0.377133 time: 0.005\n",
            "[11,     5] loss: 0.419213 time: 0.010\n",
            "[11,     6] loss: 0.484694 time: 0.009\n",
            "[11,     7] loss: 0.455218 time: 0.009\n",
            "[11,     8] loss: 0.579648 time: 0.005\n",
            "[11,     9] loss: 0.587526 time: 0.008\n",
            "[11,    10] loss: 0.401115 time: 0.014\n",
            "[11,    11] loss: 0.618643 time: 0.017\n",
            "[11,    12] loss: 0.420090 time: 0.014\n",
            "[11,    13] loss: 0.530070 time: 0.013\n",
            "[11,    14] loss: 0.618633 time: 0.020\n",
            "[11,    15] loss: 0.435629 time: 0.007\n",
            "[11,    16] loss: 0.491177 time: 0.005\n",
            "[11,    17] loss: 0.469008 time: 0.006\n",
            "[11,    18] loss: 0.617856 time: 0.005\n",
            "[11,    19] loss: 0.599940 time: 0.005\n",
            "[11,    20] loss: 0.604167 time: 0.005\n",
            "[11,    21] loss: 0.463024 time: 0.014\n",
            "[11,    22] loss: 0.459849 time: 0.009\n",
            "[11,    23] loss: 0.604660 time: 0.008\n",
            "[11,    24] loss: 0.620105 time: 0.004\n",
            "[11,    25] loss: 0.603128 time: 0.005\n",
            "[11,    26] loss: 0.561930 time: 0.008\n",
            "[11,    27] loss: 0.612085 time: 0.005\n",
            "[11,    28] loss: 0.573228 time: 0.005\n",
            "Epoch 12\n",
            "-------------------------------\n",
            "[12,     1] loss: 0.434491 time: 0.014\n",
            "[12,     2] loss: 0.420501 time: 0.007\n",
            "[12,     3] loss: 0.412942 time: 0.016\n",
            "[12,     4] loss: 0.303639 time: 0.010\n",
            "[12,     5] loss: 0.595507 time: 0.005\n",
            "[12,     6] loss: 0.433887 time: 0.005\n",
            "[12,     7] loss: 0.306802 time: 0.008\n",
            "[12,     8] loss: 0.437435 time: 0.006\n",
            "[12,     9] loss: 0.272028 time: 0.009\n",
            "[12,    10] loss: 0.709918 time: 0.004\n",
            "[12,    11] loss: 0.770100 time: 0.006\n",
            "[12,    12] loss: 0.586464 time: 0.005\n",
            "[12,    13] loss: 0.376534 time: 0.006\n",
            "[12,    14] loss: 0.758591 time: 0.011\n",
            "[12,    15] loss: 0.743878 time: 0.005\n",
            "[12,    16] loss: 0.599350 time: 0.015\n",
            "[12,    17] loss: 0.606519 time: 0.013\n",
            "[12,    18] loss: 0.658222 time: 0.011\n",
            "[12,    19] loss: 0.661779 time: 0.005\n",
            "[12,    20] loss: 0.546084 time: 0.005\n",
            "[12,    21] loss: 0.607413 time: 0.005\n",
            "[12,    22] loss: 0.517155 time: 0.009\n",
            "[12,    23] loss: 0.611264 time: 0.011\n",
            "[12,    24] loss: 0.477738 time: 0.005\n",
            "[12,    25] loss: 0.608082 time: 0.011\n",
            "[12,    26] loss: 0.605347 time: 0.008\n",
            "[12,    27] loss: 0.462421 time: 0.007\n",
            "[12,    28] loss: 0.540730 time: 0.005\n",
            "Epoch 13\n",
            "-------------------------------\n",
            "[13,     1] loss: 0.616176 time: 0.006\n",
            "[13,     2] loss: 0.599099 time: 0.014\n",
            "[13,     3] loss: 0.430352 time: 0.007\n",
            "[13,     4] loss: 0.398780 time: 0.008\n",
            "[13,     5] loss: 0.502391 time: 0.005\n",
            "[13,     6] loss: 0.474362 time: 0.007\n",
            "[13,     7] loss: 0.296698 time: 0.009\n",
            "[13,     8] loss: 0.365747 time: 0.008\n",
            "[13,     9] loss: 0.580463 time: 0.005\n",
            "[13,    10] loss: 0.622846 time: 0.005\n",
            "[13,    11] loss: 0.373253 time: 0.005\n",
            "[13,    12] loss: 0.636319 time: 0.005\n",
            "[13,    13] loss: 0.385304 time: 0.005\n",
            "[13,    14] loss: 0.309837 time: 0.006\n",
            "[13,    15] loss: 0.646559 time: 0.005\n",
            "[13,    16] loss: 0.643149 time: 0.005\n",
            "[13,    17] loss: 0.424417 time: 0.005\n",
            "[13,    18] loss: 0.504164 time: 0.010\n",
            "[13,    19] loss: 0.321309 time: 0.009\n",
            "[13,    20] loss: 0.614470 time: 0.005\n",
            "[13,    21] loss: 0.650755 time: 0.005\n",
            "[13,    22] loss: 0.626388 time: 0.006\n",
            "[13,    23] loss: 0.550222 time: 0.012\n",
            "[13,    24] loss: 0.516361 time: 0.011\n",
            "[13,    25] loss: 0.611358 time: 0.011\n",
            "[13,    26] loss: 0.554757 time: 0.012\n",
            "[13,    27] loss: 0.448263 time: 0.010\n",
            "[13,    28] loss: 0.551834 time: 0.011\n",
            "Epoch 14\n",
            "-------------------------------\n",
            "[14,     1] loss: 0.427234 time: 0.007\n",
            "[14,     2] loss: 0.554708 time: 0.005\n",
            "[14,     3] loss: 0.514961 time: 0.005\n",
            "[14,     4] loss: 0.602885 time: 0.005\n",
            "[14,     5] loss: 0.592324 time: 0.005\n",
            "[14,     6] loss: 0.603690 time: 0.004\n",
            "[14,     7] loss: 0.520390 time: 0.005\n",
            "[14,     8] loss: 0.436102 time: 0.018\n",
            "[14,     9] loss: 0.620464 time: 0.005\n",
            "[14,    10] loss: 0.612656 time: 0.005\n",
            "[14,    11] loss: 0.606838 time: 0.005\n",
            "[14,    12] loss: 0.390334 time: 0.018\n",
            "[14,    13] loss: 0.330758 time: 0.018\n",
            "[14,    14] loss: 0.443037 time: 0.021\n",
            "[14,    15] loss: 0.607939 time: 0.009\n",
            "[14,    16] loss: 0.548635 time: 0.005\n",
            "[14,    17] loss: 0.578575 time: 0.008\n",
            "[14,    18] loss: 0.497180 time: 0.011\n",
            "[14,    19] loss: 0.452467 time: 0.005\n",
            "[14,    20] loss: 0.613296 time: 0.005\n",
            "[14,    21] loss: 0.594722 time: 0.005\n",
            "[14,    22] loss: 0.478797 time: 0.007\n",
            "[14,    23] loss: 0.428070 time: 0.005\n",
            "[14,    24] loss: 0.567609 time: 0.005\n",
            "[14,    25] loss: 0.532201 time: 0.007\n",
            "[14,    26] loss: 0.424690 time: 0.005\n",
            "[14,    27] loss: 0.443609 time: 0.008\n",
            "[14,    28] loss: 0.430002 time: 0.008\n",
            "Epoch 15\n",
            "-------------------------------\n",
            "[15,     1] loss: 0.409790 time: 0.008\n",
            "[15,     2] loss: 0.650663 time: 0.005\n",
            "[15,     3] loss: 0.651736 time: 0.005\n",
            "[15,     4] loss: 0.366281 time: 0.005\n",
            "[15,     5] loss: 0.584941 time: 0.005\n",
            "[15,     6] loss: 0.522956 time: 0.005\n",
            "[15,     7] loss: 0.653792 time: 0.005\n",
            "[15,     8] loss: 0.660309 time: 0.004\n",
            "[15,     9] loss: 0.476688 time: 0.005\n",
            "[15,    10] loss: 0.662936 time: 0.005\n",
            "[15,    11] loss: 0.454342 time: 0.007\n",
            "[15,    12] loss: 0.534776 time: 0.005\n",
            "[15,    13] loss: 0.614042 time: 0.005\n",
            "[15,    14] loss: 0.440621 time: 0.008\n",
            "[15,    15] loss: 0.457380 time: 0.008\n",
            "[15,    16] loss: 0.580187 time: 0.010\n",
            "[15,    17] loss: 0.538327 time: 0.006\n",
            "[15,    18] loss: 0.587641 time: 0.005\n",
            "[15,    19] loss: 0.599006 time: 0.005\n",
            "[15,    20] loss: 0.484620 time: 0.005\n",
            "[15,    21] loss: 0.462161 time: 0.007\n",
            "[15,    22] loss: 0.605348 time: 0.005\n",
            "[15,    23] loss: 0.592794 time: 0.005\n",
            "[15,    24] loss: 0.352594 time: 0.009\n",
            "[15,    25] loss: 0.472720 time: 0.005\n",
            "[15,    26] loss: 0.488511 time: 0.016\n",
            "[15,    27] loss: 0.536904 time: 0.006\n",
            "[15,    28] loss: 0.393912 time: 0.006\n",
            "Epoch 16\n",
            "-------------------------------\n",
            "[16,     1] loss: 0.369868 time: 0.015\n",
            "[16,     2] loss: 0.536913 time: 0.010\n",
            "[16,     3] loss: 0.510257 time: 0.011\n",
            "[16,     4] loss: 0.637832 time: 0.009\n",
            "[16,     5] loss: 0.426080 time: 0.010\n",
            "[16,     6] loss: 0.634046 time: 0.005\n",
            "[16,     7] loss: 0.491275 time: 0.008\n",
            "[16,     8] loss: 0.418657 time: 0.006\n",
            "[16,     9] loss: 0.475956 time: 0.005\n",
            "[16,    10] loss: 0.663464 time: 0.005\n",
            "[16,    11] loss: 0.652264 time: 0.005\n",
            "[16,    12] loss: 0.652059 time: 0.005\n",
            "[16,    13] loss: 0.352659 time: 0.006\n",
            "[16,    14] loss: 0.633414 time: 0.005\n",
            "[16,    15] loss: 0.578724 time: 0.006\n",
            "[16,    16] loss: 0.449454 time: 0.008\n",
            "[16,    17] loss: 0.504311 time: 0.005\n",
            "[16,    18] loss: 0.433698 time: 0.007\n",
            "[16,    19] loss: 0.425932 time: 0.006\n",
            "[16,    20] loss: 0.620725 time: 0.005\n",
            "[16,    21] loss: 0.579969 time: 0.005\n",
            "[16,    22] loss: 0.609746 time: 0.005\n",
            "[16,    23] loss: 0.500508 time: 0.008\n",
            "[16,    24] loss: 0.384973 time: 0.033\n",
            "[16,    25] loss: 0.602324 time: 0.005\n",
            "[16,    26] loss: 0.447468 time: 0.005\n",
            "[16,    27] loss: 0.552376 time: 0.005\n",
            "[16,    28] loss: 0.536801 time: 0.009\n",
            "Epoch 17\n",
            "-------------------------------\n",
            "[17,     1] loss: 0.578551 time: 0.009\n",
            "[17,     2] loss: 0.431739 time: 0.007\n",
            "[17,     3] loss: 0.622925 time: 0.006\n",
            "[17,     4] loss: 0.600173 time: 0.005\n",
            "[17,     5] loss: 0.441423 time: 0.005\n",
            "[17,     6] loss: 0.456846 time: 0.006\n",
            "[17,     7] loss: 0.471925 time: 0.006\n",
            "[17,     8] loss: 0.360414 time: 0.009\n",
            "[17,     9] loss: 0.530046 time: 0.013\n",
            "[17,    10] loss: 0.568928 time: 0.005\n",
            "[17,    11] loss: 0.417554 time: 0.013\n",
            "[17,    12] loss: 0.613832 time: 0.009\n",
            "[17,    13] loss: 0.442713 time: 0.011\n",
            "[17,    14] loss: 0.434280 time: 0.007\n",
            "[17,    15] loss: 0.617041 time: 0.006\n",
            "[17,    16] loss: 0.546147 time: 0.006\n",
            "[17,    17] loss: 0.622360 time: 0.005\n",
            "[17,    18] loss: 0.424401 time: 0.008\n",
            "[17,    19] loss: 0.490658 time: 0.005\n",
            "[17,    20] loss: 0.604690 time: 0.004\n",
            "[17,    21] loss: 0.613388 time: 0.005\n",
            "[17,    22] loss: 0.431141 time: 0.005\n",
            "[17,    23] loss: 0.533753 time: 0.005\n",
            "[17,    24] loss: 0.413758 time: 0.015\n",
            "[17,    25] loss: 0.595668 time: 0.005\n",
            "[17,    26] loss: 0.618665 time: 0.005\n",
            "[17,    27] loss: 0.505129 time: 0.005\n",
            "[17,    28] loss: 0.486681 time: 0.007\n",
            "Epoch 18\n",
            "-------------------------------\n",
            "[18,     1] loss: 0.529802 time: 0.012\n",
            "[18,     2] loss: 0.625138 time: 0.013\n",
            "[18,     3] loss: 0.501339 time: 0.006\n",
            "[18,     4] loss: 0.408404 time: 0.006\n",
            "[18,     5] loss: 0.392439 time: 0.008\n",
            "[18,     6] loss: 0.551550 time: 0.005\n",
            "[18,     7] loss: 0.650149 time: 0.005\n",
            "[18,     8] loss: 0.623398 time: 0.005\n",
            "[18,     9] loss: 0.418160 time: 0.005\n",
            "[18,    10] loss: 0.531621 time: 0.005\n",
            "[18,    11] loss: 0.400750 time: 0.005\n",
            "[18,    12] loss: 0.397233 time: 0.009\n",
            "[18,    13] loss: 0.578079 time: 0.005\n",
            "[18,    14] loss: 0.489436 time: 0.021\n",
            "[18,    15] loss: 0.625742 time: 0.005\n",
            "[18,    16] loss: 0.614657 time: 0.005\n",
            "[18,    17] loss: 0.596165 time: 0.005\n",
            "[18,    18] loss: 0.352166 time: 0.009\n",
            "[18,    19] loss: 0.498923 time: 0.005\n",
            "[18,    20] loss: 0.600338 time: 0.007\n",
            "[18,    21] loss: 0.427157 time: 0.007\n",
            "[18,    22] loss: 0.601644 time: 0.010\n",
            "[18,    23] loss: 0.591523 time: 0.011\n",
            "[18,    24] loss: 0.526032 time: 0.017\n",
            "[18,    25] loss: 0.487697 time: 0.006\n",
            "[18,    26] loss: 0.457645 time: 0.010\n",
            "[18,    27] loss: 0.577253 time: 0.005\n",
            "[18,    28] loss: 0.477356 time: 0.010\n",
            "Epoch 19\n",
            "-------------------------------\n",
            "[19,     1] loss: 0.621454 time: 0.005\n",
            "[19,     2] loss: 0.433519 time: 0.005\n",
            "[19,     3] loss: 0.548442 time: 0.005\n",
            "[19,     4] loss: 0.373376 time: 0.010\n",
            "[19,     5] loss: 0.535425 time: 0.005\n",
            "[19,     6] loss: 0.537752 time: 0.005\n",
            "[19,     7] loss: 0.482745 time: 0.005\n",
            "[19,     8] loss: 0.495621 time: 0.006\n",
            "[19,     9] loss: 0.633408 time: 0.005\n",
            "[19,    10] loss: 0.498701 time: 0.005\n",
            "[19,    11] loss: 0.611838 time: 0.005\n",
            "[19,    12] loss: 0.619584 time: 0.005\n",
            "[19,    13] loss: 0.450115 time: 0.005\n",
            "[19,    14] loss: 0.606233 time: 0.006\n",
            "[19,    15] loss: 0.572489 time: 0.007\n",
            "[19,    16] loss: 0.473996 time: 0.011\n",
            "[19,    17] loss: 0.391353 time: 0.015\n",
            "[19,    18] loss: 0.598672 time: 0.005\n",
            "[19,    19] loss: 0.529323 time: 0.005\n",
            "[19,    20] loss: 0.430560 time: 0.012\n",
            "[19,    21] loss: 0.567895 time: 0.010\n",
            "[19,    22] loss: 0.490902 time: 0.011\n",
            "[19,    23] loss: 0.469681 time: 0.006\n",
            "[19,    24] loss: 0.605709 time: 0.020\n",
            "[19,    25] loss: 0.428295 time: 0.013\n",
            "[19,    26] loss: 0.586695 time: 0.005\n",
            "[19,    27] loss: 0.609612 time: 0.030\n",
            "[19,    28] loss: 0.478194 time: 0.005\n",
            "Epoch 20\n",
            "-------------------------------\n",
            "[20,     1] loss: 0.393892 time: 0.008\n",
            "[20,     2] loss: 0.614977 time: 0.007\n",
            "[20,     3] loss: 0.505615 time: 0.005\n",
            "[20,     4] loss: 0.604246 time: 0.007\n",
            "[20,     5] loss: 0.620244 time: 0.009\n",
            "[20,     6] loss: 0.308425 time: 0.011\n",
            "[20,     7] loss: 0.552030 time: 0.005\n",
            "[20,     8] loss: 0.624947 time: 0.005\n",
            "[20,     9] loss: 0.539613 time: 0.005\n",
            "[20,    10] loss: 0.378572 time: 0.006\n",
            "[20,    11] loss: 0.623984 time: 0.009\n",
            "[20,    12] loss: 0.629670 time: 0.013\n",
            "[20,    13] loss: 0.502899 time: 0.014\n",
            "[20,    14] loss: 0.541780 time: 0.009\n",
            "[20,    15] loss: 0.602453 time: 0.007\n",
            "[20,    16] loss: 0.420427 time: 0.005\n",
            "[20,    17] loss: 0.609546 time: 0.005\n",
            "[20,    18] loss: 0.446999 time: 0.005\n",
            "[20,    19] loss: 0.516058 time: 0.006\n",
            "[20,    20] loss: 0.453115 time: 0.005\n",
            "[20,    21] loss: 0.597432 time: 0.019\n",
            "[20,    22] loss: 0.394084 time: 0.011\n",
            "[20,    23] loss: 0.575701 time: 0.005\n",
            "[20,    24] loss: 0.357722 time: 0.008\n",
            "[20,    25] loss: 0.490637 time: 0.016\n",
            "[20,    26] loss: 0.594417 time: 0.005\n",
            "[20,    27] loss: 0.345956 time: 0.008\n",
            "[20,    28] loss: 0.481228 time: 0.007\n"
          ]
        }
      ],
      "source": [
        "model = Net(vocab_size, embedding_size, hidden_size, lstm_num_layers)\n",
        "model, metrics, samples = train(model, batches, targets, start_seq, epochs, learning_rate, grad_limit, max_length, temp, device)"
      ]
    },
    {
      "cell_type": "code",
      "execution_count": 374,
      "metadata": {
        "pycharm": {
          "name": "#%%\n"
        },
        "colab": {
          "base_uri": "https://localhost:8080/",
          "height": 295
        },
        "id": "wAnmdqH-_AlQ",
        "outputId": "f1a37efc-db23-4609-f11c-35d724708648"
      },
      "outputs": [
        {
          "output_type": "display_data",
          "data": {
            "text/plain": [
              "<Figure size 432x288 with 1 Axes>"
            ],
            "image/png": "[encoded data removed]"
          },
          "metadata": {
            "needs_background": "light"
          }
        }
      ],
      "source": [
        "plt.plot(range(1, epochs + 1), metrics['loss_train'], marker='o')\n",
        "plt.xlabel('epoch')\n",
        "plt.ylabel('loss')\n",
        "plt.title('Train loss')\n",
        "plt.grid()\n",
        "plt.show()"
      ]
    },
    {
      "cell_type": "code",
      "execution_count": 375,
      "metadata": {
        "pycharm": {
          "name": "#%%\n"
        },
        "colab": {
          "base_uri": "https://localhost:8080/",
          "height": 295
        },
        "id": "dVTJ6Tgu_AlR",
        "outputId": "c3fd75e6-813d-436d-f8c7-67ae211a1b72"
      },
      "outputs": [
        {
          "output_type": "display_data",
          "data": {
            "text/plain": [
              "<Figure size 432x288 with 1 Axes>"
            ],
            "image/png": "[encoded data removed]"
          },
          "metadata": {
            "needs_background": "light"
          }
        }
      ],
      "source": [
        "plt.plot(metrics['loss_history_per_token'], marker='o')\n",
        "plt.xlabel('iteration')\n",
        "plt.ylabel('loss')\n",
        "plt.title('Train loss')\n",
        "plt.grid()\n",
        "plt.show()"
      ]
    },
    {
      "cell_type": "code",
      "execution_count": 376,
      "metadata": {
        "pycharm": {
          "name": "#%%\n"
        },
        "colab": {
          "base_uri": "https://localhost:8080/",
          "height": 295
        },
        "id": "XvyH623r_AlR",
        "outputId": "ac0d56c3-a17a-43b8-971e-fb836c16377c"
      },
      "outputs": [
        {
          "output_type": "display_data",
          "data": {
            "text/plain": [
              "<Figure size 432x288 with 1 Axes>"
            ],
            "image/png": "[encoded data removed]"
          },
          "metadata": {
            "needs_background": "light"
          }
        }
      ],
      "source": [
        "plt.plot(metrics['loss_history'], marker='o')\n",
        "plt.xlabel('iteration')\n",
        "plt.ylabel('loss')\n",
        "plt.title('Train loss')\n",
        "plt.grid()\n",
        "plt.show()"
      ]
    },
    {
      "cell_type": "code",
      "execution_count": 377,
      "metadata": {
        "pycharm": {
          "name": "#%%\n"
        },
        "colab": {
          "base_uri": "https://localhost:8080/"
        },
        "id": "osRMN0hm_AlR",
        "outputId": "951a23ca-1d61-4aa8-b322-095b3ef14acf"
      },
      "outputs": [
        {
          "output_type": "stream",
          "name": "stdout",
          "text": [
            "EPOCH 0\n",
            "(()((((((((((((((((((((()(((\n",
            "(()(((((()((()((((((((((((((\n",
            "(()\n",
            "(())((((((((((((()((()((((((\n",
            "(())((()(((()((()(((((((((((\n",
            "(())(((()((((()()))(((((((((\n",
            "(()((()(((((((((((((((((((((\n",
            "(()(((((((((((((((((((((((((\n",
            "(())((((((((())(((((((((((((\n",
            "(()(((((((((((((((((((((((((\n",
            "valid=0\n",
            "\n",
            "EPOCH 1\n",
            "(()((()\n",
            "(()()\n",
            "(())\n",
            "(()()()(((()\n",
            "(())\n",
            "(()(()\n",
            "(()()\n",
            "(())()\n",
            "(()()()()()((()\n",
            "(())()()\n",
            "valid=4\n",
            "\n",
            "EPOCH 2\n",
            "(()()\n",
            "(()()\n",
            "(())\n",
            "(()()\n",
            "(()()\n",
            "(())\n",
            "(()()\n",
            "(()()\n",
            "(()\n",
            "(())\n",
            "valid=3\n",
            "\n",
            "EPOCH 3\n",
            "(())\n",
            "(()\n",
            "(()(()\n",
            "(()\n",
            "(())\n",
            "(())\n",
            "(())\n",
            "(()()\n",
            "(())\n",
            "(()()\n",
            "valid=5\n",
            "\n",
            "EPOCH 4\n",
            "(()()\n",
            "(()()\n",
            "(())\n",
            "(()()\n",
            "(()()\n",
            "(()()\n",
            "(()()\n",
            "(()()\n",
            "(()()\n",
            "(()()\n",
            "valid=1\n",
            "\n",
            "EPOCH 5\n",
            "(()(((((((((((((((((((((((((\n",
            "(()(((((((((()\n",
            "(()(((((((((((((()\n",
            "(())\n",
            "(()(((((((((((((((((((((((((\n",
            "(())\n",
            "(()(((((((((((((()\n",
            "(())\n",
            "(()(((((((((((()\n",
            "(())\n",
            "valid=4\n",
            "\n",
            "EPOCH 6\n",
            "(()\n",
            "(())\n",
            "(()(((((((((((((((((((((()\n",
            "(()(((((((((((((((((((((((((\n",
            "(()(((((((((((((((((((((((((\n",
            "(()(((()\n",
            "(()(((((((((((((((((((((()\n",
            "(()((((((()\n",
            "(())\n",
            "(()(((((((((((((((((((((((((\n",
            "valid=2\n",
            "\n",
            "EPOCH 7\n",
            "(()()\n",
            "(()(()\n",
            "(())\n",
            "(())\n",
            "(()(()\n",
            "(())\n",
            "(()()\n",
            "(()()\n",
            "(()()\n",
            "(())\n",
            "valid=4\n",
            "\n",
            "EPOCH 8\n",
            "(()()\n",
            "(())\n",
            "(())\n",
            "(()()\n",
            "(())\n",
            "(())\n",
            "(()()\n",
            "(()()\n",
            "(())\n",
            "(()()\n",
            "valid=5\n",
            "\n",
            "EPOCH 9\n",
            "(()()\n",
            "(()()\n",
            "(()()\n",
            "(())\n",
            "(()()\n",
            "(())\n",
            "(()()\n",
            "(()()\n",
            "(())\n",
            "(())\n",
            "valid=4\n",
            "\n",
            "EPOCH 10\n",
            "(()()\n",
            "(()()\n",
            "(()()\n",
            "(()()\n",
            "(()()\n",
            "(()()\n",
            "(())\n",
            "(()()\n",
            "(()()\n",
            "(())\n",
            "valid=2\n",
            "\n",
            "EPOCH 11\n",
            "(()((((((()\n",
            "(()()\n",
            "(()((()\n",
            "(()(((((((((()\n",
            "(())\n",
            "(())\n",
            "(()()\n",
            "(())\n",
            "(()((()\n",
            "(()((((((((((((((()\n",
            "valid=3\n",
            "\n",
            "EPOCH 12\n",
            "(()()\n",
            "(()(((()\n",
            "(()((((((((((((((((((()\n",
            "(()((()\n",
            "(())\n",
            "(())\n",
            "(()()\n",
            "(()((()\n",
            "(()()\n",
            "(())\n",
            "valid=3\n",
            "\n",
            "EPOCH 13\n",
            "(()()\n",
            "(())\n",
            "(())\n",
            "(()()\n",
            "(())\n",
            "(())\n",
            "(()()\n",
            "(())\n",
            "(()()\n",
            "(()()\n",
            "valid=5\n",
            "\n",
            "EPOCH 14\n",
            "(()()\n",
            "(()()\n",
            "(()()\n",
            "(())\n",
            "(()()\n",
            "(()()\n",
            "(())\n",
            "(())\n",
            "(()()\n",
            "(())\n",
            "valid=4\n",
            "\n",
            "EPOCH 15\n",
            "(()()\n",
            "(()(()\n",
            "(()(()\n",
            "(()()\n",
            "(())\n",
            "(())\n",
            "(()()\n",
            "(()()\n",
            "(())\n",
            "(())\n",
            "valid=4\n",
            "\n",
            "EPOCH 16\n",
            "(()()\n",
            "(()()\n",
            "(())\n",
            "(()()\n",
            "(())\n",
            "(()()\n",
            "(()()\n",
            "(()()\n",
            "(()()\n",
            "(())\n",
            "valid=3\n",
            "\n",
            "EPOCH 17\n",
            "(()()\n",
            "(()()\n",
            "(()()\n",
            "(()()\n",
            "(()()\n",
            "(()()\n",
            "(()()\n",
            "(())\n",
            "(()()\n",
            "(()(()\n",
            "valid=1\n",
            "\n",
            "EPOCH 18\n",
            "(())\n",
            "(())\n",
            "(()()\n",
            "(()()\n",
            "(()()\n",
            "(())\n",
            "(()()\n",
            "(()()\n",
            "(()()\n",
            "(()()\n",
            "valid=3\n",
            "\n",
            "EPOCH 19\n",
            "(())\n",
            "(())\n",
            "(()()\n",
            "(()()\n",
            "(())\n",
            "(()()\n",
            "(()()\n",
            "(()()\n",
            "(()()\n",
            "(()()\n",
            "valid=3\n",
            "\n"
          ]
        }
      ],
      "source": [
        "for epoch, generated in samples.items():\n",
        "    print(f'EPOCH {epoch}')\n",
        "    valid = 0\n",
        "    for seq in generated:\n",
        "        print_sequence(seq)\n",
        "        if seq.count(w2i['(']) == seq.count(w2i[')']):\n",
        "          valid += 1\n",
        "    print(f'{valid=}')\n",
        "    print()"
      ]
    }
  ],
  "metadata": {
    "kernelspec": {
      "display_name": "Python 3.9.15 ('deep_learning')",
      "language": "python",
      "name": "python3"
    },
    "language_info": {
      "codemirror_mode": {
        "name": "ipython",
        "version": 3
      },
      "file_extension": ".py",
      "mimetype": "text/x-python",
      "name": "python",
      "nbconvert_exporter": "python",
      "pygments_lexer": "ipython3",
      "version": "3.9.15"
    },
    "orig_nbformat": 4,
    "vscode": {
      "interpreter": {
        "hash": "80529b423b53fd639a6f5f2af8b83afb67b7ac3506cc89d37f7746dba0566c4c"
      }
    },
    "colab": {
      "provenance": []
    },
    "accelerator": "GPU",
    "gpuClass": "standard"
  },
  "nbformat": 4,
  "nbformat_minor": 0
}