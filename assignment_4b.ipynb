{
  "nbformat": 4,
  "nbformat_minor": 0,
  "metadata": {
    "colab": {
      "provenance": []
    },
    "kernelspec": {
      "name": "python3",
      "display_name": "Python 3"
    },
    "accelerator": "GPU",
    "gpuClass": "standard",
    "widgets": {
      "application/vnd.jupyter.widget-state+json": {
        "828167e1dbcd4120808236ce39a65619": {
          "model_module": "@jupyter-widgets/controls",
          "model_name": "HBoxModel",
          "model_module_version": "1.5.0",
          "state": {
            "_dom_classes": [],
            "_model_module": "@jupyter-widgets/controls",
            "_model_module_version": "1.5.0",
            "_model_name": "HBoxModel",
            "_view_count": null,
            "_view_module": "@jupyter-widgets/controls",
            "_view_module_version": "1.5.0",
            "_view_name": "HBoxView",
            "box_style": "",
            "children": [
              "IPY_MODEL_7fa21ea2f3b848f6a15548a55130075b",
              "IPY_MODEL_7b25cd8f6ce54fae9b9c061a465baab7",
              "IPY_MODEL_80985ddcff8d4fee9c5964d946cfa94e"
            ],
            "layout": "IPY_MODEL_2c1b49e7cf7c488ab3f3905da6570314"
          }
        },
        "7fa21ea2f3b848f6a15548a55130075b": {
          "model_module": "@jupyter-widgets/controls",
          "model_name": "HTMLModel",
          "model_module_version": "1.5.0",
          "state": {
            "_dom_classes": [],
            "_model_module": "@jupyter-widgets/controls",
            "_model_module_version": "1.5.0",
            "_model_name": "HTMLModel",
            "_view_count": null,
            "_view_module": "@jupyter-widgets/controls",
            "_view_module_version": "1.5.0",
            "_view_name": "HTMLView",
            "description": "",
            "description_tooltip": null,
            "layout": "IPY_MODEL_1340df34c2a14f128784246374395035",
            "placeholder": "​",
            "style": "IPY_MODEL_4962b4f2551b4777a9542678c15a9d37",
            "value": ""
          }
        },
        "7b25cd8f6ce54fae9b9c061a465baab7": {
          "model_module": "@jupyter-widgets/controls",
          "model_name": "FloatProgressModel",
          "model_module_version": "1.5.0",
          "state": {
            "_dom_classes": [],
            "_model_module": "@jupyter-widgets/controls",
            "_model_module_version": "1.5.0",
            "_model_name": "FloatProgressModel",
            "_view_count": null,
            "_view_module": "@jupyter-widgets/controls",
            "_view_module_version": "1.5.0",
            "_view_name": "ProgressView",
            "bar_style": "success",
            "description": "",
            "description_tooltip": null,
            "layout": "IPY_MODEL_fe7a581e3a0f4536824da357aae90d34",
            "max": 1,
            "min": 0,
            "orientation": "horizontal",
            "style": "IPY_MODEL_600c9d68a3414dc897fa87d04a1a5fc9",
            "value": 1
          }
        },
        "80985ddcff8d4fee9c5964d946cfa94e": {
          "model_module": "@jupyter-widgets/controls",
          "model_name": "HTMLModel",
          "model_module_version": "1.5.0",
          "state": {
            "_dom_classes": [],
            "_model_module": "@jupyter-widgets/controls",
            "_model_module_version": "1.5.0",
            "_model_name": "HTMLModel",
            "_view_count": null,
            "_view_module": "@jupyter-widgets/controls",
            "_view_module_version": "1.5.0",
            "_view_name": "HTMLView",
            "description": "",
            "description_tooltip": null,
            "layout": "IPY_MODEL_18c3ee475dba47c1a5ede9d6904c7941",
            "placeholder": "​",
            "style": "IPY_MODEL_55765af3aca54e0db10576978a8d8ce3",
            "value": " 890/? [00:07&lt;00:00, 175.50it/s]"
          }
        },
        "2c1b49e7cf7c488ab3f3905da6570314": {
          "model_module": "@jupyter-widgets/base",
          "model_name": "LayoutModel",
          "model_module_version": "1.2.0",
          "state": {
            "_model_module": "@jupyter-widgets/base",
            "_model_module_version": "1.2.0",
            "_model_name": "LayoutModel",
            "_view_count": null,
            "_view_module": "@jupyter-widgets/base",
            "_view_module_version": "1.2.0",
            "_view_name": "LayoutView",
            "align_content": null,
            "align_items": null,
            "align_self": null,
            "border": null,
            "bottom": null,
            "display": null,
            "flex": null,
            "flex_flow": null,
            "grid_area": null,
            "grid_auto_columns": null,
            "grid_auto_flow": null,
            "grid_auto_rows": null,
            "grid_column": null,
            "grid_gap": null,
            "grid_row": null,
            "grid_template_areas": null,
            "grid_template_columns": null,
            "grid_template_rows": null,
            "height": null,
            "justify_content": null,
            "justify_items": null,
            "left": null,
            "margin": null,
            "max_height": null,
            "max_width": null,
            "min_height": null,
            "min_width": null,
            "object_fit": null,
            "object_position": null,
            "order": null,
            "overflow": null,
            "overflow_x": null,
            "overflow_y": null,
            "padding": null,
            "right": null,
            "top": null,
            "visibility": null,
            "width": null
          }
        },
        "1340df34c2a14f128784246374395035": {
          "model_module": "@jupyter-widgets/base",
          "model_name": "LayoutModel",
          "model_module_version": "1.2.0",
          "state": {
            "_model_module": "@jupyter-widgets/base",
            "_model_module_version": "1.2.0",
            "_model_name": "LayoutModel",
            "_view_count": null,
            "_view_module": "@jupyter-widgets/base",
            "_view_module_version": "1.2.0",
            "_view_name": "LayoutView",
            "align_content": null,
            "align_items": null,
            "align_self": null,
            "border": null,
            "bottom": null,
            "display": null,
            "flex": null,
            "flex_flow": null,
            "grid_area": null,
            "grid_auto_columns": null,
            "grid_auto_flow": null,
            "grid_auto_rows": null,
            "grid_column": null,
            "grid_gap": null,
            "grid_row": null,
            "grid_template_areas": null,
            "grid_template_columns": null,
            "grid_template_rows": null,
            "height": null,
            "justify_content": null,
            "justify_items": null,
            "left": null,
            "margin": null,
            "max_height": null,
            "max_width": null,
            "min_height": null,
            "min_width": null,
            "object_fit": null,
            "object_position": null,
            "order": null,
            "overflow": null,
            "overflow_x": null,
            "overflow_y": null,
            "padding": null,
            "right": null,
            "top": null,
            "visibility": null,
            "width": null
          }
        },
        "4962b4f2551b4777a9542678c15a9d37": {
          "model_module": "@jupyter-widgets/controls",
          "model_name": "DescriptionStyleModel",
          "model_module_version": "1.5.0",
          "state": {
            "_model_module": "@jupyter-widgets/controls",
            "_model_module_version": "1.5.0",
            "_model_name": "DescriptionStyleModel",
            "_view_count": null,
            "_view_module": "@jupyter-widgets/base",
            "_view_module_version": "1.2.0",
            "_view_name": "StyleView",
            "description_width": ""
          }
        },
        "fe7a581e3a0f4536824da357aae90d34": {
          "model_module": "@jupyter-widgets/base",
          "model_name": "LayoutModel",
          "model_module_version": "1.2.0",
          "state": {
            "_model_module": "@jupyter-widgets/base",
            "_model_module_version": "1.2.0",
            "_model_name": "LayoutModel",
            "_view_count": null,
            "_view_module": "@jupyter-widgets/base",
            "_view_module_version": "1.2.0",
            "_view_name": "LayoutView",
            "align_content": null,
            "align_items": null,
            "align_self": null,
            "border": null,
            "bottom": null,
            "display": null,
            "flex": null,
            "flex_flow": null,
            "grid_area": null,
            "grid_auto_columns": null,
            "grid_auto_flow": null,
            "grid_auto_rows": null,
            "grid_column": null,
            "grid_gap": null,
            "grid_row": null,
            "grid_template_areas": null,
            "grid_template_columns": null,
            "grid_template_rows": null,
            "height": null,
            "justify_content": null,
            "justify_items": null,
            "left": null,
            "margin": null,
            "max_height": null,
            "max_width": null,
            "min_height": null,
            "min_width": null,
            "object_fit": null,
            "object_position": null,
            "order": null,
            "overflow": null,
            "overflow_x": null,
            "overflow_y": null,
            "padding": null,
            "right": null,
            "top": null,
            "visibility": null,
            "width": "20px"
          }
        },
        "600c9d68a3414dc897fa87d04a1a5fc9": {
          "model_module": "@jupyter-widgets/controls",
          "model_name": "ProgressStyleModel",
          "model_module_version": "1.5.0",
          "state": {
            "_model_module": "@jupyter-widgets/controls",
            "_model_module_version": "1.5.0",
            "_model_name": "ProgressStyleModel",
            "_view_count": null,
            "_view_module": "@jupyter-widgets/base",
            "_view_module_version": "1.2.0",
            "_view_name": "StyleView",
            "bar_color": null,
            "description_width": ""
          }
        },
        "18c3ee475dba47c1a5ede9d6904c7941": {
          "model_module": "@jupyter-widgets/base",
          "model_name": "LayoutModel",
          "model_module_version": "1.2.0",
          "state": {
            "_model_module": "@jupyter-widgets/base",
            "_model_module_version": "1.2.0",
            "_model_name": "LayoutModel",
            "_view_count": null,
            "_view_module": "@jupyter-widgets/base",
            "_view_module_version": "1.2.0",
            "_view_name": "LayoutView",
            "align_content": null,
            "align_items": null,
            "align_self": null,
            "border": null,
            "bottom": null,
            "display": null,
            "flex": null,
            "flex_flow": null,
            "grid_area": null,
            "grid_auto_columns": null,
            "grid_auto_flow": null,
            "grid_auto_rows": null,
            "grid_column": null,
            "grid_gap": null,
            "grid_row": null,
            "grid_template_areas": null,
            "grid_template_columns": null,
            "grid_template_rows": null,
            "height": null,
            "justify_content": null,
            "justify_items": null,
            "left": null,
            "margin": null,
            "max_height": null,
            "max_width": null,
            "min_height": null,
            "min_width": null,
            "object_fit": null,
            "object_position": null,
            "order": null,
            "overflow": null,
            "overflow_x": null,
            "overflow_y": null,
            "padding": null,
            "right": null,
            "top": null,
            "visibility": null,
            "width": null
          }
        },
        "55765af3aca54e0db10576978a8d8ce3": {
          "model_module": "@jupyter-widgets/controls",
          "model_name": "DescriptionStyleModel",
          "model_module_version": "1.5.0",
          "state": {
            "_model_module": "@jupyter-widgets/controls",
            "_model_module_version": "1.5.0",
            "_model_name": "DescriptionStyleModel",
            "_view_count": null,
            "_view_module": "@jupyter-widgets/base",
            "_view_module_version": "1.2.0",
            "_view_name": "StyleView",
            "description_width": ""
          }
        },
        "9cae20e74bed44da93fcadf21c457fa5": {
          "model_module": "@jupyter-widgets/controls",
          "model_name": "HBoxModel",
          "model_module_version": "1.5.0",
          "state": {
            "_dom_classes": [],
            "_model_module": "@jupyter-widgets/controls",
            "_model_module_version": "1.5.0",
            "_model_name": "HBoxModel",
            "_view_count": null,
            "_view_module": "@jupyter-widgets/controls",
            "_view_module_version": "1.5.0",
            "_view_name": "HBoxView",
            "box_style": "",
            "children": [
              "IPY_MODEL_16a4faab309f4dca98da9c8cdd485977",
              "IPY_MODEL_98f0f4ca11f947309de38861368907ba",
              "IPY_MODEL_e316aa4fd6ce4830ac60a5adf13ab364"
            ],
            "layout": "IPY_MODEL_55e189b32fae4ec0a44e980c6ac36fb2"
          }
        },
        "16a4faab309f4dca98da9c8cdd485977": {
          "model_module": "@jupyter-widgets/controls",
          "model_name": "HTMLModel",
          "model_module_version": "1.5.0",
          "state": {
            "_dom_classes": [],
            "_model_module": "@jupyter-widgets/controls",
            "_model_module_version": "1.5.0",
            "_model_name": "HTMLModel",
            "_view_count": null,
            "_view_module": "@jupyter-widgets/controls",
            "_view_module_version": "1.5.0",
            "_view_name": "HTMLView",
            "description": "",
            "description_tooltip": null,
            "layout": "IPY_MODEL_17cfbc8596bf4b5a87c5228c63c9b604",
            "placeholder": "​",
            "style": "IPY_MODEL_12b5d378cc92419badccdf752a21deb3",
            "value": ""
          }
        },
        "98f0f4ca11f947309de38861368907ba": {
          "model_module": "@jupyter-widgets/controls",
          "model_name": "FloatProgressModel",
          "model_module_version": "1.5.0",
          "state": {
            "_dom_classes": [],
            "_model_module": "@jupyter-widgets/controls",
            "_model_module_version": "1.5.0",
            "_model_name": "FloatProgressModel",
            "_view_count": null,
            "_view_module": "@jupyter-widgets/controls",
            "_view_module_version": "1.5.0",
            "_view_name": "ProgressView",
            "bar_style": "success",
            "description": "",
            "description_tooltip": null,
            "layout": "IPY_MODEL_49e369bdcd6e46908b1757135b53e6cb",
            "max": 1,
            "min": 0,
            "orientation": "horizontal",
            "style": "IPY_MODEL_33b34ca7d5e442dca5af6cbf889550f0",
            "value": 1
          }
        },
        "e316aa4fd6ce4830ac60a5adf13ab364": {
          "model_module": "@jupyter-widgets/controls",
          "model_name": "HTMLModel",
          "model_module_version": "1.5.0",
          "state": {
            "_dom_classes": [],
            "_model_module": "@jupyter-widgets/controls",
            "_model_module_version": "1.5.0",
            "_model_name": "HTMLModel",
            "_view_count": null,
            "_view_module": "@jupyter-widgets/controls",
            "_view_module_version": "1.5.0",
            "_view_name": "HTMLView",
            "description": "",
            "description_tooltip": null,
            "layout": "IPY_MODEL_7c1874dc2fa444fc87d6106417a36f25",
            "placeholder": "​",
            "style": "IPY_MODEL_f1575568e20441dc937265c51498528d",
            "value": " 111/? [00:00&lt;00:00, 203.77it/s]"
          }
        },
        "55e189b32fae4ec0a44e980c6ac36fb2": {
          "model_module": "@jupyter-widgets/base",
          "model_name": "LayoutModel",
          "model_module_version": "1.2.0",
          "state": {
            "_model_module": "@jupyter-widgets/base",
            "_model_module_version": "1.2.0",
            "_model_name": "LayoutModel",
            "_view_count": null,
            "_view_module": "@jupyter-widgets/base",
            "_view_module_version": "1.2.0",
            "_view_name": "LayoutView",
            "align_content": null,
            "align_items": null,
            "align_self": null,
            "border": null,
            "bottom": null,
            "display": null,
            "flex": null,
            "flex_flow": null,
            "grid_area": null,
            "grid_auto_columns": null,
            "grid_auto_flow": null,
            "grid_auto_rows": null,
            "grid_column": null,
            "grid_gap": null,
            "grid_row": null,
            "grid_template_areas": null,
            "grid_template_columns": null,
            "grid_template_rows": null,
            "height": null,
            "justify_content": null,
            "justify_items": null,
            "left": null,
            "margin": null,
            "max_height": null,
            "max_width": null,
            "min_height": null,
            "min_width": null,
            "object_fit": null,
            "object_position": null,
            "order": null,
            "overflow": null,
            "overflow_x": null,
            "overflow_y": null,
            "padding": null,
            "right": null,
            "top": null,
            "visibility": null,
            "width": null
          }
        },
        "17cfbc8596bf4b5a87c5228c63c9b604": {
          "model_module": "@jupyter-widgets/base",
          "model_name": "LayoutModel",
          "model_module_version": "1.2.0",
          "state": {
            "_model_module": "@jupyter-widgets/base",
            "_model_module_version": "1.2.0",
            "_model_name": "LayoutModel",
            "_view_count": null,
            "_view_module": "@jupyter-widgets/base",
            "_view_module_version": "1.2.0",
            "_view_name": "LayoutView",
            "align_content": null,
            "align_items": null,
            "align_self": null,
            "border": null,
            "bottom": null,
            "display": null,
            "flex": null,
            "flex_flow": null,
            "grid_area": null,
            "grid_auto_columns": null,
            "grid_auto_flow": null,
            "grid_auto_rows": null,
            "grid_column": null,
            "grid_gap": null,
            "grid_row": null,
            "grid_template_areas": null,
            "grid_template_columns": null,
            "grid_template_rows": null,
            "height": null,
            "justify_content": null,
            "justify_items": null,
            "left": null,
            "margin": null,
            "max_height": null,
            "max_width": null,
            "min_height": null,
            "min_width": null,
            "object_fit": null,
            "object_position": null,
            "order": null,
            "overflow": null,
            "overflow_x": null,
            "overflow_y": null,
            "padding": null,
            "right": null,
            "top": null,
            "visibility": null,
            "width": null
          }
        },
        "12b5d378cc92419badccdf752a21deb3": {
          "model_module": "@jupyter-widgets/controls",
          "model_name": "DescriptionStyleModel",
          "model_module_version": "1.5.0",
          "state": {
            "_model_module": "@jupyter-widgets/controls",
            "_model_module_version": "1.5.0",
            "_model_name": "DescriptionStyleModel",
            "_view_count": null,
            "_view_module": "@jupyter-widgets/base",
            "_view_module_version": "1.2.0",
            "_view_name": "StyleView",
            "description_width": ""
          }
        },
        "49e369bdcd6e46908b1757135b53e6cb": {
          "model_module": "@jupyter-widgets/base",
          "model_name": "LayoutModel",
          "model_module_version": "1.2.0",
          "state": {
            "_model_module": "@jupyter-widgets/base",
            "_model_module_version": "1.2.0",
            "_model_name": "LayoutModel",
            "_view_count": null,
            "_view_module": "@jupyter-widgets/base",
            "_view_module_version": "1.2.0",
            "_view_name": "LayoutView",
            "align_content": null,
            "align_items": null,
            "align_self": null,
            "border": null,
            "bottom": null,
            "display": null,
            "flex": null,
            "flex_flow": null,
            "grid_area": null,
            "grid_auto_columns": null,
            "grid_auto_flow": null,
            "grid_auto_rows": null,
            "grid_column": null,
            "grid_gap": null,
            "grid_row": null,
            "grid_template_areas": null,
            "grid_template_columns": null,
            "grid_template_rows": null,
            "height": null,
            "justify_content": null,
            "justify_items": null,
            "left": null,
            "margin": null,
            "max_height": null,
            "max_width": null,
            "min_height": null,
            "min_width": null,
            "object_fit": null,
            "object_position": null,
            "order": null,
            "overflow": null,
            "overflow_x": null,
            "overflow_y": null,
            "padding": null,
            "right": null,
            "top": null,
            "visibility": null,
            "width": "20px"
          }
        },
        "33b34ca7d5e442dca5af6cbf889550f0": {
          "model_module": "@jupyter-widgets/controls",
          "model_name": "ProgressStyleModel",
          "model_module_version": "1.5.0",
          "state": {
            "_model_module": "@jupyter-widgets/controls",
            "_model_module_version": "1.5.0",
            "_model_name": "ProgressStyleModel",
            "_view_count": null,
            "_view_module": "@jupyter-widgets/base",
            "_view_module_version": "1.2.0",
            "_view_name": "StyleView",
            "bar_color": null,
            "description_width": ""
          }
        },
        "7c1874dc2fa444fc87d6106417a36f25": {
          "model_module": "@jupyter-widgets/base",
          "model_name": "LayoutModel",
          "model_module_version": "1.2.0",
          "state": {
            "_model_module": "@jupyter-widgets/base",
            "_model_module_version": "1.2.0",
            "_model_name": "LayoutModel",
            "_view_count": null,
            "_view_module": "@jupyter-widgets/base",
            "_view_module_version": "1.2.0",
            "_view_name": "LayoutView",
            "align_content": null,
            "align_items": null,
            "align_self": null,
            "border": null,
            "bottom": null,
            "display": null,
            "flex": null,
            "flex_flow": null,
            "grid_area": null,
            "grid_auto_columns": null,
            "grid_auto_flow": null,
            "grid_auto_rows": null,
            "grid_column": null,
            "grid_gap": null,
            "grid_row": null,
            "grid_template_areas": null,
            "grid_template_columns": null,
            "grid_template_rows": null,
            "height": null,
            "justify_content": null,
            "justify_items": null,
            "left": null,
            "margin": null,
            "max_height": null,
            "max_width": null,
            "min_height": null,
            "min_width": null,
            "object_fit": null,
            "object_position": null,
            "order": null,
            "overflow": null,
            "overflow_x": null,
            "overflow_y": null,
            "padding": null,
            "right": null,
            "top": null,
            "visibility": null,
            "width": null
          }
        },
        "f1575568e20441dc937265c51498528d": {
          "model_module": "@jupyter-widgets/controls",
          "model_name": "DescriptionStyleModel",
          "model_module_version": "1.5.0",
          "state": {
            "_model_module": "@jupyter-widgets/controls",
            "_model_module_version": "1.5.0",
            "_model_name": "DescriptionStyleModel",
            "_view_count": null,
            "_view_module": "@jupyter-widgets/base",
            "_view_module_version": "1.2.0",
            "_view_name": "StyleView",
            "description_width": ""
          }
        },
        "55dea0ee516a4669af3dba0829ede82b": {
          "model_module": "@jupyter-widgets/controls",
          "model_name": "HBoxModel",
          "model_module_version": "1.5.0",
          "state": {
            "_dom_classes": [],
            "_model_module": "@jupyter-widgets/controls",
            "_model_module_version": "1.5.0",
            "_model_name": "HBoxModel",
            "_view_count": null,
            "_view_module": "@jupyter-widgets/controls",
            "_view_module_version": "1.5.0",
            "_view_name": "HBoxView",
            "box_style": "",
            "children": [
              "IPY_MODEL_969ed5362dc04865824ce6610b4ad315",
              "IPY_MODEL_ea893bdb0eb246bd86e674be77a0aa62",
              "IPY_MODEL_d4facb0ba8a84acfb6a427ef9190683c"
            ],
            "layout": "IPY_MODEL_d3fa8cd9a6414ea1a0c15b2d4dd59825"
          }
        },
        "969ed5362dc04865824ce6610b4ad315": {
          "model_module": "@jupyter-widgets/controls",
          "model_name": "HTMLModel",
          "model_module_version": "1.5.0",
          "state": {
            "_dom_classes": [],
            "_model_module": "@jupyter-widgets/controls",
            "_model_module_version": "1.5.0",
            "_model_name": "HTMLModel",
            "_view_count": null,
            "_view_module": "@jupyter-widgets/controls",
            "_view_module_version": "1.5.0",
            "_view_name": "HTMLView",
            "description": "",
            "description_tooltip": null,
            "layout": "IPY_MODEL_4bda35f5016c4cfaa1b3ae18d0ebefa5",
            "placeholder": "​",
            "style": "IPY_MODEL_aaa9519c4fb841e2b11d059461c53039",
            "value": ""
          }
        },
        "ea893bdb0eb246bd86e674be77a0aa62": {
          "model_module": "@jupyter-widgets/controls",
          "model_name": "FloatProgressModel",
          "model_module_version": "1.5.0",
          "state": {
            "_dom_classes": [],
            "_model_module": "@jupyter-widgets/controls",
            "_model_module_version": "1.5.0",
            "_model_name": "FloatProgressModel",
            "_view_count": null,
            "_view_module": "@jupyter-widgets/controls",
            "_view_module_version": "1.5.0",
            "_view_name": "ProgressView",
            "bar_style": "success",
            "description": "",
            "description_tooltip": null,
            "layout": "IPY_MODEL_8de39f19a4b54e948e306cca2d9b9bc2",
            "max": 1,
            "min": 0,
            "orientation": "horizontal",
            "style": "IPY_MODEL_a121770b68f54c16ad543b91a4e69df0",
            "value": 1
          }
        },
        "d4facb0ba8a84acfb6a427ef9190683c": {
          "model_module": "@jupyter-widgets/controls",
          "model_name": "HTMLModel",
          "model_module_version": "1.5.0",
          "state": {
            "_dom_classes": [],
            "_model_module": "@jupyter-widgets/controls",
            "_model_module_version": "1.5.0",
            "_model_name": "HTMLModel",
            "_view_count": null,
            "_view_module": "@jupyter-widgets/controls",
            "_view_module_version": "1.5.0",
            "_view_name": "HTMLView",
            "description": "",
            "description_tooltip": null,
            "layout": "IPY_MODEL_6afb94060e26449dab6e018c2e93bd33",
            "placeholder": "​",
            "style": "IPY_MODEL_f3ff73354fe04c419aa95708095dca1f",
            "value": " 112/? [00:00&lt;00:00, 193.53it/s]"
          }
        },
        "d3fa8cd9a6414ea1a0c15b2d4dd59825": {
          "model_module": "@jupyter-widgets/base",
          "model_name": "LayoutModel",
          "model_module_version": "1.2.0",
          "state": {
            "_model_module": "@jupyter-widgets/base",
            "_model_module_version": "1.2.0",
            "_model_name": "LayoutModel",
            "_view_count": null,
            "_view_module": "@jupyter-widgets/base",
            "_view_module_version": "1.2.0",
            "_view_name": "LayoutView",
            "align_content": null,
            "align_items": null,
            "align_self": null,
            "border": null,
            "bottom": null,
            "display": null,
            "flex": null,
            "flex_flow": null,
            "grid_area": null,
            "grid_auto_columns": null,
            "grid_auto_flow": null,
            "grid_auto_rows": null,
            "grid_column": null,
            "grid_gap": null,
            "grid_row": null,
            "grid_template_areas": null,
            "grid_template_columns": null,
            "grid_template_rows": null,
            "height": null,
            "justify_content": null,
            "justify_items": null,
            "left": null,
            "margin": null,
            "max_height": null,
            "max_width": null,
            "min_height": null,
            "min_width": null,
            "object_fit": null,
            "object_position": null,
            "order": null,
            "overflow": null,
            "overflow_x": null,
            "overflow_y": null,
            "padding": null,
            "right": null,
            "top": null,
            "visibility": null,
            "width": null
          }
        },
        "4bda35f5016c4cfaa1b3ae18d0ebefa5": {
          "model_module": "@jupyter-widgets/base",
          "model_name": "LayoutModel",
          "model_module_version": "1.2.0",
          "state": {
            "_model_module": "@jupyter-widgets/base",
            "_model_module_version": "1.2.0",
            "_model_name": "LayoutModel",
            "_view_count": null,
            "_view_module": "@jupyter-widgets/base",
            "_view_module_version": "1.2.0",
            "_view_name": "LayoutView",
            "align_content": null,
            "align_items": null,
            "align_self": null,
            "border": null,
            "bottom": null,
            "display": null,
            "flex": null,
            "flex_flow": null,
            "grid_area": null,
            "grid_auto_columns": null,
            "grid_auto_flow": null,
            "grid_auto_rows": null,
            "grid_column": null,
            "grid_gap": null,
            "grid_row": null,
            "grid_template_areas": null,
            "grid_template_columns": null,
            "grid_template_rows": null,
            "height": null,
            "justify_content": null,
            "justify_items": null,
            "left": null,
            "margin": null,
            "max_height": null,
            "max_width": null,
            "min_height": null,
            "min_width": null,
            "object_fit": null,
            "object_position": null,
            "order": null,
            "overflow": null,
            "overflow_x": null,
            "overflow_y": null,
            "padding": null,
            "right": null,
            "top": null,
            "visibility": null,
            "width": null
          }
        },
        "aaa9519c4fb841e2b11d059461c53039": {
          "model_module": "@jupyter-widgets/controls",
          "model_name": "DescriptionStyleModel",
          "model_module_version": "1.5.0",
          "state": {
            "_model_module": "@jupyter-widgets/controls",
            "_model_module_version": "1.5.0",
            "_model_name": "DescriptionStyleModel",
            "_view_count": null,
            "_view_module": "@jupyter-widgets/base",
            "_view_module_version": "1.2.0",
            "_view_name": "StyleView",
            "description_width": ""
          }
        },
        "8de39f19a4b54e948e306cca2d9b9bc2": {
          "model_module": "@jupyter-widgets/base",
          "model_name": "LayoutModel",
          "model_module_version": "1.2.0",
          "state": {
            "_model_module": "@jupyter-widgets/base",
            "_model_module_version": "1.2.0",
            "_model_name": "LayoutModel",
            "_view_count": null,
            "_view_module": "@jupyter-widgets/base",
            "_view_module_version": "1.2.0",
            "_view_name": "LayoutView",
            "align_content": null,
            "align_items": null,
            "align_self": null,
            "border": null,
            "bottom": null,
            "display": null,
            "flex": null,
            "flex_flow": null,
            "grid_area": null,
            "grid_auto_columns": null,
            "grid_auto_flow": null,
            "grid_auto_rows": null,
            "grid_column": null,
            "grid_gap": null,
            "grid_row": null,
            "grid_template_areas": null,
            "grid_template_columns": null,
            "grid_template_rows": null,
            "height": null,
            "justify_content": null,
            "justify_items": null,
            "left": null,
            "margin": null,
            "max_height": null,
            "max_width": null,
            "min_height": null,
            "min_width": null,
            "object_fit": null,
            "object_position": null,
            "order": null,
            "overflow": null,
            "overflow_x": null,
            "overflow_y": null,
            "padding": null,
            "right": null,
            "top": null,
            "visibility": null,
            "width": "20px"
          }
        },
        "a121770b68f54c16ad543b91a4e69df0": {
          "model_module": "@jupyter-widgets/controls",
          "model_name": "ProgressStyleModel",
          "model_module_version": "1.5.0",
          "state": {
            "_model_module": "@jupyter-widgets/controls",
            "_model_module_version": "1.5.0",
            "_model_name": "ProgressStyleModel",
            "_view_count": null,
            "_view_module": "@jupyter-widgets/base",
            "_view_module_version": "1.2.0",
            "_view_name": "StyleView",
            "bar_color": null,
            "description_width": ""
          }
        },
        "6afb94060e26449dab6e018c2e93bd33": {
          "model_module": "@jupyter-widgets/base",
          "model_name": "LayoutModel",
          "model_module_version": "1.2.0",
          "state": {
            "_model_module": "@jupyter-widgets/base",
            "_model_module_version": "1.2.0",
            "_model_name": "LayoutModel",
            "_view_count": null,
            "_view_module": "@jupyter-widgets/base",
            "_view_module_version": "1.2.0",
            "_view_name": "LayoutView",
            "align_content": null,
            "align_items": null,
            "align_self": null,
            "border": null,
            "bottom": null,
            "display": null,
            "flex": null,
            "flex_flow": null,
            "grid_area": null,
            "grid_auto_columns": null,
            "grid_auto_flow": null,
            "grid_auto_rows": null,
            "grid_column": null,
            "grid_gap": null,
            "grid_row": null,
            "grid_template_areas": null,
            "grid_template_columns": null,
            "grid_template_rows": null,
            "height": null,
            "justify_content": null,
            "justify_items": null,
            "left": null,
            "margin": null,
            "max_height": null,
            "max_width": null,
            "min_height": null,
            "min_width": null,
            "object_fit": null,
            "object_position": null,
            "order": null,
            "overflow": null,
            "overflow_x": null,
            "overflow_y": null,
            "padding": null,
            "right": null,
            "top": null,
            "visibility": null,
            "width": null
          }
        },
        "f3ff73354fe04c419aa95708095dca1f": {
          "model_module": "@jupyter-widgets/controls",
          "model_name": "DescriptionStyleModel",
          "model_module_version": "1.5.0",
          "state": {
            "_model_module": "@jupyter-widgets/controls",
            "_model_module_version": "1.5.0",
            "_model_name": "DescriptionStyleModel",
            "_view_count": null,
            "_view_module": "@jupyter-widgets/base",
            "_view_module_version": "1.2.0",
            "_view_name": "StyleView",
            "description_width": ""
          }
        }
      }
    }
  },
  "cells": [
    {
      "cell_type": "markdown",
      "metadata": {
        "id": "aJ_pmgxvGur9"
      },
      "source": [
        "# Assignment 4b - Graph Convolutional Networks\n",
        "## Deep Learning Course - Vrije Universiteit Amsterdam, 2022"
      ]
    },
    {
      "cell_type": "markdown",
      "metadata": {
        "id": "mEneMITS2agU"
      },
      "source": [
        "#### Instructions on how to use this notebook:\n",
        "\n",
        "This notebook is hosted on Google Colab. To be able to work on it, you have to create your own copy. Go to *File* and select *Save a copy in Drive*.\n",
        "\n",
        "You can also avoid using Colab entirely, and download the notebook to run it on your own machine. If you choose this, go to *File* and select *Download .ipynb*.\n",
        "\n",
        "The advantage of using Colab is that you can use a GPU. You can complete this assignment with a CPU, but it will take a bit longer. Furthermore, we encourage you to train using the GPU not only for faster training, but also to get experience with this setting. This includes moving models and tensors to the GPU and back. This experience is very valuable because for many interesting models and large datasets (like large CNNs for ImageNet, or Transformer models trained on Wikipedia), training on GPU is the only feasible way.\n",
        "\n",
        "The default Colab runtime does not have a GPU. To change this, go to *Runtime - Change runtime type*, and select *GPU* as the hardware accelerator. The GPU that you get changes according to what resources are available at the time, and its memory can go from a 5GB, to around 18GB if you are lucky. If you are curious, you can run the following in a code cell to check:\n",
        "\n",
        "```sh\n",
        "!nvidia-smi\n",
        "```\n",
        "\n",
        "Note that despite the name, Google Colab does  not support collaborative work without issues. When two or more people edit the notebook concurrently, only one version will be saved. You can choose to do group programming with one person sharing the screen with the others, or make multiple copies of the notebook to work concurrently.\n",
        "\n",
        "**Submission:** Upload your notebook in .ipynb format to Canvas. The code and answers to the questions in the notebook are sufficient, no separate report is expected. "
      ]
    },
    {
      "cell_type": "code",
      "metadata": {
        "id": "lBgoJIpdLI2Y",
        "colab": {
          "base_uri": "https://localhost:8080/"
        },
        "outputId": "04006d5d-fcf3-457b-f242-1b5c52472169"
      },
      "source": [
        "!nvidia-smi"
      ],
      "execution_count": 1,
      "outputs": [
        {
          "output_type": "stream",
          "name": "stdout",
          "text": [
            "Sat Dec 17 21:13:03 2022       \n",
            "+-----------------------------------------------------------------------------+\n",
            "| NVIDIA-SMI 460.32.03    Driver Version: 460.32.03    CUDA Version: 11.2     |\n",
            "|-------------------------------+----------------------+----------------------+\n",
            "| GPU  Name        Persistence-M| Bus-Id        Disp.A | Volatile Uncorr. ECC |\n",
            "| Fan  Temp  Perf  Pwr:Usage/Cap|         Memory-Usage | GPU-Util  Compute M. |\n",
            "|                               |                      |               MIG M. |\n",
            "|===============================+======================+======================|\n",
            "|   0  Tesla T4            Off  | 00000000:00:04.0 Off |                    0 |\n",
            "| N/A   67C    P0    29W /  70W |      0MiB / 15109MiB |      0%      Default |\n",
            "|                               |                      |                  N/A |\n",
            "+-------------------------------+----------------------+----------------------+\n",
            "                                                                               \n",
            "+-----------------------------------------------------------------------------+\n",
            "| Processes:                                                                  |\n",
            "|  GPU   GI   CI        PID   Type   Process name                  GPU Memory |\n",
            "|        ID   ID                                                   Usage      |\n",
            "|=============================================================================|\n",
            "|  No running processes found                                                 |\n",
            "+-----------------------------------------------------------------------------+\n"
          ]
        }
      ]
    },
    {
      "cell_type": "markdown",
      "metadata": {
        "id": "tsdc7fDp40rQ"
      },
      "source": [
        "### Introduction\n",
        "\n",
        "Graphs are very useful data structures that allow us to represent sets of entities and the way they are related among each other. In a graph, entities are also known as *nodes*, and any link between entities is also called an *edge*.\n",
        "\n",
        "Examples of real world objects that can be modeled as graphs are social networks, where entities are people and relations denote friendship; and molecules, where entities are atoms and relations indicate a bond between them.\n",
        "\n",
        "There has been increased interest in the recent years in the application of deep learning architectures to graph-structured data, for tasks like predicting missing relations between entities, classifying entities, and classifying graphs. This interest has been spurred by the introduction of Graph Convolutional Networks (GCNs).\n",
        "\n",
        "In this assignment, you will implement and experiment with one of the first versions of the GCN, proposed by Thomas Kipf and Max Welling in their 2017 paper, [Semi-supervised Classification with Graph Convolutional Networks](https://arxiv.org/abs/1609.02907). In particular, the goals of this assignment are to\n",
        "\n",
        "- Understand how GCNs are formulated\n",
        "- Implement the GCN using PyTorch\n",
        "- Train and evaluate a model for semi-supervised node classification in citation networks\n",
        "- Train and evaluate a model for binary classification of molecules"
      ]
    },
    {
      "cell_type": "markdown",
      "metadata": {
        "id": "RvsuVNczG6pP"
      },
      "source": [
        "### Representing graphs\n",
        "\n",
        "Suppose we have the following graph:\n",
        "\n",
        "<img src=\"https://raw.githubusercontent.com/dfdazac/dlvu-a5/main/img/01-graph.png\" width=\"200\">\n",
        "\n",
        "This is an undirected graph (since the edges have no specified direction) with 4 nodes. One way to represent the connectivity structure of the graph is by means of the **adjacency matrix**. The $i$-th row of the matrix contains a 1 in the $j$-th column, if nodes $i$ and $j$ are connected. For an undirected graph like the one above, this means that the adjacency matrix\n",
        "\n",
        "- Is symmetric (e.g. an edge between 0 and 2 is equivalent as an edge between 2 and 0)\n",
        "- Is square, of size $n\\times n$ where $n$ is the number of nodes\n",
        "\n",
        "The adjacency matrix for the graph above is then the following:\n",
        "\n",
        "$$\n",
        "A =\n",
        "\\begin{bmatrix}\n",
        "0 & 0 & 1 & 0 \\\\ \n",
        "0 & 0 & 1 & 0 \\\\\n",
        "1 & 1 & 0 & 1 \\\\\n",
        "0 & 0 & 1 & 0\n",
        "\\end{bmatrix}\n",
        "$$\n",
        "\n",
        "A second matrix of interest is the **degree matrix**. This is a diagonal matrix where the $i$-th element of the diagonal indicates the number of edges connected to node $i$. Note that these can be obtained from $A$ by summing across the columns, or the rows. For our example, the degree matrix is\n",
        "\n",
        "$$\n",
        "D = \\begin{bmatrix}\n",
        "1 & 0 & 0 & 0 \\\\ \n",
        "0 & 1 & 0 & 0 \\\\\n",
        "0 & 0 & 3 & 0 \\\\\n",
        "0 & 0 & 0 & 1\n",
        "\\end{bmatrix}\n",
        "$$\n",
        "\n",
        "For specific applications, each node in the graph will have an associated vector of features $x\\in\\mathbb{R}^c$. If our graph is a social network, then the vector of features can contain information like age, location, and musical tastes, in a specific numeric format. In the case of a molecule, the node could represent an atom and have features like the atomic mass, etc. We can lay out the features in a matrix $X\\in\\mathbb{R}^{n\\times c}$, so that the feature vector for node $i$ is in the $i$-th row."
      ]
    },
    {
      "cell_type": "markdown",
      "metadata": {
        "id": "zCEQ2ffzHCf2"
      },
      "source": [
        "### Loading a citation network\n",
        "\n",
        "To move to a real world example, we will start with the Cora dataset. This dataset represents a citation network, where nodes are scientific publications, edges denote citations between them, and features are a [bag-of-words](https://en.wikipedia.org/wiki/Bag-of-words_model) extracted from their contents.\n",
        "\n",
        "This graph contains labels for nodes, that represent a specific topic. We will use these for a node classification task.\n",
        "\n",
        "To easily load it, we will use [PyTorch Geometric](https://pytorch-geometric.readthedocs.io/en/latest/index.html) (PyG), a deep learning library for graph-structured data."
      ]
    },
    {
      "cell_type": "code",
      "metadata": {
        "id": "Yd2bTEBADt-a",
        "colab": {
          "base_uri": "https://localhost:8080/"
        },
        "outputId": "3194398b-1fc6-403e-d63d-d4fc355bad79"
      },
      "source": [
        "# Install PyTorch Geometric\n",
        "import torch\n",
        "\n",
        "print(torch.__version__)\n",
        "!pip install torch-scatter torch-sparse torch-cluster torch-spline-conv torch-geometric -f https://data.pyg.org/whl/torch-{torch.__version__}.html"
      ],
      "execution_count": 1,
      "outputs": [
        {
          "output_type": "stream",
          "name": "stdout",
          "text": [
            "1.13.0+cu116\n",
            "Looking in indexes: https://pypi.org/simple, https://us-python.pkg.dev/colab-wheels/public/simple/\n",
            "Looking in links: https://data.pyg.org/whl/torch-1.13.0+cu116.html\n",
            "Requirement already satisfied: torch-scatter in /usr/local/lib/python3.8/dist-packages (2.1.0+pt113cu116)\n",
            "Requirement already satisfied: torch-sparse in /usr/local/lib/python3.8/dist-packages (0.6.15+pt113cu116)\n",
            "Requirement already satisfied: torch-cluster in /usr/local/lib/python3.8/dist-packages (1.6.0+pt113cu116)\n",
            "Requirement already satisfied: torch-spline-conv in /usr/local/lib/python3.8/dist-packages (1.2.1+pt113cu116)\n",
            "Requirement already satisfied: torch-geometric in /usr/local/lib/python3.8/dist-packages (2.2.0)\n",
            "Requirement already satisfied: scipy in /usr/local/lib/python3.8/dist-packages (from torch-sparse) (1.7.3)\n",
            "Requirement already satisfied: requests in /usr/local/lib/python3.8/dist-packages (from torch-geometric) (2.23.0)\n",
            "Requirement already satisfied: jinja2 in /usr/local/lib/python3.8/dist-packages (from torch-geometric) (2.11.3)\n",
            "Requirement already satisfied: numpy in /usr/local/lib/python3.8/dist-packages (from torch-geometric) (1.21.6)\n",
            "Requirement already satisfied: psutil>=5.8.0 in /usr/local/lib/python3.8/dist-packages (from torch-geometric) (5.9.4)\n",
            "Requirement already satisfied: scikit-learn in /usr/local/lib/python3.8/dist-packages (from torch-geometric) (1.0.2)\n",
            "Requirement already satisfied: tqdm in /usr/local/lib/python3.8/dist-packages (from torch-geometric) (4.64.1)\n",
            "Requirement already satisfied: pyparsing in /usr/local/lib/python3.8/dist-packages (from torch-geometric) (3.0.9)\n",
            "Requirement already satisfied: MarkupSafe>=0.23 in /usr/local/lib/python3.8/dist-packages (from jinja2->torch-geometric) (2.0.1)\n",
            "Requirement already satisfied: urllib3!=1.25.0,!=1.25.1,<1.26,>=1.21.1 in /usr/local/lib/python3.8/dist-packages (from requests->torch-geometric) (1.24.3)\n",
            "Requirement already satisfied: certifi>=2017.4.17 in /usr/local/lib/python3.8/dist-packages (from requests->torch-geometric) (2022.12.7)\n",
            "Requirement already satisfied: chardet<4,>=3.0.2 in /usr/local/lib/python3.8/dist-packages (from requests->torch-geometric) (3.0.4)\n",
            "Requirement already satisfied: idna<3,>=2.5 in /usr/local/lib/python3.8/dist-packages (from requests->torch-geometric) (2.10)\n",
            "Requirement already satisfied: joblib>=0.11 in /usr/local/lib/python3.8/dist-packages (from scikit-learn->torch-geometric) (1.2.0)\n",
            "Requirement already satisfied: threadpoolctl>=2.0.0 in /usr/local/lib/python3.8/dist-packages (from scikit-learn->torch-geometric) (3.1.0)\n"
          ]
        }
      ]
    },
    {
      "cell_type": "markdown",
      "metadata": {
        "id": "V0Nvh_-qEo1q"
      },
      "source": [
        "We can now use the library to download and import the dataset. Initializing the `Planetoid` class returns a `Dataset` object that can contain multiple graphs. In this task we will only use the `Cora` dataset (the citation network) and hence, we will select only the first element."
      ]
    },
    {
      "cell_type": "code",
      "metadata": {
        "id": "vuOvwhsHD2YK",
        "outputId": "255a056a-89c8-402a-b092-4f209df37d45",
        "colab": {
          "base_uri": "https://localhost:8080/"
        }
      },
      "source": [
        "from torch_geometric.datasets import Planetoid\n",
        "data = Planetoid(root='data/Planetoid', name='Cora')[0]"
      ],
      "execution_count": 3,
      "outputs": [
        {
          "output_type": "stream",
          "name": "stderr",
          "text": [
            "Downloading https://github.com/kimiyoung/planetoid/raw/master/data/ind.cora.x\n",
            "Downloading https://github.com/kimiyoung/planetoid/raw/master/data/ind.cora.tx\n",
            "Downloading https://github.com/kimiyoung/planetoid/raw/master/data/ind.cora.allx\n",
            "Downloading https://github.com/kimiyoung/planetoid/raw/master/data/ind.cora.y\n",
            "Downloading https://github.com/kimiyoung/planetoid/raw/master/data/ind.cora.ty\n",
            "Downloading https://github.com/kimiyoung/planetoid/raw/master/data/ind.cora.ally\n",
            "Downloading https://github.com/kimiyoung/planetoid/raw/master/data/ind.cora.graph\n",
            "Downloading https://github.com/kimiyoung/planetoid/raw/master/data/ind.cora.test.index\n",
            "Processing...\n",
            "Done!\n"
          ]
        }
      ]
    },
    {
      "cell_type": "code",
      "source": [
        "if torch.cuda.is_available():\n",
        "    device = torch.device('cuda') \n",
        "else:\n",
        "    device = torch.device('cpu') \n",
        "\n",
        "device"
      ],
      "metadata": {
        "colab": {
          "base_uri": "https://localhost:8080/"
        },
        "id": "k8cyVUxyMU2t",
        "outputId": "731cc0c2-ea55-4370-953b-65071a2ccd14"
      },
      "execution_count": 3,
      "outputs": [
        {
          "output_type": "execute_result",
          "data": {
            "text/plain": [
              "device(type='cuda')"
            ]
          },
          "metadata": {},
          "execution_count": 3
        }
      ]
    },
    {
      "cell_type": "markdown",
      "metadata": {
        "id": "v4WZkoiHFyZm"
      },
      "source": [
        "\n",
        "#### Question 1 (0.25 pt)\n",
        "\n",
        "The `data` object is an instance of the `Data` class in PyG. Check the [documentation](https://pytorch-geometric.readthedocs.io/en/latest/modules/data.html) and report the following properties of the graph:\n",
        "\n",
        "- Number of nodes\n",
        "- Number of edges \n",
        "- The dimension $c$ of the feature vectors $x\\in\\mathbb{R}^c$\n",
        "- The number of targets for the classification task"
      ]
    },
    {
      "cell_type": "code",
      "metadata": {
        "id": "sjVuGJhlJC_7",
        "colab": {
          "base_uri": "https://localhost:8080/"
        },
        "outputId": "3b5576a0-d557-4e58-82d3-9331e6e4833e"
      },
      "source": [
        "print(f'Number of nodes: {data.num_nodes}')\n",
        "print(f'Number of edges: {data.num_edges}')\n",
        "print(f'Feature dimension: {data.num_node_features}')\n",
        "print(f'Number of targets: {len(torch.unique(data.y))}')\n"
      ],
      "execution_count": 6,
      "outputs": [
        {
          "output_type": "stream",
          "name": "stdout",
          "text": [
            "Number of nodes: 2708\n",
            "Number of edges: 10556\n",
            "Feature dimension: 1433\n",
            "Number of targets: 7\n"
          ]
        }
      ]
    },
    {
      "cell_type": "code",
      "source": [
        "torch.unique(data.y)"
      ],
      "metadata": {
        "colab": {
          "base_uri": "https://localhost:8080/"
        },
        "id": "ObvdCml4WSKC",
        "outputId": "534027df-5342-466a-c553-efc1d33a097a"
      },
      "execution_count": 7,
      "outputs": [
        {
          "output_type": "execute_result",
          "data": {
            "text/plain": [
              "tensor([0, 1, 2, 3, 4, 5, 6])"
            ]
          },
          "metadata": {},
          "execution_count": 7
        }
      ]
    },
    {
      "cell_type": "markdown",
      "metadata": {
        "id": "G4DrGDAuJ2YO"
      },
      "source": [
        "#### Question 2 (0.25 pt)\n",
        "\n",
        "In PyG, edges are provided in a tensor of shape (2, number of edges). You can access it via `data.edge_index`. Each column in this tensor contains the IDs for two nodes that are connected in the graph.\n",
        "\n",
        "We saw that in an undirected graph, an edge between nodes $i$ and $j$ adds a value of 1 to positions $(i, j)$ and $(j, i)$ of the adjacency matrix. Is this also true for the edge index? That is, if there is an edge $(i, j)$ in `data.edge_index`, is there also an edge for $(j, i)$? This is important to know for the next steps of the implementation."
      ]
    },
    {
      "cell_type": "code",
      "source": [
        "data.size() # size of the adjacency matrix "
      ],
      "metadata": {
        "colab": {
          "base_uri": "https://localhost:8080/"
        },
        "id": "9KzrggNc6p6-",
        "outputId": "73e12269-884d-4b56-e1b3-a1a68f6d34d2"
      },
      "execution_count": 8,
      "outputs": [
        {
          "output_type": "execute_result",
          "data": {
            "text/plain": [
              "(2708, 2708)"
            ]
          },
          "metadata": {},
          "execution_count": 8
        }
      ]
    },
    {
      "cell_type": "code",
      "source": [
        "data.num_edges"
      ],
      "metadata": {
        "colab": {
          "base_uri": "https://localhost:8080/"
        },
        "id": "RrAFgGMR6RdS",
        "outputId": "6c625efe-fbb8-4ee3-d5d6-e7122b2348b9"
      },
      "execution_count": 9,
      "outputs": [
        {
          "output_type": "execute_result",
          "data": {
            "text/plain": [
              "10556"
            ]
          },
          "metadata": {},
          "execution_count": 9
        }
      ]
    },
    {
      "cell_type": "code",
      "source": [
        "data.edge_index"
      ],
      "metadata": {
        "colab": {
          "base_uri": "https://localhost:8080/"
        },
        "id": "ZIiRVyjb6_B_",
        "outputId": "982147bc-21f0-4541-d1da-d86f275a8337"
      },
      "execution_count": 10,
      "outputs": [
        {
          "output_type": "execute_result",
          "data": {
            "text/plain": [
              "tensor([[   0,    0,    0,  ..., 2707, 2707, 2707],\n",
              "        [ 633, 1862, 2582,  ...,  598, 1473, 2706]])"
            ]
          },
          "metadata": {},
          "execution_count": 10
        }
      ]
    },
    {
      "cell_type": "code",
      "source": [
        "from collections import defaultdict\n",
        "\n",
        "node_to_edges = defaultdict(list)\n",
        "for i in range(data.num_edges):\n",
        "  node_to_edges[data.edge_index[0][i].item()].append(data.edge_index[1][i].item())"
      ],
      "metadata": {
        "id": "mjAFGMeP7ZLS"
      },
      "execution_count": 11,
      "outputs": []
    },
    {
      "cell_type": "code",
      "source": [
        "len(node_to_edges)"
      ],
      "metadata": {
        "colab": {
          "base_uri": "https://localhost:8080/"
        },
        "id": "5YD_PQS28fwO",
        "outputId": "4892d473-4885-437e-bd1f-bb6d2e215cd6"
      },
      "execution_count": 12,
      "outputs": [
        {
          "output_type": "execute_result",
          "data": {
            "text/plain": [
              "2708"
            ]
          },
          "metadata": {},
          "execution_count": 12
        }
      ]
    },
    {
      "cell_type": "code",
      "source": [
        "node_to_edges[0] # indices of node connected to node 0"
      ],
      "metadata": {
        "colab": {
          "base_uri": "https://localhost:8080/"
        },
        "id": "IP4qA8PA9OSv",
        "outputId": "1c3eb6e1-b6ba-4fea-9175-2e05c5f1dc0f"
      },
      "execution_count": 13,
      "outputs": [
        {
          "output_type": "execute_result",
          "data": {
            "text/plain": [
              "[633, 1862, 2582]"
            ]
          },
          "metadata": {},
          "execution_count": 13
        }
      ]
    },
    {
      "cell_type": "code",
      "source": [
        "for i, nodes in node_to_edges.items():\n",
        "  for j in nodes:\n",
        "    if i not in node_to_edges[j]:\n",
        "      print(f'There is no ({j}, {i}) edge!')"
      ],
      "metadata": {
        "id": "fuQLbiGQ8mKG"
      },
      "execution_count": 14,
      "outputs": []
    },
    {
      "cell_type": "markdown",
      "metadata": {
        "id": "YOpS3QTYiOqp"
      },
      "source": [
        "#### Question 3 (0.5 pt)\n",
        "\n",
        "In graphs, especially large ones, the adjacency matrix is **sparse**: most entries are zero. Sparse matrices allow for efficient storage and computation.\n",
        "\n",
        "To prepare and pre-process sparse matrices, we will use [`scipy.sparse`](https://docs.scipy.org/doc/scipy/reference/sparse.html). Once the matrices are ready, we will convert them to PyTorch tensors.\n",
        "\n",
        "We will use the [Sparse COO format](https://en.wikipedia.org/wiki/Sparse_matrix#Coordinate_list_(COO)). We encourage you to first get familiar with how it works after continuing with the assignment.\n",
        "\n",
        "- Use the [`scipy.sparse.coo_matrix()`](https://docs.scipy.org/doc/scipy/reference/generated/scipy.sparse.coo_matrix.html) function to build the adjacency matrix. Think of what arguments are needed, and how you can obtain them from the graph data loaded above.\n",
        "- Use the `sum()` method of sparse matrices, together with `scipy.sparse.diags()`, to compute the degree matrix using the definition above.\n",
        "\n",
        "Both resulting matrices must be sparse of type `float32`."
      ]
    },
    {
      "cell_type": "code",
      "source": [
        "import scipy"
      ],
      "metadata": {
        "id": "9ZCS_EYa9vOw"
      },
      "execution_count": 4,
      "outputs": []
    },
    {
      "cell_type": "code",
      "metadata": {
        "id": "QC01OjbJs92-"
      },
      "source": [
        "rows = data.edge_index[0]\n",
        "cols = data.edge_index[1]\n",
        "d = [1 for _ in range(data.num_edges)]"
      ],
      "execution_count": 16,
      "outputs": []
    },
    {
      "cell_type": "markdown",
      "source": [
        "Adjacency matrix"
      ],
      "metadata": {
        "id": "y-dnIqN4_-nx"
      }
    },
    {
      "cell_type": "code",
      "source": [
        "adj_matrix = scipy.sparse.coo_matrix((d, (rows, cols)), shape=data.size())\n",
        "adj_matrix.toarray()"
      ],
      "metadata": {
        "colab": {
          "base_uri": "https://localhost:8080/"
        },
        "id": "5fY4Gw8G-kJ_",
        "outputId": "7c0e768c-5d30-45bd-9dac-05df7dfcb4a7"
      },
      "execution_count": 17,
      "outputs": [
        {
          "output_type": "execute_result",
          "data": {
            "text/plain": [
              "array([[0, 0, 0, ..., 0, 0, 0],\n",
              "       [0, 0, 1, ..., 0, 0, 0],\n",
              "       [0, 1, 0, ..., 0, 0, 0],\n",
              "       ...,\n",
              "       [0, 0, 0, ..., 0, 0, 0],\n",
              "       [0, 0, 0, ..., 0, 0, 1],\n",
              "       [0, 0, 0, ..., 0, 1, 0]])"
            ]
          },
          "metadata": {},
          "execution_count": 17
        }
      ]
    },
    {
      "cell_type": "code",
      "source": [
        "adj_matrix.toarray()[0, 633]"
      ],
      "metadata": {
        "colab": {
          "base_uri": "https://localhost:8080/"
        },
        "id": "jlIr0QQM-_aB",
        "outputId": "e76bb583-0eb8-46a1-e72a-67e8e2bdd1c2"
      },
      "execution_count": 18,
      "outputs": [
        {
          "output_type": "execute_result",
          "data": {
            "text/plain": [
              "1"
            ]
          },
          "metadata": {},
          "execution_count": 18
        }
      ]
    },
    {
      "cell_type": "code",
      "source": [
        "adj_matrix.toarray()[633, 0]"
      ],
      "metadata": {
        "colab": {
          "base_uri": "https://localhost:8080/"
        },
        "id": "cTpeVEOv_Q6U",
        "outputId": "f0aa9361-bbc8-470f-b1fe-bd30c61e4f1c"
      },
      "execution_count": 19,
      "outputs": [
        {
          "output_type": "execute_result",
          "data": {
            "text/plain": [
              "1"
            ]
          },
          "metadata": {},
          "execution_count": 19
        }
      ]
    },
    {
      "cell_type": "code",
      "source": [
        "sum(sum(adj_matrix.toarray()))"
      ],
      "metadata": {
        "colab": {
          "base_uri": "https://localhost:8080/"
        },
        "id": "w48RdI3r_Zb2",
        "outputId": "fc8cdf7d-1b44-45e4-8e01-1c226319ac04"
      },
      "execution_count": 20,
      "outputs": [
        {
          "output_type": "execute_result",
          "data": {
            "text/plain": [
              "10556"
            ]
          },
          "metadata": {},
          "execution_count": 20
        }
      ]
    },
    {
      "cell_type": "markdown",
      "source": [
        "Degree matrix"
      ],
      "metadata": {
        "id": "sPx4vkrz_7Dm"
      }
    },
    {
      "cell_type": "code",
      "source": [
        "deg_matrix = scipy.sparse.diags(sum(adj_matrix.toarray()))\n",
        "deg_matrix.toarray()[0][0]"
      ],
      "metadata": {
        "colab": {
          "base_uri": "https://localhost:8080/"
        },
        "id": "zc_KNRor_m-d",
        "outputId": "41db2589-5478-4b5c-8495-a6f07ca9504b"
      },
      "execution_count": 21,
      "outputs": [
        {
          "output_type": "execute_result",
          "data": {
            "text/plain": [
              "3.0"
            ]
          },
          "metadata": {},
          "execution_count": 21
        }
      ]
    },
    {
      "cell_type": "markdown",
      "metadata": {
        "id": "AIEJyQi2TzyY"
      },
      "source": [
        "You might wonder why we suggest to use a scipy sparse matrix, while also PyTorch supports them. The reason is that in the next step, we will be multiplying two sparse matrices, an operation not supported in PyTorch. PyTorch only allows multiplying a sparse matrix with a dense one, something which we will be doing at a later stage.\n",
        "\n"
      ]
    },
    {
      "cell_type": "markdown",
      "metadata": {
        "id": "YlmzSb0up4LB"
      },
      "source": [
        "### The Graph Convolutional Network\n",
        "\n",
        "The goal of the graph convolution is to take the feature vectors of all nodes $X\\in\\mathbb{R}^{n\\times c}$, and propagate them along the existing edges, to obtain updated representations $Z\\in\\mathbb{R}^{n\\times d}$.\n",
        "\n",
        "\n",
        "The GCN is initially motivated as performing a convolution, similarly as it is done in CNNs for images, for graph-structured data. In Kipf and Welling (2017), a theoretical derivation leads to the following formula:\n",
        "\n",
        "$$\n",
        "Z = \\tilde{D}^{-\\frac{1}{2}}\\tilde{A}\\tilde{D}^{-\\frac{1}{2}}XW\n",
        "$$\n",
        "\n",
        "where\n",
        "\n",
        "- $W\\in\\mathbb{R}^{c\\times d}$ is a matrix of parameters to be learned via gradient descent\n",
        "- $\\tilde{A} = A + I_n$, where $I_n$ is an $n\\times n$ identity matrix\n",
        "- $\\tilde{D}$ is the degree matrix computed with $\\tilde{A}$ as the adjacency matrix\n",
        "\n",
        "If we define $\\hat{A} = \\tilde{D}^{-\\frac{1}{2}}\\tilde{A}\\tilde{D}^{-\\frac{1}{2}}$, the graph convolution can be written as $Z = \\hat{A}XW$."
      ]
    },
    {
      "cell_type": "markdown",
      "metadata": {
        "id": "LL4b-MTvysBp"
      },
      "source": [
        "#### Question 4 (0.25 pt)\n",
        "\n",
        "Given the formula for the GCN, explain why it operates by propagating feature vectors across the graph. To answer this, it might be useful to recall the definitions of the adjacency and degree matrices, and how they are involved in the formula."
      ]
    },
    {
      "cell_type": "markdown",
      "metadata": {
        "id": "Vgx2SkTTyiSN"
      },
      "source": [
        "- Adjacency matrix - matrix of connections (including self-connection)\n",
        "- Degree matrix - diag matrix with the amount of nodes connected to the node (including self-connection)\n",
        "\n",
        "This approach allows us to aggregate information not only from our current node (for this reason we added identity matrix to A), but also from the neighbours. Matrices D^(-1/2) are used as a per-neighbour normalization to adjacency matrix to have weighted sum of the value of the current node and its neighbours. It kinda simulates the behavioe of concolution layer - gathering info from neighbours."
      ]
    },
    {
      "cell_type": "markdown",
      "metadata": {
        "id": "QUGABEqxylsd"
      },
      "source": [
        "#### Question 5 (0.5 pt)\n",
        "\n",
        "Compute the **normalized adjacency matrix** $\\hat{A}$. The result should be a sparse matrix."
      ]
    },
    {
      "cell_type": "code",
      "source": [
        "from scipy.sparse import identity\n",
        "from scipy.sparse.linalg import inv"
      ],
      "metadata": {
        "id": "Mb6zk_6pf2Sr"
      },
      "execution_count": 5,
      "outputs": []
    },
    {
      "cell_type": "code",
      "metadata": {
        "id": "GPZbnSaSyDzO",
        "colab": {
          "base_uri": "https://localhost:8080/"
        },
        "outputId": "d894ad7b-f258-4c42-ca3a-1e67f5303cd3"
      },
      "source": [
        "A_tilda = adj_matrix + identity(data.size()[0])\n",
        "D_tilda = deg_matrix + identity(data.size()[0])\n",
        "D_tilda_inv = inv(D_tilda.tocsc()).power(0.5)\n",
        "A_norm = D_tilda_inv * A_tilda * D_tilda_inv\n",
        "A_norm = A_norm.tocoo()\n",
        "A_norm.toarray()\n"
      ],
      "execution_count": 23,
      "outputs": [
        {
          "output_type": "execute_result",
          "data": {
            "text/plain": [
              "array([[0.25      , 0.        , 0.        , ..., 0.        , 0.        ,\n",
              "        0.        ],\n",
              "       [0.        , 0.25      , 0.20412415, ..., 0.        , 0.        ,\n",
              "        0.        ],\n",
              "       [0.        , 0.20412415, 0.16666667, ..., 0.        , 0.        ,\n",
              "        0.        ],\n",
              "       ...,\n",
              "       [0.        , 0.        , 0.        , ..., 0.5       , 0.        ,\n",
              "        0.        ],\n",
              "       [0.        , 0.        , 0.        , ..., 0.        , 0.2       ,\n",
              "        0.2       ],\n",
              "       [0.        , 0.        , 0.        , ..., 0.        , 0.2       ,\n",
              "        0.2       ]])"
            ]
          },
          "metadata": {},
          "execution_count": 23
        }
      ]
    },
    {
      "cell_type": "markdown",
      "metadata": {
        "id": "LLLdGdZoMEy-"
      },
      "source": [
        "#### Question 6 (0.5 pt)\n",
        "\n",
        "So far we have used scipy to build and compute sparse matrices. Since we want to train a GCN with PyTorch, we need to convert $\\hat{A}$ into a sparse PyTorch tensor. You can do this with the [`torch.sparse_coo_tensor()`](https://pytorch.org/docs/stable/generated/torch.sparse_coo_tensor.html) function, making sure to specify `torch.float` as the type."
      ]
    },
    {
      "cell_type": "code",
      "source": [
        "import numpy as np"
      ],
      "metadata": {
        "id": "SUUCZeEvKu3W"
      },
      "execution_count": 6,
      "outputs": []
    },
    {
      "cell_type": "code",
      "source": [
        "A_norm.row"
      ],
      "metadata": {
        "colab": {
          "base_uri": "https://localhost:8080/"
        },
        "id": "Nlg61Yk6HiC-",
        "outputId": "cc3de1d7-790f-42f6-d93b-9de3cc06d3b1"
      },
      "execution_count": 25,
      "outputs": [
        {
          "output_type": "execute_result",
          "data": {
            "text/plain": [
              "array([   0,  633, 1862, ..., 1473, 2706, 2707], dtype=int32)"
            ]
          },
          "metadata": {},
          "execution_count": 25
        }
      ]
    },
    {
      "cell_type": "code",
      "source": [
        "A_norm.col"
      ],
      "metadata": {
        "colab": {
          "base_uri": "https://localhost:8080/"
        },
        "id": "njHpLv96KPlJ",
        "outputId": "d436e498-848e-4e92-eee0-66f7df89843b"
      },
      "execution_count": 26,
      "outputs": [
        {
          "output_type": "execute_result",
          "data": {
            "text/plain": [
              "array([   0,    0,    0, ..., 2707, 2707, 2707], dtype=int32)"
            ]
          },
          "metadata": {},
          "execution_count": 26
        }
      ]
    },
    {
      "cell_type": "code",
      "source": [
        "A_norm.shape"
      ],
      "metadata": {
        "colab": {
          "base_uri": "https://localhost:8080/"
        },
        "id": "he1bUyHLJdgO",
        "outputId": "043904dd-b537-46f0-94f5-eac37688c3d5"
      },
      "execution_count": 27,
      "outputs": [
        {
          "output_type": "execute_result",
          "data": {
            "text/plain": [
              "(2708, 2708)"
            ]
          },
          "metadata": {},
          "execution_count": 27
        }
      ]
    },
    {
      "cell_type": "code",
      "source": [
        "A_norm.data"
      ],
      "metadata": {
        "colab": {
          "base_uri": "https://localhost:8080/"
        },
        "id": "neRpfmsnJhXB",
        "outputId": "8da16aee-c853-45d9-9734-8e7728a7cb33"
      },
      "execution_count": 28,
      "outputs": [
        {
          "output_type": "execute_result",
          "data": {
            "text/plain": [
              "array([0.25     , 0.25     , 0.2236068, ..., 0.2      , 0.2      ,\n",
              "       0.2      ])"
            ]
          },
          "metadata": {},
          "execution_count": 28
        }
      ]
    },
    {
      "cell_type": "code",
      "metadata": {
        "id": "dgDsVHzEM32F"
      },
      "source": [
        "indices = np.array((A_norm.row, A_norm.col))\n",
        "A_norm_tensor = torch.sparse_coo_tensor(indices=indices, values=A_norm.data, size=A_norm.shape)\n",
        "A_norm_tensor = A_norm_tensor.float()"
      ],
      "execution_count": 34,
      "outputs": []
    },
    {
      "cell_type": "markdown",
      "metadata": {
        "id": "eAlRVT5aODkX"
      },
      "source": [
        "#### Question 7 (0.5 pt)\n",
        "\n",
        "We now have all the ingredients to build a GCN layer. Implement a class (inheriting from `torch.nn.Module`) with a learnable matrix of weights $W\\in\\mathbb{R}^{c\\times d}$. Make sure to\n",
        "\n",
        "- Call this class `GCNLayer`\n",
        "- The `__init__()` constructor should take as argument the number of input and output features.\n",
        "- Use `torch.nn.init.kaiming_uniform_` to initialize $W$.\n",
        "- Define the `forward` method, which takes as input $X$ and $\\hat{A}$ and returns $Z$. Note that multiplications involving the sparse matrix $\\hat{A}$ have to be done with `torch.spmm`. \n",
        "\n",
        "Once you have implemented the class, instantiate a layer with the correct number of input features for the Cora dataset, and a number of output features of your choice. Do a forward pass and report the shape of the output tensor."
      ]
    },
    {
      "cell_type": "code",
      "source": [
        "from torch import nn"
      ],
      "metadata": {
        "id": "mrsgJsd5rE-i"
      },
      "execution_count": 7,
      "outputs": []
    },
    {
      "cell_type": "code",
      "metadata": {
        "id": "JFCohhhwPpTT"
      },
      "source": [
        "class GCNLayer(nn.Module):\n",
        "  def __init__(self, input_size, output_size) -> None:\n",
        "    super().__init__()\n",
        "\n",
        "    self.input_size = input_size\n",
        "    self.output_size = output_size\n",
        "\n",
        "    self.W = nn.Parameter(\n",
        "      torch.empty(self.input_size, self.output_size, requires_grad=True), \n",
        "      requires_grad=True\n",
        "    )\n",
        "    nn.init.kaiming_uniform_(self.W)\n",
        "\n",
        "  def forward(self, x, A_norm):\n",
        "    x = torch.sparse.mm(A_norm, x)\n",
        "    output = torch.matmul(x, self.W)\n",
        "\n",
        "    return output\n"
      ],
      "execution_count": 35,
      "outputs": []
    },
    {
      "cell_type": "code",
      "source": [
        "layer = GCNLayer(data.x.shape[1], len(torch.unique(data.y))) # [2708, 1433] -> [2708, 7]"
      ],
      "metadata": {
        "id": "gdS0gii6ikTC"
      },
      "execution_count": 36,
      "outputs": []
    },
    {
      "cell_type": "code",
      "source": [
        "output = layer(data.x, A_norm_tensor)\n",
        "print(f'Output tensor shape: {output.size()}')"
      ],
      "metadata": {
        "colab": {
          "base_uri": "https://localhost:8080/"
        },
        "id": "nTasLUrrnEcy",
        "outputId": "a4b5819f-9c8a-4860-9add-7c8616c68b0b"
      },
      "execution_count": 37,
      "outputs": [
        {
          "output_type": "stream",
          "name": "stdout",
          "text": [
            "Output tensor shape: torch.Size([2708, 7])\n"
          ]
        }
      ]
    },
    {
      "cell_type": "code",
      "source": [
        "output[0]"
      ],
      "metadata": {
        "colab": {
          "base_uri": "https://localhost:8080/"
        },
        "id": "yeA7xoYfsV9-",
        "outputId": "2161781e-5e97-42f8-c2a7-b07645579be4"
      },
      "execution_count": 38,
      "outputs": [
        {
          "output_type": "execute_result",
          "data": {
            "text/plain": [
              "tensor([-1.7521, -0.5695, -0.0375, -0.3694,  1.4932, -1.1918, -0.4228],\n",
              "       grad_fn=<SelectBackward0>)"
            ]
          },
          "metadata": {},
          "execution_count": 38
        }
      ]
    },
    {
      "cell_type": "markdown",
      "metadata": {
        "id": "1ptAiizZUKaM"
      },
      "source": [
        "#### Question 8 (0.5 pt)\n",
        "\n",
        "As we have seen so far, the GCN layer implements a special type of linear transformation of the inputs. However, it is often beneficial in deep learning to stack multiple, non-linear transformations of the input features. Implement a second module class for a model with two GCN layers (use the module you implemented in the previous question).\n",
        "\n",
        "- Call this class `GCN`\n",
        "- The constructor must now take as input the number of input features, the output dimension of the first layer (this is the hidden layer), and the output dimension of the output layer.\n",
        "- In the forward pass, add a ReLU activation function after the first layer."
      ]
    },
    {
      "cell_type": "code",
      "metadata": {
        "id": "2zhyu3S9Vj3b"
      },
      "source": [
        "class GCN(torch.nn.Module):\n",
        "  def __init__(self, input_size, hidden_size, output_size) -> None:\n",
        "    super().__init__()\n",
        "\n",
        "    self.input_size = input_size\n",
        "    self.hidden_size = hidden_size\n",
        "    self.output_size = output_size\n",
        "\n",
        "    self.gcn1 = GCNLayer(self.input_size, self.hidden_size)\n",
        "    self.relu = torch.nn.ReLU()\n",
        "    self.gcn2 = GCNLayer(self.hidden_size, self.output_size)\n",
        "  \n",
        "  def forward(self, x, A_norm):\n",
        "    x = self.gcn1(x, A_norm)\n",
        "    x = self.relu(x)\n",
        "    x = self.gcn2(x, A_norm)\n",
        "    \n",
        "    output = F.softmax(x, dim=-1)\n",
        "    return output\n"
      ],
      "execution_count": 39,
      "outputs": []
    },
    {
      "cell_type": "markdown",
      "metadata": {
        "id": "6NVB-3I5Wfkf"
      },
      "source": [
        "### GCNs for semi-supervised node classification\n",
        "\n",
        "Now that we have a GCN with two layers, we can test its performance in a node classification task. We will pass the input node features $X$ through the GCN layers, and the output will be of size $n\\times k$ where $k$ is the number of classes (which you found in question 1). The label denotes the topic an article in the citation network belongs to (e.g. physics, computer science, etc.)."
      ]
    },
    {
      "cell_type": "markdown",
      "metadata": {
        "id": "trc4dSa7cuQj"
      },
      "source": [
        "#### Question 9 (1.5 pt)\n",
        "\n",
        "Note that the `data` object contains all labels (for all splits) in `data.y`, and binary masks for the train, validation, and test splits in `data.train_mask`, `data.val_mask`, and `data.test_mask`, respectively. These masks are the same size as `data.y`, and indicate which labels belong to which split.\n",
        "\n",
        "- Create a GCN with two layers (using the class from the previous question), with 32 as the hidden dimension, and the number of output features equal to the number of classes in the Cora dataset.\n",
        "\n",
        "- Use the Adam optimizer with a learning rate of 0.01.\n",
        "\n",
        "- Implement a training loop for the GCN. At each step, pass $X$ and $\\hat{A}$ to the GCN to obtain the logits. Compute the mean cross-entropy loss **only for the training instances**, using the binary masks.\n",
        "\n",
        "- After each training step, evaluate the accuracy for the validation instances.\n",
        "\n",
        "- Train for 100 epochs. Once training is finished, plot the training loss and validation accuracy (in a graph in function of the epoch number), and report the accuracy in the test set.\n",
        "\n",
        "You should obtain an accuracy over 75% on both the validation and test sets. You can also compare your results with the original paper, which also contains results for the Cora dataset. Give a brief discussion on the results of your experiments.\n",
        "\n",
        "Note that in contrast with other tasks, like image classification on some datasets, we don't use mini-batches here. The whole matrix of features and the adjacency is passed to the GCN in one step."
      ]
    },
    {
      "cell_type": "code",
      "source": [
        "!pip install torchmetrics"
      ],
      "metadata": {
        "colab": {
          "base_uri": "https://localhost:8080/"
        },
        "id": "9RTqRszFz1Av",
        "outputId": "a32ef588-104c-4921-9b3f-eab675b66eee"
      },
      "execution_count": 40,
      "outputs": [
        {
          "output_type": "stream",
          "name": "stdout",
          "text": [
            "Looking in indexes: https://pypi.org/simple, https://us-python.pkg.dev/colab-wheels/public/simple/\n",
            "Collecting torchmetrics\n",
            "  Downloading torchmetrics-0.11.0-py3-none-any.whl (512 kB)\n",
            "\u001b[K     |████████████████████████████████| 512 kB 24.8 MB/s \n",
            "\u001b[?25hRequirement already satisfied: torch>=1.8.1 in /usr/local/lib/python3.8/dist-packages (from torchmetrics) (1.13.0+cu116)\n",
            "Requirement already satisfied: typing-extensions in /usr/local/lib/python3.8/dist-packages (from torchmetrics) (4.4.0)\n",
            "Requirement already satisfied: packaging in /usr/local/lib/python3.8/dist-packages (from torchmetrics) (21.3)\n",
            "Requirement already satisfied: numpy>=1.17.2 in /usr/local/lib/python3.8/dist-packages (from torchmetrics) (1.21.6)\n",
            "Requirement already satisfied: pyparsing!=3.0.5,>=2.0.2 in /usr/local/lib/python3.8/dist-packages (from packaging->torchmetrics) (3.0.9)\n",
            "Installing collected packages: torchmetrics\n",
            "Successfully installed torchmetrics-0.11.0\n"
          ]
        }
      ]
    },
    {
      "cell_type": "code",
      "source": [
        "import matplotlib.pyplot as plt\n",
        "from time import time"
      ],
      "metadata": {
        "id": "1BfarDJbuSDn"
      },
      "execution_count": 8,
      "outputs": []
    },
    {
      "cell_type": "code",
      "source": [
        "import torch.optim as optim\n",
        "import torch.nn.functional as F\n",
        "from torchmetrics.classification import MulticlassAccuracy"
      ],
      "metadata": {
        "id": "Bg9pKxTBd5SQ"
      },
      "execution_count": 9,
      "outputs": []
    },
    {
      "cell_type": "code",
      "source": [
        "input_size = data.x.shape[1]\n",
        "hidden_size = 32\n",
        "num_classes = len(torch.unique(data.y))\n",
        "\n",
        "learning_rate = 0.01\n",
        "epochs = 100"
      ],
      "metadata": {
        "id": "3ZXUtO5sY7lL"
      },
      "execution_count": 43,
      "outputs": []
    },
    {
      "cell_type": "code",
      "source": [
        "def train(model, X, y, train_mask, val_mask, A_norm, num_classes, device, \n",
        "          learning_rate=0.01, epochs=100):\n",
        "  optimizer = optim.Adam(model.parameters(), lr=learning_rate)\n",
        "  criterion = nn.CrossEntropyLoss()\n",
        "  accuracy = MulticlassAccuracy(num_classes=num_classes).to(device)\n",
        "\n",
        "  def calculate_accuracy(output, y_true):\n",
        "    # y_prob = F.softmax(output, dim=-1)\n",
        "    y_pred = torch.argmax(output, dim=-1)\n",
        "    acc = accuracy(y_pred, y_true)\n",
        "    return acc\n",
        "\n",
        "  X = X.to(device)\n",
        "  y = y.to(device)\n",
        "  A_norm = A_norm.to(device)\n",
        "\n",
        "  model.to(device)\n",
        "  model.train()\n",
        "\n",
        "  metrics = {\n",
        "    'total_loss': [],\n",
        "    'val_acc': [],\n",
        "    'train_acc': []\n",
        "  }\n",
        "\n",
        "  for epoch in range(epochs):\n",
        "    print(f\"Epoch {epoch + 1}\\n-------------------------------\")\n",
        "\n",
        "    optimizer.zero_grad()\n",
        "\n",
        "    start_time = time()\n",
        "    outputs = model(X, A_norm)\n",
        "    loss = criterion(outputs[train_mask], y[train_mask])\n",
        "    loss.backward()\n",
        "    finish_time = time()\n",
        "\n",
        "    metrics['total_loss'].append(loss.item())\n",
        "    metrics['train_acc'].append(calculate_accuracy(outputs[train_mask], y[train_mask]).cpu())\n",
        "    metrics['val_acc'].append(calculate_accuracy(outputs[val_mask], y[val_mask]).cpu())\n",
        "\n",
        "    print(f'''[{epoch + 1}] loss: {loss.item() / sum(train_mask):.6f}\n",
        "      train_acc: {metrics['train_acc'][-1]:.4f} val_acc:{metrics['val_acc'][-1]:4f} \n",
        "      time: {finish_time - start_time:.3f}\\n''')\n",
        "\n",
        "    optimizer.step()\n",
        "\n",
        "  return model, metrics"
      ],
      "metadata": {
        "id": "Kx5Q5Og1difn"
      },
      "execution_count": 72,
      "outputs": []
    },
    {
      "cell_type": "code",
      "source": [
        "model = GCN(input_size, hidden_size, num_classes)"
      ],
      "metadata": {
        "id": "ZI28I8D2hkWX"
      },
      "execution_count": 73,
      "outputs": []
    },
    {
      "cell_type": "code",
      "source": [
        "sum(data.train_mask) / len(data.y)"
      ],
      "metadata": {
        "colab": {
          "base_uri": "https://localhost:8080/"
        },
        "id": "QQ2r9k_VgTSA",
        "outputId": "1e6504b4-2e25-48d8-acb7-7ec2acb7c9c4"
      },
      "execution_count": 74,
      "outputs": [
        {
          "output_type": "execute_result",
          "data": {
            "text/plain": [
              "tensor(0.0517)"
            ]
          },
          "metadata": {},
          "execution_count": 74
        }
      ]
    },
    {
      "cell_type": "code",
      "source": [
        "sum(data.val_mask) / len(data.y)"
      ],
      "metadata": {
        "colab": {
          "base_uri": "https://localhost:8080/"
        },
        "id": "b9JIC_O1gUPU",
        "outputId": "22b05c27-7f1e-4925-cc1e-88ccf4d746f2"
      },
      "execution_count": 75,
      "outputs": [
        {
          "output_type": "execute_result",
          "data": {
            "text/plain": [
              "tensor(0.1846)"
            ]
          },
          "metadata": {},
          "execution_count": 75
        }
      ]
    },
    {
      "cell_type": "code",
      "source": [
        "sum(data.test_mask) / len(data.y)"
      ],
      "metadata": {
        "colab": {
          "base_uri": "https://localhost:8080/"
        },
        "id": "G1WCAKNggWoG",
        "outputId": "69771149-d9e8-4d40-f9d4-57e8b200e61f"
      },
      "execution_count": 76,
      "outputs": [
        {
          "output_type": "execute_result",
          "data": {
            "text/plain": [
              "tensor(0.3693)"
            ]
          },
          "metadata": {},
          "execution_count": 76
        }
      ]
    },
    {
      "cell_type": "code",
      "source": [
        "model, metrics = train(\n",
        "    model, data.x, data.y, data.train_mask, data.val_mask, \n",
        "    A_norm_tensor, num_classes, device, learning_rate, epochs\n",
        ")"
      ],
      "metadata": {
        "colab": {
          "base_uri": "https://localhost:8080/"
        },
        "id": "fUdjnNrXdnFI",
        "outputId": "74dade42-ab84-46a1-b3c4-b134d263cddb"
      },
      "execution_count": 77,
      "outputs": [
        {
          "output_type": "stream",
          "name": "stdout",
          "text": [
            "Epoch 1\n",
            "-------------------------------\n",
            "[1] loss: 0.014041\n",
            "      train_acc: 0.1000 val_acc:0.103447 \n",
            "      time: 0.005\n",
            "\n",
            "Epoch 2\n",
            "-------------------------------\n",
            "[2] loss: 0.013502\n",
            "      train_acc: 0.3357 val_acc:0.187360 \n",
            "      time: 0.005\n",
            "\n",
            "Epoch 3\n",
            "-------------------------------\n",
            "[3] loss: 0.012888\n",
            "      train_acc: 0.5286 val_acc:0.324702 \n",
            "      time: 0.005\n",
            "\n",
            "Epoch 4\n",
            "-------------------------------\n",
            "[4] loss: 0.012246\n",
            "      train_acc: 0.6786 val_acc:0.439445 \n",
            "      time: 0.005\n",
            "\n",
            "Epoch 5\n",
            "-------------------------------\n",
            "[5] loss: 0.011636\n",
            "      train_acc: 0.7429 val_acc:0.517189 \n",
            "      time: 0.005\n",
            "\n",
            "Epoch 6\n",
            "-------------------------------\n",
            "[6] loss: 0.011104\n",
            "      train_acc: 0.7714 val_acc:0.546836 \n",
            "      time: 0.005\n",
            "\n",
            "Epoch 7\n",
            "-------------------------------\n",
            "[7] loss: 0.010663\n",
            "      train_acc: 0.7857 val_acc:0.584028 \n",
            "      time: 0.005\n",
            "\n",
            "Epoch 8\n",
            "-------------------------------\n",
            "[8] loss: 0.010302\n",
            "      train_acc: 0.8214 val_acc:0.603768 \n",
            "      time: 0.005\n",
            "\n",
            "Epoch 9\n",
            "-------------------------------\n",
            "[9] loss: 0.010010\n",
            "      train_acc: 0.8357 val_acc:0.611674 \n",
            "      time: 0.005\n",
            "\n",
            "Epoch 10\n",
            "-------------------------------\n",
            "[10] loss: 0.009776\n",
            "      train_acc: 0.8571 val_acc:0.624754 \n",
            "      time: 0.006\n",
            "\n",
            "Epoch 11\n",
            "-------------------------------\n",
            "[11] loss: 0.009581\n",
            "      train_acc: 0.8571 val_acc:0.649168 \n",
            "      time: 0.005\n",
            "\n",
            "Epoch 12\n",
            "-------------------------------\n",
            "[12] loss: 0.009416\n",
            "      train_acc: 0.8714 val_acc:0.654429 \n",
            "      time: 0.005\n",
            "\n",
            "Epoch 13\n",
            "-------------------------------\n",
            "[13] loss: 0.009295\n",
            "      train_acc: 0.8786 val_acc:0.656700 \n",
            "      time: 0.005\n",
            "\n",
            "Epoch 14\n",
            "-------------------------------\n",
            "[14] loss: 0.009181\n",
            "      train_acc: 0.8929 val_acc:0.671184 \n",
            "      time: 0.005\n",
            "\n",
            "Epoch 15\n",
            "-------------------------------\n",
            "[15] loss: 0.009052\n",
            "      train_acc: 0.9214 val_acc:0.679736 \n",
            "      time: 0.005\n",
            "\n",
            "Epoch 16\n",
            "-------------------------------\n",
            "[16] loss: 0.008895\n",
            "      train_acc: 0.9357 val_acc:0.689669 \n",
            "      time: 0.005\n",
            "\n",
            "Epoch 17\n",
            "-------------------------------\n",
            "[17] loss: 0.008731\n",
            "      train_acc: 0.9714 val_acc:0.703093 \n",
            "      time: 0.005\n",
            "\n",
            "Epoch 18\n",
            "-------------------------------\n",
            "[18] loss: 0.008606\n",
            "      train_acc: 0.9786 val_acc:0.724772 \n",
            "      time: 0.005\n",
            "\n",
            "Epoch 19\n",
            "-------------------------------\n",
            "[19] loss: 0.008521\n",
            "      train_acc: 0.9929 val_acc:0.744569 \n",
            "      time: 0.005\n",
            "\n",
            "Epoch 20\n",
            "-------------------------------\n",
            "[20] loss: 0.008493\n",
            "      train_acc: 0.9929 val_acc:0.728740 \n",
            "      time: 0.006\n",
            "\n",
            "Epoch 21\n",
            "-------------------------------\n",
            "[21] loss: 0.008473\n",
            "      train_acc: 1.0000 val_acc:0.734396 \n",
            "      time: 0.005\n",
            "\n",
            "Epoch 22\n",
            "-------------------------------\n",
            "[22] loss: 0.008437\n",
            "      train_acc: 1.0000 val_acc:0.733450 \n",
            "      time: 0.005\n",
            "\n",
            "Epoch 23\n",
            "-------------------------------\n",
            "[23] loss: 0.008397\n",
            "      train_acc: 1.0000 val_acc:0.740126 \n",
            "      time: 0.005\n",
            "\n",
            "Epoch 24\n",
            "-------------------------------\n",
            "[24] loss: 0.008370\n",
            "      train_acc: 1.0000 val_acc:0.744581 \n",
            "      time: 0.005\n",
            "\n",
            "Epoch 25\n",
            "-------------------------------\n",
            "[25] loss: 0.008356\n",
            "      train_acc: 1.0000 val_acc:0.748848 \n",
            "      time: 0.005\n",
            "\n",
            "Epoch 26\n",
            "-------------------------------\n",
            "[26] loss: 0.008349\n",
            "      train_acc: 1.0000 val_acc:0.743512 \n",
            "      time: 0.005\n",
            "\n",
            "Epoch 27\n",
            "-------------------------------\n",
            "[27] loss: 0.008346\n",
            "      train_acc: 1.0000 val_acc:0.742608 \n",
            "      time: 0.005\n",
            "\n",
            "Epoch 28\n",
            "-------------------------------\n",
            "[28] loss: 0.008344\n",
            "      train_acc: 1.0000 val_acc:0.739731 \n",
            "      time: 0.005\n",
            "\n",
            "Epoch 29\n",
            "-------------------------------\n",
            "[29] loss: 0.008342\n",
            "      train_acc: 1.0000 val_acc:0.741279 \n",
            "      time: 0.005\n",
            "\n",
            "Epoch 30\n",
            "-------------------------------\n",
            "[30] loss: 0.008341\n",
            "      train_acc: 1.0000 val_acc:0.737707 \n",
            "      time: 0.005\n",
            "\n",
            "Epoch 31\n",
            "-------------------------------\n",
            "[31] loss: 0.008339\n",
            "      train_acc: 1.0000 val_acc:0.738450 \n",
            "      time: 0.005\n",
            "\n",
            "Epoch 32\n",
            "-------------------------------\n",
            "[32] loss: 0.008337\n",
            "      train_acc: 1.0000 val_acc:0.733524 \n",
            "      time: 0.005\n",
            "\n",
            "Epoch 33\n",
            "-------------------------------\n",
            "[33] loss: 0.008335\n",
            "      train_acc: 1.0000 val_acc:0.733524 \n",
            "      time: 0.005\n",
            "\n",
            "Epoch 34\n",
            "-------------------------------\n",
            "[34] loss: 0.008333\n",
            "      train_acc: 1.0000 val_acc:0.741618 \n",
            "      time: 0.005\n",
            "\n",
            "Epoch 35\n",
            "-------------------------------\n",
            "[35] loss: 0.008331\n",
            "      train_acc: 1.0000 val_acc:0.742523 \n",
            "      time: 0.005\n",
            "\n",
            "Epoch 36\n",
            "-------------------------------\n",
            "[36] loss: 0.008330\n",
            "      train_acc: 1.0000 val_acc:0.740016 \n",
            "      time: 0.005\n",
            "\n",
            "Epoch 37\n",
            "-------------------------------\n",
            "[37] loss: 0.008329\n",
            "      train_acc: 1.0000 val_acc:0.741825 \n",
            "      time: 0.005\n",
            "\n",
            "Epoch 38\n",
            "-------------------------------\n",
            "[38] loss: 0.008329\n",
            "      train_acc: 1.0000 val_acc:0.742729 \n",
            "      time: 0.009\n",
            "\n",
            "Epoch 39\n",
            "-------------------------------\n",
            "[39] loss: 0.008328\n",
            "      train_acc: 1.0000 val_acc:0.746697 \n",
            "      time: 0.005\n",
            "\n",
            "Epoch 40\n",
            "-------------------------------\n",
            "[40] loss: 0.008328\n",
            "      train_acc: 1.0000 val_acc:0.746697 \n",
            "      time: 0.006\n",
            "\n",
            "Epoch 41\n",
            "-------------------------------\n",
            "[41] loss: 0.008327\n",
            "      train_acc: 1.0000 val_acc:0.747601 \n",
            "      time: 0.005\n",
            "\n",
            "Epoch 42\n",
            "-------------------------------\n",
            "[42] loss: 0.008327\n",
            "      train_acc: 1.0000 val_acc:0.750107 \n",
            "      time: 0.005\n",
            "\n",
            "Epoch 43\n",
            "-------------------------------\n",
            "[43] loss: 0.008327\n",
            "      train_acc: 1.0000 val_acc:0.754445 \n",
            "      time: 0.005\n",
            "\n",
            "Epoch 44\n",
            "-------------------------------\n",
            "[44] loss: 0.008327\n",
            "      train_acc: 1.0000 val_acc:0.758945 \n",
            "      time: 0.005\n",
            "\n",
            "Epoch 45\n",
            "-------------------------------\n",
            "[45] loss: 0.008327\n",
            "      train_acc: 1.0000 val_acc:0.756603 \n",
            "      time: 0.005\n",
            "\n",
            "Epoch 46\n",
            "-------------------------------\n",
            "[46] loss: 0.008326\n",
            "      train_acc: 1.0000 val_acc:0.756603 \n",
            "      time: 0.005\n",
            "\n",
            "Epoch 47\n",
            "-------------------------------\n",
            "[47] loss: 0.008326\n",
            "      train_acc: 1.0000 val_acc:0.760198 \n",
            "      time: 0.005\n",
            "\n",
            "Epoch 48\n",
            "-------------------------------\n",
            "[48] loss: 0.008326\n",
            "      train_acc: 1.0000 val_acc:0.761102 \n",
            "      time: 0.005\n",
            "\n",
            "Epoch 49\n",
            "-------------------------------\n",
            "[49] loss: 0.008326\n",
            "      train_acc: 1.0000 val_acc:0.762933 \n",
            "      time: 0.005\n",
            "\n",
            "Epoch 50\n",
            "-------------------------------\n",
            "[50] loss: 0.008326\n",
            "      train_acc: 1.0000 val_acc:0.763838 \n",
            "      time: 0.005\n",
            "\n",
            "Epoch 51\n",
            "-------------------------------\n",
            "[51] loss: 0.008326\n",
            "      train_acc: 1.0000 val_acc:0.763838 \n",
            "      time: 0.005\n",
            "\n",
            "Epoch 52\n",
            "-------------------------------\n",
            "[52] loss: 0.008326\n",
            "      train_acc: 1.0000 val_acc:0.761496 \n",
            "      time: 0.005\n",
            "\n",
            "Epoch 53\n",
            "-------------------------------\n",
            "[53] loss: 0.008326\n",
            "      train_acc: 1.0000 val_acc:0.761496 \n",
            "      time: 0.005\n",
            "\n",
            "Epoch 54\n",
            "-------------------------------\n",
            "[54] loss: 0.008326\n",
            "      train_acc: 1.0000 val_acc:0.758989 \n",
            "      time: 0.005\n",
            "\n",
            "Epoch 55\n",
            "-------------------------------\n",
            "[55] loss: 0.008326\n",
            "      train_acc: 1.0000 val_acc:0.758989 \n",
            "      time: 0.005\n",
            "\n",
            "Epoch 56\n",
            "-------------------------------\n",
            "[56] loss: 0.008326\n",
            "      train_acc: 1.0000 val_acc:0.758989 \n",
            "      time: 0.005\n",
            "\n",
            "Epoch 57\n",
            "-------------------------------\n",
            "[57] loss: 0.008326\n",
            "      train_acc: 1.0000 val_acc:0.758989 \n",
            "      time: 0.005\n",
            "\n",
            "Epoch 58\n",
            "-------------------------------\n",
            "[58] loss: 0.008326\n",
            "      train_acc: 1.0000 val_acc:0.762958 \n",
            "      time: 0.005\n",
            "\n",
            "Epoch 59\n",
            "-------------------------------\n",
            "[59] loss: 0.008326\n",
            "      train_acc: 1.0000 val_acc:0.762958 \n",
            "      time: 0.005\n",
            "\n",
            "Epoch 60\n",
            "-------------------------------\n",
            "[60] loss: 0.008326\n",
            "      train_acc: 1.0000 val_acc:0.762958 \n",
            "      time: 0.005\n",
            "\n",
            "Epoch 61\n",
            "-------------------------------\n",
            "[61] loss: 0.008326\n",
            "      train_acc: 1.0000 val_acc:0.762958 \n",
            "      time: 0.005\n",
            "\n",
            "Epoch 62\n",
            "-------------------------------\n",
            "[62] loss: 0.008326\n",
            "      train_acc: 1.0000 val_acc:0.760451 \n",
            "      time: 0.005\n",
            "\n",
            "Epoch 63\n",
            "-------------------------------\n",
            "[63] loss: 0.008326\n",
            "      train_acc: 1.0000 val_acc:0.760451 \n",
            "      time: 0.005\n",
            "\n",
            "Epoch 64\n",
            "-------------------------------\n",
            "[64] loss: 0.008325\n",
            "      train_acc: 1.0000 val_acc:0.760451 \n",
            "      time: 0.005\n",
            "\n",
            "Epoch 65\n",
            "-------------------------------\n",
            "[65] loss: 0.008325\n",
            "      train_acc: 1.0000 val_acc:0.760451 \n",
            "      time: 0.005\n",
            "\n",
            "Epoch 66\n",
            "-------------------------------\n",
            "[66] loss: 0.008325\n",
            "      train_acc: 1.0000 val_acc:0.760451 \n",
            "      time: 0.005\n",
            "\n",
            "Epoch 67\n",
            "-------------------------------\n",
            "[67] loss: 0.008325\n",
            "      train_acc: 1.0000 val_acc:0.760451 \n",
            "      time: 0.005\n",
            "\n",
            "Epoch 68\n",
            "-------------------------------\n",
            "[68] loss: 0.008325\n",
            "      train_acc: 1.0000 val_acc:0.760451 \n",
            "      time: 0.005\n",
            "\n",
            "Epoch 69\n",
            "-------------------------------\n",
            "[69] loss: 0.008325\n",
            "      train_acc: 1.0000 val_acc:0.760451 \n",
            "      time: 0.005\n",
            "\n",
            "Epoch 70\n",
            "-------------------------------\n",
            "[70] loss: 0.008325\n",
            "      train_acc: 1.0000 val_acc:0.760451 \n",
            "      time: 0.005\n",
            "\n",
            "Epoch 71\n",
            "-------------------------------\n",
            "[71] loss: 0.008325\n",
            "      train_acc: 1.0000 val_acc:0.760451 \n",
            "      time: 0.005\n",
            "\n",
            "Epoch 72\n",
            "-------------------------------\n",
            "[72] loss: 0.008325\n",
            "      train_acc: 1.0000 val_acc:0.760451 \n",
            "      time: 0.005\n",
            "\n",
            "Epoch 73\n",
            "-------------------------------\n",
            "[73] loss: 0.008325\n",
            "      train_acc: 1.0000 val_acc:0.760451 \n",
            "      time: 0.005\n",
            "\n",
            "Epoch 74\n",
            "-------------------------------\n",
            "[74] loss: 0.008325\n",
            "      train_acc: 1.0000 val_acc:0.760451 \n",
            "      time: 0.005\n",
            "\n",
            "Epoch 75\n",
            "-------------------------------\n",
            "[75] loss: 0.008325\n",
            "      train_acc: 1.0000 val_acc:0.760451 \n",
            "      time: 0.005\n",
            "\n",
            "Epoch 76\n",
            "-------------------------------\n",
            "[76] loss: 0.008325\n",
            "      train_acc: 1.0000 val_acc:0.760451 \n",
            "      time: 0.005\n",
            "\n",
            "Epoch 77\n",
            "-------------------------------\n",
            "[77] loss: 0.008325\n",
            "      train_acc: 1.0000 val_acc:0.758109 \n",
            "      time: 0.005\n",
            "\n",
            "Epoch 78\n",
            "-------------------------------\n",
            "[78] loss: 0.008325\n",
            "      train_acc: 1.0000 val_acc:0.758109 \n",
            "      time: 0.005\n",
            "\n",
            "Epoch 79\n",
            "-------------------------------\n",
            "[79] loss: 0.008325\n",
            "      train_acc: 1.0000 val_acc:0.759941 \n",
            "      time: 0.005\n",
            "\n",
            "Epoch 80\n",
            "-------------------------------\n",
            "[80] loss: 0.008325\n",
            "      train_acc: 1.0000 val_acc:0.759941 \n",
            "      time: 0.005\n",
            "\n",
            "Epoch 81\n",
            "-------------------------------\n",
            "[81] loss: 0.008325\n",
            "      train_acc: 1.0000 val_acc:0.759941 \n",
            "      time: 0.005\n",
            "\n",
            "Epoch 82\n",
            "-------------------------------\n",
            "[82] loss: 0.008325\n",
            "      train_acc: 1.0000 val_acc:0.759941 \n",
            "      time: 0.005\n",
            "\n",
            "Epoch 83\n",
            "-------------------------------\n",
            "[83] loss: 0.008325\n",
            "      train_acc: 1.0000 val_acc:0.759941 \n",
            "      time: 0.005\n",
            "\n",
            "Epoch 84\n",
            "-------------------------------\n",
            "[84] loss: 0.008325\n",
            "      train_acc: 1.0000 val_acc:0.759941 \n",
            "      time: 0.005\n",
            "\n",
            "Epoch 85\n",
            "-------------------------------\n",
            "[85] loss: 0.008325\n",
            "      train_acc: 1.0000 val_acc:0.759941 \n",
            "      time: 0.005\n",
            "\n",
            "Epoch 86\n",
            "-------------------------------\n",
            "[86] loss: 0.008325\n",
            "      train_acc: 1.0000 val_acc:0.759941 \n",
            "      time: 0.005\n",
            "\n",
            "Epoch 87\n",
            "-------------------------------\n",
            "[87] loss: 0.008325\n",
            "      train_acc: 1.0000 val_acc:0.759941 \n",
            "      time: 0.005\n",
            "\n",
            "Epoch 88\n",
            "-------------------------------\n",
            "[88] loss: 0.008325\n",
            "      train_acc: 1.0000 val_acc:0.759941 \n",
            "      time: 0.005\n",
            "\n",
            "Epoch 89\n",
            "-------------------------------\n",
            "[89] loss: 0.008325\n",
            "      train_acc: 1.0000 val_acc:0.759941 \n",
            "      time: 0.005\n",
            "\n",
            "Epoch 90\n",
            "-------------------------------\n",
            "[90] loss: 0.008325\n",
            "      train_acc: 1.0000 val_acc:0.759941 \n",
            "      time: 0.005\n",
            "\n",
            "Epoch 91\n",
            "-------------------------------\n",
            "[91] loss: 0.008325\n",
            "      train_acc: 1.0000 val_acc:0.759941 \n",
            "      time: 0.005\n",
            "\n",
            "Epoch 92\n",
            "-------------------------------\n",
            "[92] loss: 0.008325\n",
            "      train_acc: 1.0000 val_acc:0.759941 \n",
            "      time: 0.005\n",
            "\n",
            "Epoch 93\n",
            "-------------------------------\n",
            "[93] loss: 0.008325\n",
            "      train_acc: 1.0000 val_acc:0.759941 \n",
            "      time: 0.005\n",
            "\n",
            "Epoch 94\n",
            "-------------------------------\n",
            "[94] loss: 0.008325\n",
            "      train_acc: 1.0000 val_acc:0.762447 \n",
            "      time: 0.005\n",
            "\n",
            "Epoch 95\n",
            "-------------------------------\n",
            "[95] loss: 0.008325\n",
            "      train_acc: 1.0000 val_acc:0.766415 \n",
            "      time: 0.005\n",
            "\n",
            "Epoch 96\n",
            "-------------------------------\n",
            "[96] loss: 0.008325\n",
            "      train_acc: 1.0000 val_acc:0.766415 \n",
            "      time: 0.005\n",
            "\n",
            "Epoch 97\n",
            "-------------------------------\n",
            "[97] loss: 0.008325\n",
            "      train_acc: 1.0000 val_acc:0.766415 \n",
            "      time: 0.005\n",
            "\n",
            "Epoch 98\n",
            "-------------------------------\n",
            "[98] loss: 0.008325\n",
            "      train_acc: 1.0000 val_acc:0.766415 \n",
            "      time: 0.005\n",
            "\n",
            "Epoch 99\n",
            "-------------------------------\n",
            "[99] loss: 0.008325\n",
            "      train_acc: 1.0000 val_acc:0.766415 \n",
            "      time: 0.005\n",
            "\n",
            "Epoch 100\n",
            "-------------------------------\n",
            "[100] loss: 0.008325\n",
            "      train_acc: 1.0000 val_acc:0.766415 \n",
            "      time: 0.005\n",
            "\n"
          ]
        }
      ]
    },
    {
      "cell_type": "code",
      "source": [
        "plt.plot(range(1, epochs+1), metrics['total_loss'])\n",
        "plt.xlabel('epoch')\n",
        "plt.ylabel('loss')\n",
        "plt.grid()\n",
        "plt.title('Train loss')\n",
        "plt.show()"
      ],
      "metadata": {
        "colab": {
          "base_uri": "https://localhost:8080/",
          "height": 295
        },
        "id": "nCNy60sNdV8-",
        "outputId": "8364e069-6985-4b84-ac54-350bf1911239"
      },
      "execution_count": 78,
      "outputs": [
        {
          "output_type": "display_data",
          "data": {
            "text/plain": [
              "<Figure size 432x288 with 1 Axes>"
            ],
            "image/png": "[encoded data removed]"
          },
          "metadata": {
            "needs_background": "light"
          }
        }
      ]
    },
    {
      "cell_type": "code",
      "source": [
        "plt.plot(range(1, epochs+1), metrics['val_acc'], label='val acc')\n",
        "plt.plot(range(1, epochs+1), metrics['train_acc'], label='train acc')\n",
        "plt.xlabel('epoch')\n",
        "plt.ylabel('accuracy')\n",
        "plt.grid()\n",
        "plt.legend()\n",
        "plt.title('Accuracy')\n",
        "plt.show()"
      ],
      "metadata": {
        "colab": {
          "base_uri": "https://localhost:8080/",
          "height": 295
        },
        "id": "-9sXieksX5v2",
        "outputId": "e4791601-25dc-4371-fda2-eb4a45253aa7"
      },
      "execution_count": 79,
      "outputs": [
        {
          "output_type": "display_data",
          "data": {
            "text/plain": [
              "<Figure size 432x288 with 1 Axes>"
            ],
            "image/png": "[encoded data removed]"
          },
          "metadata": {
            "needs_background": "light"
          }
        }
      ]
    },
    {
      "cell_type": "code",
      "source": [
        "accuracy = MulticlassAccuracy(num_classes=7).to(device)"
      ],
      "metadata": {
        "id": "bmx1SysuBcxw"
      },
      "execution_count": 80,
      "outputs": []
    },
    {
      "cell_type": "code",
      "source": [
        "model.eval()\n",
        "outputs = model(data.x.to(device), A_norm_tensor.to(device))\n",
        "y_pred = torch.argmax(outputs, dim=-1)\n",
        "acc = accuracy(y_pred[data.test_mask], data.y[data.test_mask].to(device))\n",
        "\n",
        "print(f'Test accuracy: {acc.cpu()}')"
      ],
      "metadata": {
        "colab": {
          "base_uri": "https://localhost:8080/"
        },
        "id": "l0zIraJwBCHB",
        "outputId": "0e559157-4cf5-449e-c9f0-f5e3c2b67bb7"
      },
      "execution_count": 82,
      "outputs": [
        {
          "output_type": "stream",
          "name": "stdout",
          "text": [
            "Test accuracy: 0.7755486369132996\n"
          ]
        }
      ]
    },
    {
      "cell_type": "markdown",
      "metadata": {
        "id": "vb5YjHVClCqo"
      },
      "source": [
        "#### Question 10 (0.5 pt)\n",
        "\n",
        "The paper introduces GCNs as a way to solve a *semi-supervised* classification problem.\n",
        "\n",
        "- What makes this problem semi-supervised?\n",
        "- What is the proportion of labeled data used for training with respect to labeled data in the validation and test sets? What is difference in this context with other benchmark tasks in machine learning, like image classification with MNIST?\n",
        "- Why do you think the GCN performs well in this semi-supervised scenario?"
      ]
    },
    {
      "cell_type": "markdown",
      "source": [
        "1. Adjacency matrix can contains some information tha is not present in data. Semi-supervised learning aims to classify unlabeled data by learning the graph structure and labeled data jointly. Im our case we were training model on the whole graph, but counting loss only on a subset of known labels.\n",
        "2. In absolute values: train - 20 nodes per class, val - 500 nodes, train - 1000; 5%, 18%, 36% respectively. The proportion of training set is really small in comparison with image classification. Usually we have not less than 75% of data in the training set.\n",
        "3. As we gather the information from the neighbours during learning phase, the unlabeled node also get some info about the labeled neighbour. So the model can understand that if these nodes are connected, they share some information and posibly relate to the same class.\n"
      ],
      "metadata": {
        "id": "bYBWRbreeHaL"
      }
    },
    {
      "cell_type": "markdown",
      "metadata": {
        "id": "4ihrjZddvz5d"
      },
      "source": [
        "### Loading a dataset of proteins\n",
        "\n",
        "In the previous sections you learned how to pass the adjacency matrix of a graph with a couple of thousand of nodes, to classify each node with a particular label. A different and useful application of GCNs is graph classification.\n",
        "\n",
        "In contrast with the previous part, where there was a single, big graph, in graph classification we have multiple graphs, and each graph can be assigned a label. In this part of the assignment you will implement a classifier for proteins.\n",
        "\n",
        "[Proteins](https://en.wikipedia.org/wiki/Protein_(nutrient)) are parts of the buildings block of life. They consist of chains of amino acids, and can take many shapes. In the PROTEINS dataset, proteins are represented as graphs, where the nodes are amino acids, and an edge between them indicates that they are 6 [Angstroms](https://en.wikipedia.org/wiki/Angstrom) apart. All graphs have a binary label, where 1 means that the protein is not an enzyme.\n",
        "\n",
        "We will start by loading and examining this dataset."
      ]
    },
    {
      "cell_type": "code",
      "metadata": {
        "id": "xmqweMcvnUH6"
      },
      "source": [
        "from torch_geometric.datasets import TUDataset\n",
        "dataset = TUDataset(root='data/TU', name='PROTEINS', use_node_attr=True)"
      ],
      "execution_count": 10,
      "outputs": []
    },
    {
      "cell_type": "markdown",
      "metadata": {
        "id": "_oF1gyKPXiz-"
      },
      "source": [
        "#### Question 11 (0.25 pt)\n",
        "\n",
        "Unlike in the previous part, where we selected the first element returned by the loading function, note that here we get all the elements returned by `TUDataset()`. `dataset` is an interable object, that has some similar behaviors as a Python list: you can call `len()` on it, and you can takes slices from it.\n",
        "\n",
        "Each element in `dataset` is a `Data` object containing a graph that represents a protein. This is the same type of object that we used in the previous part to store the Cora citation network.\n",
        "\n",
        "Knowing this, answer the following:\n",
        "\n",
        "- How many proteins (graphs) are there in `dataset`?\n",
        "- Take any protein from `dataset`. How many nodes and edges does it contain? What is its label? How many features does each node have?"
      ]
    },
    {
      "cell_type": "code",
      "metadata": {
        "id": "ZNPsnXXbbHHe",
        "colab": {
          "base_uri": "https://localhost:8080/"
        },
        "outputId": "cf07087e-593d-4976-d462-f5d6b4298bb0"
      },
      "source": [
        "print(f'Amount of proteins in dataset: {len(dataset)}')\n",
        "print(f'Amount of nodes in protein: {dataset[0].num_nodes}')\n",
        "print(f'Amount of edges in protein: {dataset[0].num_edges}')\n",
        "print(f'Amount of features per node in protein: {dataset[0].num_node_features}')\n",
        "print(f'Protein\\'s label: {dataset[0].y}')"
      ],
      "execution_count": 11,
      "outputs": [
        {
          "output_type": "stream",
          "name": "stdout",
          "text": [
            "Amount of proteins in dataset: 1113\n",
            "Amount of nodes in protein: 42\n",
            "Amount of edges in protein: 162\n",
            "Amount of features per node in protein: 4\n",
            "Protein's label: tensor([0])\n"
          ]
        }
      ]
    },
    {
      "cell_type": "markdown",
      "metadata": {
        "id": "kHSklBZXpKpR"
      },
      "source": [
        "#### Question 12 (0.5 pt)\n",
        "\n",
        "To properly train and evaluate our model, we need training, validation, and test splits.\n",
        "\n",
        "For reproducibility purposes, we generate a random tensor of indices for you. Use it to extract the three splits from `dataset`.\n",
        "\n",
        "For training, take 80% of the indices (starting from the first element in `indices`), then the following 10% for validation, and the remaining 10% for testing. You can use the indices to index `dataset`.\n",
        "\n",
        "Call the resulting splits `train_dataset`, `valid_dataset`, and `test_dataset`."
      ]
    },
    {
      "cell_type": "code",
      "metadata": {
        "id": "ttY4d1GInn08"
      },
      "source": [
        "# Don't erase the following three lines\n",
        "import torch\n",
        "torch.random.manual_seed(0)\n",
        "indices = torch.randperm(len(dataset))\n"
      ],
      "execution_count": 12,
      "outputs": []
    },
    {
      "cell_type": "code",
      "source": [
        "train_dataset = dataset[:int(0.8*len(dataset))]\n",
        "valid_dataset = dataset[int(0.8*len(dataset)):int(0.9*len(dataset))]\n",
        "test_dataset = dataset[int(0.9*len(dataset)):]"
      ],
      "metadata": {
        "id": "_FyYUsxTqJeO"
      },
      "execution_count": 13,
      "outputs": []
    },
    {
      "cell_type": "code",
      "source": [
        "assert len(train_dataset) + len(valid_dataset) + len(test_dataset) == len(dataset)"
      ],
      "metadata": {
        "id": "JL4_kAgMqJYW"
      },
      "execution_count": 14,
      "outputs": []
    },
    {
      "cell_type": "markdown",
      "metadata": {
        "id": "rDJbB4CQqsfp"
      },
      "source": [
        "### Working with a batch of graphs\n",
        "\n",
        "When working with the Cora dataset, you used the information in `data.edge_index` to build the sparse normalized adjacency matrix $\\hat{A}$ that is required by the GCN. We could do something similar here: for each graph, we build $\\hat{A}$, and pass it to the GCN. However, if the number of graphs is big, this can really slow down training.\n",
        "\n",
        "To avoid this, we will resort to a very useful trick that also allows us to reuse the same GCN you implemented previously. The trick makes it possible to do a forward pass through the GCN for multiple, disconnected graphs at the same time (instead of only one), much like when you train with mini-batches for other kinds of data.\n",
        "\n",
        "Let's first revisit the propagation rule of the GCN, $Z = \\hat{A}XW$, with an illustration (we have omitted the cells of $X$ and $W$ for clarity):\n",
        "\n",
        "<img src=\"https://raw.githubusercontent.com/dfdazac/dlvu-a5/main/img/02-gcn-forward.png\">\n",
        "\n",
        "If we have multiple graphs, we can still use the same propagation rule, if we\n",
        "\n",
        "- Set $\\hat{A}$ to be a block diagonal matrix, where the blocks are the different adjacency matrices of the graphs\n",
        "- Concatenate the feature matrices along the first dimension\n",
        "\n",
        "This is illustrated in the following figure, for a batch of 3 graphs. Note that the elements outside of the blocks are zero.\n",
        "\n",
        "<img src=\"https://raw.githubusercontent.com/dfdazac/dlvu-a5/main/img/02-gcn-batch-forward.png\">\n",
        "\n",
        "The resulting adjacency matrix $\\hat{A}_B$ can also be built as a sparse matrix, and once we have it together with the concatenated matrix of features, the computation of the graph convolution is exactly the same as before. Note how this trick also allows us to process graphs with different sizes and structures.\n"
      ]
    },
    {
      "cell_type": "markdown",
      "metadata": {
        "id": "0DLPJ62b2mQ6"
      },
      "source": [
        "#### Question 13 (0.5 pt)\n",
        "\n",
        "\n",
        "Just as the citation network, the graphs in each of the datasets you created in Question 12 also have an `edge_index` attribute, which can be used to compute the normalized adjacency matrix $\\hat{A}$, for each graph.\n",
        "\n",
        "Reusing your code for Questions 3 and 5, define a function `get_a_norm()` that takes as input an element of a dataset (e.g. `train_dataset[0]`), and returns a `scipy.sparse` matrix containing $\\hat{A}$.\n",
        "\n",
        "Note that an element of a dataset has properties like `num_edges`, `num_nodes`, etc. which you can use here."
      ]
    },
    {
      "cell_type": "code",
      "metadata": {
        "id": "4nvPX2GB8oXp"
      },
      "source": [
        "def get_a_norm(data):\n",
        "  adj_matrix = scipy.sparse.coo_matrix(([1]*data.num_edges, (data.edge_index[0], data.edge_index[1])), shape=data.size())\n",
        "  deg_matrix = scipy.sparse.diags(sum(adj_matrix.toarray()))\n",
        "\n",
        "  A_tilda = adj_matrix + identity(data.size()[0])\n",
        "  D_tilda = deg_matrix + identity(data.size()[0])\n",
        "  del adj_matrix, deg_matrix\n",
        "\n",
        "  D_tilda_inv = inv(D_tilda.tocsc()).power(0.5)\n",
        "  A_norm = D_tilda_inv * A_tilda * D_tilda_inv\n",
        "  \n",
        "  return A_norm.tocoo()\n"
      ],
      "execution_count": 15,
      "outputs": []
    },
    {
      "cell_type": "code",
      "source": [
        "get_a_norm(dataset[0]).toarray()"
      ],
      "metadata": {
        "colab": {
          "base_uri": "https://localhost:8080/"
        },
        "id": "WzRznPMdwWU6",
        "outputId": "efaffcb5-72ca-43a6-bcf0-2392762116e7"
      },
      "execution_count": 16,
      "outputs": [
        {
          "output_type": "execute_result",
          "data": {
            "text/plain": [
              "array([[0.25      , 0.        , 0.        , ..., 0.        , 0.        ,\n",
              "        0.        ],\n",
              "       [0.        , 0.25      , 0.        , ..., 0.        , 0.        ,\n",
              "        0.18898224],\n",
              "       [0.        , 0.        , 0.25      , ..., 0.        , 0.        ,\n",
              "        0.        ],\n",
              "       ...,\n",
              "       [0.        , 0.        , 0.        , ..., 0.2       , 0.        ,\n",
              "        0.        ],\n",
              "       [0.        , 0.        , 0.        , ..., 0.        , 0.25      ,\n",
              "        0.18898224],\n",
              "       [0.        , 0.18898224, 0.        , ..., 0.        , 0.18898224,\n",
              "        0.14285714]])"
            ]
          },
          "metadata": {},
          "execution_count": 16
        }
      ]
    },
    {
      "cell_type": "markdown",
      "metadata": {
        "id": "cBrmYBY3AfhW"
      },
      "source": [
        "#### Question 14 (1 pt)\n",
        "\n",
        "To prepare the batch of graphs, we need to collect multiple adjacency matrices, feature matrices, and labels.\n",
        "\n",
        "When using the trick described in the last figure, we see that we have to keep track of when a graph starts and when it ends, so that we can later differentiate the outputs due to $X^{(0)}$, $X^{(1)}$, etc. To achieve this, we will additionally collect a 1D array of batch indices, one for each $X^{(i)}$.\n",
        "\n",
        "The 1D array has as many elements as rows in $X^{(i)}$, and it is filled with the value $i$ (the position of $X^{(i)}$ in the batch):\n",
        "\n",
        "<img src=\"https://raw.githubusercontent.com/dfdazac/dlvu-a5/main/img/03-batch-indices.png\">\n",
        "\n",
        "We will later concatenate all the 1D arrays along the first dimension, just as we will do with all the $X^{(i)}$.\n",
        "\n",
        "Define a function `prepare_graphs_batch()` that takes as input a dataset (e.g. `train_dataset`), and does the following\n",
        "\n",
        "- Create four empty lists:\n",
        "  - `adj_matrices`\n",
        "  - `feature_matrices`\n",
        "  - `batch_indices`\n",
        "  - `labels`\n",
        "- Iterate over the input dataset, getting one graph at a time. At each step, use your function from Question 13 to append the adjacency matrix to `adj_matrices`, append the matrix of input features to `feature_matrices`, create the array of batch indices (as explained above) and append it to `batch_indices`, and append the label of the graph to `labels`. **Make sure to convert the label to float**.\n",
        "- Once the loop is over, use `scipy.sparse.block_diag()` to build the block diagonal matrix $\\hat{A}_B$. Convert it to the COO format, and then use your answer to Question 6 to turn it into a sparse PyTorch tensor.\n",
        "- Use `torch.cat()` to concatenate the tensors in `feature_matrices` along the first dimension. Do this also for `batch_indices` and `labels`.\n",
        "- Return the 4 tensors computed in the previous two items."
      ]
    },
    {
      "cell_type": "code",
      "source": [
        "from tqdm.notebook import tqdm"
      ],
      "metadata": {
        "id": "wuUCxZ4s-1Tp"
      },
      "execution_count": 30,
      "outputs": []
    },
    {
      "cell_type": "code",
      "metadata": {
        "id": "SsQ0-JjSqFgD"
      },
      "source": [
        "def prepare_graphs_batch(dataset):\n",
        "  adj_matrices = []\n",
        "  feature_matrices = []\n",
        "  batch_indices = []\n",
        "  labels = []\n",
        "\n",
        "  for idx, item in tqdm(enumerate(dataset)):\n",
        "    adj_matrices.append(get_a_norm(item))\n",
        "    feature_matrices.append(item.x)\n",
        "    batch_indices.append(torch.tensor(idx).repeat(item.num_nodes))\n",
        "    labels.append(item.y.float())\n",
        "\n",
        "  # create block adj norm matrix\n",
        "  adj_matrices = scipy.sparse.block_diag(adj_matrices)\n",
        "  indices = np.array((adj_matrices.row, adj_matrices.col))\n",
        "  adj_matrices = torch.sparse_coo_tensor(indices=indices, values=adj_matrices.data, \n",
        "                                         size=adj_matrices.shape, device=device).float()\n",
        "\n",
        "  feature_matrices = torch.cat(feature_matrices)\n",
        "  batch_indices = torch.cat(batch_indices)\n",
        "  labels = torch.cat(labels)\n",
        "\n",
        "  return adj_matrices, feature_matrices, batch_indices, labels\n"
      ],
      "execution_count": 31,
      "outputs": []
    },
    {
      "cell_type": "markdown",
      "metadata": {
        "id": "i73P_EU0MSPX"
      },
      "source": [
        "Once your answer for the previous question is ready, you can run the next cell to prepare all the required information, for the train, validation, and test splits."
      ]
    },
    {
      "cell_type": "code",
      "metadata": {
        "id": "Iol5FxJGMmAU",
        "colab": {
          "base_uri": "https://localhost:8080/",
          "height": 113,
          "referenced_widgets": [
            "828167e1dbcd4120808236ce39a65619",
            "7fa21ea2f3b848f6a15548a55130075b",
            "7b25cd8f6ce54fae9b9c061a465baab7",
            "80985ddcff8d4fee9c5964d946cfa94e",
            "2c1b49e7cf7c488ab3f3905da6570314",
            "1340df34c2a14f128784246374395035",
            "4962b4f2551b4777a9542678c15a9d37",
            "fe7a581e3a0f4536824da357aae90d34",
            "600c9d68a3414dc897fa87d04a1a5fc9",
            "18c3ee475dba47c1a5ede9d6904c7941",
            "55765af3aca54e0db10576978a8d8ce3",
            "9cae20e74bed44da93fcadf21c457fa5",
            "16a4faab309f4dca98da9c8cdd485977",
            "98f0f4ca11f947309de38861368907ba",
            "e316aa4fd6ce4830ac60a5adf13ab364",
            "55e189b32fae4ec0a44e980c6ac36fb2",
            "17cfbc8596bf4b5a87c5228c63c9b604",
            "12b5d378cc92419badccdf752a21deb3",
            "49e369bdcd6e46908b1757135b53e6cb",
            "33b34ca7d5e442dca5af6cbf889550f0",
            "7c1874dc2fa444fc87d6106417a36f25",
            "f1575568e20441dc937265c51498528d",
            "55dea0ee516a4669af3dba0829ede82b",
            "969ed5362dc04865824ce6610b4ad315",
            "ea893bdb0eb246bd86e674be77a0aa62",
            "d4facb0ba8a84acfb6a427ef9190683c",
            "d3fa8cd9a6414ea1a0c15b2d4dd59825",
            "4bda35f5016c4cfaa1b3ae18d0ebefa5",
            "aaa9519c4fb841e2b11d059461c53039",
            "8de39f19a4b54e948e306cca2d9b9bc2",
            "a121770b68f54c16ad543b91a4e69df0",
            "6afb94060e26449dab6e018c2e93bd33",
            "f3ff73354fe04c419aa95708095dca1f"
          ]
        },
        "outputId": "f2c4d07f-59f1-4c13-bbf1-a76bb091edf2"
      },
      "source": [
        "train_a_norm, train_features, train_batch_idx, train_labels = prepare_graphs_batch(train_dataset)\n",
        "valid_a_norm, valid_features, valid_batch_idx, valid_labels = prepare_graphs_batch(valid_dataset)\n",
        "test_a_norm, test_features, test_batch_idx, test_labels = prepare_graphs_batch(test_dataset)"
      ],
      "execution_count": 32,
      "outputs": [
        {
          "output_type": "display_data",
          "data": {
            "text/plain": [
              "0it [00:00, ?it/s]"
            ],
            "application/vnd.jupyter.widget-view+json": {
              "version_major": 2,
              "version_minor": 0,
              "model_id": "828167e1dbcd4120808236ce39a65619"
            }
          },
          "metadata": {}
        },
        {
          "output_type": "display_data",
          "data": {
            "text/plain": [
              "0it [00:00, ?it/s]"
            ],
            "application/vnd.jupyter.widget-view+json": {
              "version_major": 2,
              "version_minor": 0,
              "model_id": "9cae20e74bed44da93fcadf21c457fa5"
            }
          },
          "metadata": {}
        },
        {
          "output_type": "display_data",
          "data": {
            "text/plain": [
              "0it [00:00, ?it/s]"
            ],
            "application/vnd.jupyter.widget-view+json": {
              "version_major": 2,
              "version_minor": 0,
              "model_id": "55dea0ee516a4669af3dba0829ede82b"
            }
          },
          "metadata": {}
        }
      ]
    },
    {
      "cell_type": "markdown",
      "metadata": {
        "id": "R6q-JU87NClh"
      },
      "source": [
        "### GCNs for graph classification\n",
        "\n",
        "We now have all the ingredients to pass a batch of graphs to a GCN. However, for each graph in the batch, the output $Z^{(i)}$ contains one row for each node in the graph. If the goal is to do classification at the graph level, we have to *pool* these vectors to then compute the required logits for classification.\n",
        "\n",
        "This operation is similar as how pooling works in a CNN. We could consider taking the mean of the vectors, the sum, or use max-pooling. The difference with respect to CNNs is that in our case, we have a batch of graphs, each potentially with a different number of nodes.\n",
        "\n",
        "To implement this specific pooling, we can use the scatter operation in the `torch_scatter` library, which comes when installing PyG. We will use it, together with the tensor of batch indices from the previous two questions, to pool the outputs of the GCN for each graph, into a single vector:\n",
        "\n",
        "<img src=\"https://raw.githubusercontent.com/dfdazac/dlvu-a5/main/img/04-scatter.png\">\n",
        "\n",
        "You can check more details in the [documentation](https://pytorch-scatter.readthedocs.io/en/latest/functions/scatter.html)."
      ]
    },
    {
      "cell_type": "markdown",
      "metadata": {
        "id": "QY87DX1uRhnY"
      },
      "source": [
        "#### Question 15 (1.0 pt)\n",
        "\n",
        "Implement a `GraphClassifier` module using PyTorch.\n",
        "\n",
        "- The constructor should take as arguments the number of input features, the hidden dimension, and the number of classes.\n",
        "- The model should contain a instance of the `GCN` module (as you implemented it in Question 8). Use the same value for the hidden dimension and the number of output features (recall that your `GCN` module from Question 8 has two GCN layers).\n",
        "- The model should also contain a `torch.nn.Linear` layer, with the hidden dimension as the input features, and the number of classes as the output.\n",
        "- The forward method receives the concatenated matrix of features, the sparse block diagonal adjacency matrix, and the batch indices (the latter is used when calling `scatter`).\n",
        "- Use the following architecture in the forward pass:\n",
        "  - GCN $\\to$ ReLU $\\to$ scatter (max) $\\to$ Linear.\n",
        "\n",
        "The output of the forward should be a 1D tensor (you might need to call `squeeze` to get rid of extra dimensions) containing the logits for all graphs in the batch, for the binary classification task."
      ]
    },
    {
      "cell_type": "code",
      "metadata": {
        "id": "750WraywwYDH"
      },
      "source": [
        "# Your answer here\n"
      ],
      "execution_count": null,
      "outputs": []
    },
    {
      "cell_type": "markdown",
      "metadata": {
        "id": "h0QHnn6dV87J"
      },
      "source": []
    },
    {
      "cell_type": "markdown",
      "metadata": {
        "id": "C1PHy-_vTjgh"
      },
      "source": [
        "#### Question 16 (1.5 pt)\n",
        "\n",
        "Implement a training loop for the graph classifier. Use the data from Question 14 to train and evaluate the model.\n",
        "\n",
        "We encourage you to use a GPU in this section for faster training. Note that if you change the runtime at this point, you must re-execute several of the cells above, including the ones that install PyG.\n",
        "\n",
        "- Instantiate a classifier with 32 as the hidden dimension\n",
        "- Use Adam with a learning rate of 1e-3.\n",
        "- Use `torch.nn.BCEWithLogitsLoss` as the loss function.\n",
        "- Train for 5,000 epochs. Once training is done, plot the loss curve and the accuracy in the validation set. Then report the accuracy in the test set.\n",
        "\n",
        "**Note:** the logits from the output of the classifier come from a linear layer. To compute actual predictions for the calculation of the accuracy, pass the logits through `torch.sigmoid()`, and set the predicted values to 1 whenever they are greater than 0.5, and to 0 otherwise.\n",
        "\n",
        "You should get an accuracy equal to or higher than 70% in the validation and test sets. Can you beat the [state-of-the-art](https://paperswithcode.com/sota/graph-classification-on-proteins)? Feel free to modify your architecture and experiment with it.\n",
        "\n",
        "Discuss what you observe during training and your results."
      ]
    },
    {
      "cell_type": "code",
      "metadata": {
        "id": "9DbGAs8W2Xja"
      },
      "source": [
        "# If your runtime is GPU-enabled, use .to(device) to move the model\n",
        "# and all the relevant tensors to the GPU. You have to move tensors back to CPU\n",
        "# when computing metrics like accuracy, using .cpu().\n",
        "device = torch.device('cuda') if torch.cuda.is_available() else 'cpu'\n",
        "\n",
        "# Your answer here\n"
      ],
      "execution_count": null,
      "outputs": []
    },
    {
      "cell_type": "markdown",
      "metadata": {
        "id": "MvmAfDNMcnKD"
      },
      "source": [
        "## The end\n",
        "\n",
        "If you have made it all the way here successfully, congratulations! 🎉 \n",
        "\n",
        "You have implemented your own GCN and tested it on a node classification task, and a more challenging classification task over multiple graphs.\n",
        "\n",
        "We hope you can use this knowledge to apply GCNs not only to the tasks described here, but other applications where data can be modeled as a graph.\n",
        "\n",
        "If you are interested in applying graph neural networks to larger graphs, or try newer architectures, you can dive deeper into [PyTorch Geometric](https://pytorch-geometric.readthedocs.io/en/latest/), a library with fast implementations for a wide range of architectures. It also comes with custom code that takes care of aspects that you dealt with manually for this assignment, like a more efficient implementation of the adjacency matrix multiplication via message-passing methods, and Data Loaders that relieve you from having to build block diagonal sparse matrices.\n",
        "\n",
        "You can also check the [Deep Graph Library](https://docs.dgl.ai/) another powerful library for deep learning on graphs which also integrates with other backends like TensorFlow."
      ]
    },
    {
      "cell_type": "markdown",
      "metadata": {
        "id": "l7QhyAMms8-L"
      },
      "source": [
        "# Grading (10pt)"
      ]
    },
    {
      "cell_type": "markdown",
      "metadata": {
        "id": "juIdxXhos-mV"
      },
      "source": [
        "- Question 1: 0.25pt \n",
        "- Question 2: 0.25pt \n",
        "- Question 3: 0.5pt \n",
        "- Question 4: 0.25pt \n",
        "- Question 5: 0.5pt \n",
        "- Question 6: 0.5pt \n",
        "- Question 7: 0.5pt \n",
        "- Question 8: 0.5pt \n",
        "- Question 9: 1.5pt \n",
        "- Question 10: 0.5pt \n",
        "- Question 11: 0.25pt \n",
        "- Question 12: 0.5pt \n",
        "- Question 13: 0.5pt \n",
        "- Question 14: 1pt\n",
        "- Question 15: 1pt\n",
        "- Question 16: 1.5pt"
      ]
    }
  ]
}