{
 "cells": [
  {
   "cell_type": "markdown",
   "metadata": {},
   "source": [
    "# Assignment 2"
   ]
  },
  {
   "cell_type": "markdown",
   "metadata": {},
   "source": [
    "### Question 5"
   ]
  },
  {
   "cell_type": "code",
   "execution_count": 1,
   "metadata": {},
   "outputs": [],
   "source": [
    "import vugrad as vg\n",
    "import numpy as np"
   ]
  },
  {
   "cell_type": "code",
   "execution_count": 2,
   "metadata": {},
   "outputs": [],
   "source": [
    "a = vg.TensorNode(np.random.randn(2, 2))\n",
    "b = vg.TensorNode(np.random.randn(2, 2))"
   ]
  },
  {
   "cell_type": "code",
   "execution_count": 3,
   "metadata": {},
   "outputs": [
    {
     "data": {
      "text/plain": [
       "<vugrad.core.TensorNode at 0x7fd743ff6a60>"
      ]
     },
     "execution_count": 3,
     "metadata": {},
     "output_type": "execute_result"
    }
   ],
   "source": [
    "c = a + b\n",
    "c"
   ]
  },
  {
   "cell_type": "code",
   "execution_count": 4,
   "metadata": {},
   "outputs": [
    {
     "data": {
      "text/plain": [
       "array([[ 1.06719234, -1.66014825],\n",
       "       [ 1.44832347, -0.85405275]])"
      ]
     },
     "execution_count": 4,
     "metadata": {},
     "output_type": "execute_result"
    }
   ],
   "source": [
    "c.value"
   ]
  },
  {
   "cell_type": "code",
   "execution_count": 5,
   "metadata": {},
   "outputs": [
    {
     "data": {
      "text/plain": [
       "<vugrad.core.OpNode at 0x7fd743ff6f40>"
      ]
     },
     "execution_count": 5,
     "metadata": {},
     "output_type": "execute_result"
    }
   ],
   "source": [
    "c.source"
   ]
  },
  {
   "cell_type": "code",
   "execution_count": 8,
   "metadata": {},
   "outputs": [
    {
     "data": {
      "text/plain": [
       "vugrad.core.Add"
      ]
     },
     "execution_count": 8,
     "metadata": {},
     "output_type": "execute_result"
    }
   ],
   "source": [
    "c.source.op"
   ]
  },
  {
   "cell_type": "code",
   "execution_count": 6,
   "metadata": {},
   "outputs": [
    {
     "data": {
      "text/plain": [
       "(<vugrad.core.TensorNode at 0x7fd743ff6190>,\n",
       " <vugrad.core.TensorNode at 0x7fd743ff6a30>)"
      ]
     },
     "execution_count": 6,
     "metadata": {},
     "output_type": "execute_result"
    }
   ],
   "source": [
    "c.source.inputs"
   ]
  },
  {
   "cell_type": "code",
   "execution_count": 7,
   "metadata": {},
   "outputs": [
    {
     "data": {
      "text/plain": [
       "array([[0., 0.],\n",
       "       [0., 0.]])"
      ]
     },
     "execution_count": 7,
     "metadata": {},
     "output_type": "execute_result"
    }
   ],
   "source": [
    "a.grad"
   ]
  },
  {
   "cell_type": "markdown",
   "metadata": {},
   "source": [
    "### Question 9"
   ]
  },
  {
   "cell_type": "code",
   "execution_count": 65,
   "metadata": {},
   "outputs": [],
   "source": [
    "class ReLU(vg.Op):\n",
    "    \"\"\"\n",
    "    Op for ReLU activation.\n",
    "    \"\"\"\n",
    "    @staticmethod\n",
    "    def forward(context, input):\n",
    "\n",
    "        pos = np.maximum(input, 0)\n",
    "        context['pos'] = pos # store the relu of x for the backward pass\n",
    "        return pos\n",
    "\n",
    "    @staticmethod\n",
    "    def backward(context, goutput):\n",
    "        pos = context['pos'] # retrieve the relu of x\n",
    "        return goutput * (pos > 0).astype(int)"
   ]
  },
  {
   "cell_type": "code",
   "execution_count": 66,
   "metadata": {},
   "outputs": [
    {
     "name": "stdout",
     "output_type": "stream",
     "text": [
      "## loaded data:\n",
      "         number of instances: 60000 in training, 10000 in validation\n",
      " training class distribution: [32461 27539]\n",
      "     val. class distribution: [5456 4544]\n"
     ]
    }
   ],
   "source": [
    "import numpy as np\n",
    "import vugrad as vg\n",
    "\n",
    "dataset = 'synth'\n",
    "batch_size = 128\n",
    "epochs = 20\n",
    "learning_rate = 0.001\n",
    "\n",
    "## Load the data\n",
    "if dataset == 'synth':\n",
    "    (xtrain, ytrain), (xval, yval), num_classes = vg.load_synth()\n",
    "elif dataset == 'mnist':\n",
    "    (xtrain, ytrain), (xval, yval), num_classes = vg.load_mnist(final=False, flatten=True)\n",
    "else:\n",
    "    raise Exception(f'Dataset {dataset} not recognized.')\n",
    "\n",
    "print(f'## loaded data:')\n",
    "print(f'         number of instances: {xtrain.shape[0]} in training, {xval.shape[0]} in validation')\n",
    "print(f' training class distribution: {np.bincount(ytrain)}')\n",
    "print(f'     val. class distribution: {np.bincount(yval)}')\n",
    "\n",
    "num_instances, num_features = xtrain.shape\n"
   ]
  },
  {
   "cell_type": "code",
   "execution_count": 67,
   "metadata": {},
   "outputs": [],
   "source": [
    "# Create a simple neural network.\n",
    "# This is a `Module` consisting of other modules representing linear layers, provided by the vugrad library.\n",
    "class MLP(vg.Module):\n",
    "    \"\"\"\n",
    "    A simple MLP with one hidden layer, and a sigmoid non-linearity on the hidden layer and a softmax on the\n",
    "    output.\n",
    "    \"\"\"\n",
    "\n",
    "    def __init__(self, input_size, output_size, hidden_mult=4):\n",
    "        \"\"\"\n",
    "        :param input_size:\n",
    "        :param output_size:\n",
    "        :param hidden_mult: Multiplier that indicates how many times bigger the hidden layer is than the input layer.\n",
    "        \"\"\"\n",
    "        super().__init__()\n",
    "\n",
    "        hidden_size = hidden_mult * input_size\n",
    "        # -- There is no common wisdom on how big the hidden size should be, apart from the idea\n",
    "        #    that it should be strictly _bigger_ than the input if at all possible.\n",
    "\n",
    "        self.layer1 = vg.Linear(input_size, hidden_size)\n",
    "        self.layer2 = vg.Linear(hidden_size, output_size)\n",
    "        # -- The linear layer (without activation) is implemented in vugrad. We simply instantiate these modules, and\n",
    "        #    add them to our network.\n",
    "\n",
    "    def forward(self, input):\n",
    "\n",
    "        assert len(input.size()) == 2\n",
    "\n",
    "        # first layer\n",
    "        hidden = self.layer1(input)\n",
    "\n",
    "        # non-linearity\n",
    "        hidden = vg.sigmoid(hidden)\n",
    "        # -- We've called a utility function here, to mimin how this is usually done in pytorch. We could also do:\n",
    "        #    hidden = Sigmoid.do_forward(hidden)\n",
    "\n",
    "        # second layer\n",
    "        output = self.layer2(hidden)\n",
    "\n",
    "        # softmax activation\n",
    "        output = vg.logsoftmax(output)\n",
    "        # -- the logsoftmax computes the _logarithm_ of the probabilities produced by softmax. This makes the computation\n",
    "        #    of the CE loss more stable when the probabilities get close to 0 (remember that the CE loss is the logarithm\n",
    "        #    of these probabilities). It needs to be implemented in a specific way. See the source for details.\n",
    "\n",
    "        return output\n",
    "\n",
    "    def parameters(self):\n",
    "\n",
    "        return self.layer1.parameters() + self.layer2.parameters()"
   ]
  },
  {
   "cell_type": "code",
   "execution_count": 68,
   "metadata": {},
   "outputs": [],
   "source": [
    "def train(mlp, xtrain, ytrain, xval, yval, batch_size=128, epochs=20, learning_rate=0.01):\n",
    "    n, m = xtrain.shape\n",
    "    b = batch_size\n",
    "\n",
    "    metrics = {\n",
    "        'train_loss': [],\n",
    "        'val_loss': [],\n",
    "        'val_acc': []\n",
    "    }\n",
    "\n",
    "    print('\\n## Starting training')\n",
    "    for epoch in range(epochs):\n",
    "\n",
    "        print(f'epoch {epoch:03}')\n",
    "\n",
    "        ## Compute validation accuracy\n",
    "        o = mlp(vg.TensorNode(xval))\n",
    "        oval = o.value\n",
    "\n",
    "        predictions = np.argmax(oval, axis=1)\n",
    "        num_correct = (predictions == yval).sum()\n",
    "        acc = num_correct / yval.shape[0]\n",
    "\n",
    "        o.clear() # gc the computation graph\n",
    "        print(f'       accuracy: {acc:.4}')\n",
    "\n",
    "        cl = 0.0 # running sum of the training loss\n",
    "\n",
    "        # We loop over the data in batches of size `b`\n",
    "        for fr in range(0, n, b):\n",
    "\n",
    "            # The end index of the batch\n",
    "            to = min(fr + b, n)\n",
    "\n",
    "            # Slice out the batch and its corresponding target values\n",
    "            batch, targets = xtrain[fr:to, :], ytrain[fr:to]\n",
    "\n",
    "            # Wrap the inputs in a Node\n",
    "            batch = vg.TensorNode(value=batch)\n",
    "\n",
    "            outputs = mlp(batch)\n",
    "            loss = vg.logceloss(outputs, targets)\n",
    "            # -- The computation graph is now complete. It consists of the MLP, together with the computation of\n",
    "            #    the scalar loss.\n",
    "            # -- The variable `loss` is the TensorNode at the very top of our computation graph. This means we can call\n",
    "            #    it to perform operations on the computation graph, like clearing the gradients, starting the backpropgation\n",
    "            #    and clearing the graph.\n",
    "            # -- Note that we set the MLP up to produce log probabilties, so we should compute the CE loss for these.\n",
    "\n",
    "            cl += loss.value\n",
    "            # -- We must be careful here to extract the _raw_ value for the running loss. What would happen if we kept\n",
    "            #    a running sum using the TensorNode?\n",
    "\n",
    "            # Start the backpropagation\n",
    "            loss.backward()\n",
    "\n",
    "            # pply gradient descent\n",
    "            for parm in mlp.parameters():\n",
    "                parm.value -= learning_rate * parm.grad\n",
    "                # -- Note that we are directly manipulating the members of the parm TensorNode. This means that for this\n",
    "                #    part, we are not building up a computation graph.\n",
    "\n",
    "            # -- In Pytorch, the gradient descent is abstracted away into an Optimizer. This allows us to build slightly more\n",
    "            #    complexoptimizers than plain graident descent.\n",
    "\n",
    "            # Finally, we need to reset the gradients to zero ...\n",
    "            loss.zero_grad()\n",
    "            # ... and delete the parts of the computation graph we don't need to remember.\n",
    "            loss.clear()\n",
    "\n",
    "        # cslculate metrics\n",
    "        metrics['train_loss'].append(cl)\n",
    "        metrics['val_acc'].append(acc)\n",
    "\n",
    "        outputs = mlp(vg.TensorNode(xval))\n",
    "        loss = vg.logceloss(outputs, yval)\n",
    "        metrics['val_loss'].append(loss.value)\n",
    "\n",
    "        loss.zero_grad()\n",
    "        loss.clear()\n",
    "\n",
    "        print(f'   running loss: {cl/n:.4}')\n",
    "        \n",
    "    return mlp, metrics"
   ]
  },
  {
   "cell_type": "code",
   "execution_count": 69,
   "metadata": {},
   "outputs": [],
   "source": [
    "class MLP_relu(MLP):\n",
    "    def __init__(self, input_size, output_size, hidden_mult=4):\n",
    "        super().__init__(input_size, output_size, hidden_mult)\n",
    "\n",
    "    def forward(self, input):\n",
    "\n",
    "        assert len(input.size()) == 2\n",
    "\n",
    "        # first layer\n",
    "        hidden = self.layer1(input)\n",
    "\n",
    "        # non-linearity\n",
    "        hidden = ReLU.do_forward(hidden)\n",
    "        # -- We've called a utility function here, to mimin how this is usually done in pytorch. We could also do:\n",
    "        #    hidden = Sigmoid.do_forward(hidden)\n",
    "\n",
    "        # second layer\n",
    "        output = self.layer2(hidden)\n",
    "\n",
    "        # softmax activation\n",
    "        output = vg.logsoftmax(output)\n",
    "        # -- the logsoftmax computes the _logarithm_ of the probabilities produced by softmax. This makes the computation\n",
    "        #    of the CE loss more stable when the probabilities get close to 0 (remember that the CE loss is the logarithm\n",
    "        #    of these probabilities). It needs to be implemented in a specific way. See the source for details.\n",
    "\n",
    "        return output\n",
    "\n",
    "    "
   ]
  },
  {
   "cell_type": "code",
   "execution_count": 70,
   "metadata": {},
   "outputs": [
    {
     "name": "stdout",
     "output_type": "stream",
     "text": [
      "\n",
      "## Starting training\n",
      "epoch 000\n",
      "       accuracy: 0.4533\n",
      "   running loss: 0.6892\n",
      "epoch 001\n",
      "       accuracy: 0.5574\n",
      "   running loss: 0.6668\n",
      "epoch 002\n",
      "       accuracy: 0.756\n",
      "   running loss: 0.5247\n",
      "epoch 003\n",
      "       accuracy: 0.9243\n",
      "   running loss: 0.2924\n",
      "epoch 004\n",
      "       accuracy: 0.9407\n",
      "   running loss: 0.202\n",
      "epoch 005\n",
      "       accuracy: 0.944\n",
      "   running loss: 0.1708\n",
      "epoch 006\n",
      "       accuracy: 0.944\n",
      "   running loss: 0.1559\n",
      "epoch 007\n",
      "       accuracy: 0.9446\n",
      "   running loss: 0.1467\n",
      "epoch 008\n",
      "       accuracy: 0.9464\n",
      "   running loss: 0.139\n",
      "epoch 009\n",
      "       accuracy: 0.9492\n",
      "   running loss: 0.1313\n",
      "epoch 010\n",
      "       accuracy: 0.9529\n",
      "   running loss: 0.1232\n",
      "epoch 011\n",
      "       accuracy: 0.9567\n",
      "   running loss: 0.1152\n",
      "epoch 012\n",
      "       accuracy: 0.961\n",
      "   running loss: 0.1081\n",
      "epoch 013\n",
      "       accuracy: 0.9642\n",
      "   running loss: 0.1021\n",
      "epoch 014\n",
      "       accuracy: 0.9665\n",
      "   running loss: 0.09739\n",
      "epoch 015\n",
      "       accuracy: 0.969\n",
      "   running loss: 0.09357\n",
      "epoch 016\n",
      "       accuracy: 0.9707\n",
      "   running loss: 0.09039\n",
      "epoch 017\n",
      "       accuracy: 0.9721\n",
      "   running loss: 0.08768\n",
      "epoch 018\n",
      "       accuracy: 0.9727\n",
      "   running loss: 0.08529\n",
      "epoch 019\n",
      "       accuracy: 0.9738\n",
      "   running loss: 0.08314\n"
     ]
    }
   ],
   "source": [
    "## Instantiate the model\n",
    "mlp = MLP(input_size=num_features, output_size=num_classes)\n",
    "mlp, metrics = train(mlp, xtrain, ytrain, xval, yval, learning_rate=learning_rate)"
   ]
  },
  {
   "cell_type": "code",
   "execution_count": 71,
   "metadata": {},
   "outputs": [
    {
     "name": "stdout",
     "output_type": "stream",
     "text": [
      "\n",
      "## Starting training\n",
      "epoch 000\n",
      "       accuracy: 0.437\n",
      "   running loss: 0.2407\n",
      "epoch 001\n",
      "       accuracy: 0.9816\n",
      "   running loss: 0.09041\n",
      "epoch 002\n",
      "       accuracy: 0.9881\n",
      "   running loss: 0.06755\n",
      "epoch 003\n",
      "       accuracy: 0.989\n",
      "   running loss: 0.05726\n",
      "epoch 004\n",
      "       accuracy: 0.9887\n",
      "   running loss: 0.05087\n",
      "epoch 005\n",
      "       accuracy: 0.9895\n",
      "   running loss: 0.04586\n",
      "epoch 006\n",
      "       accuracy: 0.9902\n",
      "   running loss: 0.04156\n",
      "epoch 007\n",
      "       accuracy: 0.9913\n",
      "   running loss: 0.03823\n",
      "epoch 008\n",
      "       accuracy: 0.992\n",
      "   running loss: 0.03572\n",
      "epoch 009\n",
      "       accuracy: 0.9926\n",
      "   running loss: 0.03364\n",
      "epoch 010\n",
      "       accuracy: 0.9926\n",
      "   running loss: 0.03193\n",
      "epoch 011\n",
      "       accuracy: 0.9929\n",
      "   running loss: 0.03049\n",
      "epoch 012\n",
      "       accuracy: 0.9939\n",
      "   running loss: 0.02927\n",
      "epoch 013\n",
      "       accuracy: 0.9945\n",
      "   running loss: 0.02823\n",
      "epoch 014\n",
      "       accuracy: 0.9946\n",
      "   running loss: 0.02732\n",
      "epoch 015\n",
      "       accuracy: 0.9947\n",
      "   running loss: 0.02652\n",
      "epoch 016\n",
      "       accuracy: 0.9948\n",
      "   running loss: 0.02579\n",
      "epoch 017\n",
      "       accuracy: 0.9951\n",
      "   running loss: 0.02514\n",
      "epoch 018\n",
      "       accuracy: 0.9952\n",
      "   running loss: 0.02455\n",
      "epoch 019\n",
      "       accuracy: 0.9952\n",
      "   running loss: 0.02402\n"
     ]
    }
   ],
   "source": [
    "mlp_relu = MLP_relu(input_size=num_features, output_size=num_classes)\n",
    "mlp_relu, metrics_relu = train(mlp_relu, xtrain, ytrain, xval, yval, learning_rate=learning_rate)"
   ]
  },
  {
   "cell_type": "code",
   "execution_count": 74,
   "metadata": {},
   "outputs": [
    {
     "data": {
      "image/png": "[encoded data removed]",
      "text/plain": [
       "<Figure size 640x480 with 1 Axes>"
      ]
     },
     "metadata": {},
     "output_type": "display_data"
    }
   ],
   "source": [
    "import matplotlib.pyplot as plt\n",
    "\n",
    "plt.plot(range(1, epochs + 1), metrics['val_loss'], marker='o', label='sigmoid activation')\n",
    "plt.plot(range(1, epochs + 1), metrics_relu['val_loss'], marker='o', label='ReLU activation')\n",
    "plt.xlabel('epoch')\n",
    "plt.ylabel('loss')\n",
    "plt.title('Train loss')\n",
    "plt.grid()\n",
    "plt.show()"
   ]
  },
  {
   "cell_type": "code",
   "execution_count": 78,
   "metadata": {},
   "outputs": [
    {
     "data": {
      "text/plain": [
       "<matplotlib.legend.Legend at 0x7fa0e0188a00>"
      ]
     },
     "execution_count": 78,
     "metadata": {},
     "output_type": "execute_result"
    },
    {
     "data": {
      "image/png": "[encoded data removed]",
      "text/plain": [
       "<Figure size 640x480 with 1 Axes>"
      ]
     },
     "metadata": {},
     "output_type": "display_data"
    }
   ],
   "source": [
    "plt.plot(range(1, epochs + 1), metrics['val_acc'], marker='o', label='sigmoid activation')\n",
    "plt.plot(range(1, epochs + 1), metrics_relu['val_acc'], marker='o', label='ReLU activation')\n",
    "plt.xticks(range(1, epochs+1, 2))\n",
    "plt.xlabel('epoch')\n",
    "plt.ylabel('accuracy')\n",
    "plt.title('Validation accuracy')\n",
    "# plt.grid()\n",
    "plt.legend()"
   ]
  },
  {
   "cell_type": "markdown",
   "metadata": {},
   "source": [
    "### Question 10"
   ]
  },
  {
   "cell_type": "code",
   "execution_count": 17,
   "metadata": {},
   "outputs": [],
   "source": [
    "import numpy as np\n",
    "import vugrad as vg"
   ]
  },
  {
   "cell_type": "code",
   "execution_count": 42,
   "metadata": {},
   "outputs": [],
   "source": [
    "dataset = 'synth'\n",
    "batch_size = 128\n",
    "epochs = 7\n",
    "learning_rate = 0.001\n",
    "momentum = 0.9"
   ]
  },
  {
   "cell_type": "code",
   "execution_count": 43,
   "metadata": {},
   "outputs": [
    {
     "name": "stdout",
     "output_type": "stream",
     "text": [
      "## loaded data:\n",
      "         number of instances: 55000 in training, 5000 in validation\n",
      " training class distribution: [5434 6212 5465 5622 5343 4963 5436 5702 5357 5466]\n",
      "     val. class distribution: [489 530 493 509 499 458 482 563 494 483]\n"
     ]
    }
   ],
   "source": [
    "## Load the data\n",
    "(xtrain, ytrain), (xval, yval), num_classes = vg.load_mnist(final=False, flatten=True)\n",
    "xtrain = (xtrain - np.min(xtrain)) / (np.max(xtrain) - np.min(xtrain))\n",
    "xval = (xval - np.min(xtrain)) / (np.max(xtrain) - np.min(xtrain))\n",
    "\n",
    "\n",
    "print(f'## loaded data:')\n",
    "print(f'         number of instances: {xtrain.shape[0]} in training, {xval.shape[0]} in validation')\n",
    "print(f' training class distribution: {np.bincount(ytrain)}')\n",
    "print(f'     val. class distribution: {np.bincount(yval)}')\n",
    "\n",
    "num_instances, num_features = xtrain.shape\n"
   ]
  },
  {
   "cell_type": "code",
   "execution_count": 44,
   "metadata": {},
   "outputs": [],
   "source": [
    "class ReLU(vg.Op):\n",
    "    \"\"\"\n",
    "    Op for ReLU activation.\n",
    "    \"\"\"\n",
    "    @staticmethod\n",
    "    def forward(context, input):\n",
    "\n",
    "        pos = np.maximum(input, 0)\n",
    "        context['pos'] = pos # store the relu of x for the backward pass\n",
    "        return pos\n",
    "\n",
    "    @staticmethod\n",
    "    def backward(context, goutput):\n",
    "        pos = context['pos'] # retrieve the relu of x\n",
    "        return goutput * (pos > 0).astype(int)"
   ]
  },
  {
   "cell_type": "code",
   "execution_count": 45,
   "metadata": {},
   "outputs": [],
   "source": [
    "# Create a simple neural network.\n",
    "# This is a `Module` consisting of other modules representing linear layers, provided by the vugrad library.\n",
    "class MLP2(vg.Module):\n",
    "    \"\"\"\n",
    "    A simple MLP with one hidden layer, and a sigmoid non-linearity on the hidden layer and a softmax on the\n",
    "    output.\n",
    "    \"\"\"\n",
    "\n",
    "    def __init__(self, input_size, output_size, hidden_mult=4):\n",
    "        \"\"\"\n",
    "        :param input_size:\n",
    "        :param output_size:\n",
    "        :param hidden_mult: Multiplier that indicates how many times bigger the hidden layer is than the input layer.\n",
    "        \"\"\"\n",
    "        super().__init__()\n",
    "\n",
    "        self.name = 'MLP2'\n",
    "        hidden_size = hidden_mult * input_size\n",
    "        # -- There is no common wisdom on how big the hidden size should be, apart from the idea\n",
    "        #    that it should be strictly _bigger_ than the input if at all possible.\n",
    "\n",
    "        self.layer1 = vg.Linear(input_size, hidden_size)\n",
    "        self.layer2 = vg.Linear(hidden_size, output_size)\n",
    "        # -- The linear layer (without activation) is implemented in vugrad. We simply instantiate these modules, and\n",
    "        #    add them to our network.\n",
    "\n",
    "    def forward(self, input):\n",
    "\n",
    "        assert len(input.size()) == 2\n",
    "\n",
    "        # first layer\n",
    "        hidden = self.layer1(input)\n",
    "\n",
    "        # non-linearity\n",
    "        # hidden = vg.sigmoid(hidden)\n",
    "        hidden = ReLU.do_forward(hidden)\n",
    "        # -- We've called a utility function here, to mimin how this is usually done in pytorch. We could also do:\n",
    "        #    hidden = Sigmoid.do_forward(hidden)\n",
    "\n",
    "        # second layer\n",
    "        output = self.layer2(hidden)\n",
    "\n",
    "        # softmax activation\n",
    "        output = vg.logsoftmax(output)\n",
    "        # -- the logsoftmax computes the _logarithm_ of the probabilities produced by softmax. This makes the computation\n",
    "        #    of the CE loss more stable when the probabilities get close to 0 (remember that the CE loss is the logarithm\n",
    "        #    of these probabilities). It needs to be implemented in a specific way. See the source for details.\n",
    "\n",
    "        return output\n",
    "\n",
    "    def parameters(self):\n",
    "\n",
    "        return self.layer1.parameters() + self.layer2.parameters()"
   ]
  },
  {
   "cell_type": "code",
   "execution_count": 46,
   "metadata": {},
   "outputs": [],
   "source": [
    "# Create a simple neural network.\n",
    "# This is a `Module` consisting of other modules representing linear layers, provided by the vugrad library.\n",
    "class MLP3(vg.Module):\n",
    "    \"\"\"\n",
    "    A simple MLP with one hidden layer, and a sigmoid non-linearity on the hidden layer and a softmax on the\n",
    "    output.\n",
    "    \"\"\"\n",
    "\n",
    "    def __init__(self, input_size, output_size, hidden_mult=4):\n",
    "        \"\"\"\n",
    "        :param input_size:\n",
    "        :param output_size:\n",
    "        :param hidden_mult: Multiplier that indicates how many times bigger the hidden layer is than the input layer.\n",
    "        \"\"\"\n",
    "        super().__init__()\n",
    "        \n",
    "        self.name = 'MLP3'\n",
    "        hidden_size = hidden_mult * input_size\n",
    "        # -- There is no common wisdom on how big the hidden size should be, apart from the idea\n",
    "        #    that it should be strictly _bigger_ than the input if at all possible.\n",
    "\n",
    "        self.layer1 = vg.Linear(input_size, hidden_mult * input_size)\n",
    "        self.layer2 = vg.Linear(hidden_mult * input_size, 2 * hidden_mult * input_size)\n",
    "        self.layer3 = vg.Linear(2 * hidden_mult * input_size, output_size)\n",
    "        # -- The linear layer (without activation) is implemented in vugrad. We simply instantiate these modules, and\n",
    "        #    add them to our network.\n",
    "\n",
    "    def forward(self, input):\n",
    "\n",
    "        assert len(input.size()) == 2\n",
    "\n",
    "        # first layer\n",
    "        hidden = self.layer1(input)\n",
    "\n",
    "        # non-linearity\n",
    "        # hidden = vg.sigmoid(hidden)\n",
    "        hidden = ReLU.do_forward(hidden)\n",
    "        # -- We've called a utility function here, to mimin how this is usually done in pytorch. We could also do:\n",
    "        #    hidden = Sigmoid.do_forward(hidden)\n",
    "\n",
    "        # second layer\n",
    "        hidden = self.layer2(hidden)\n",
    "        hidden = ReLU.do_forward(hidden)\n",
    "\n",
    "        # third layer\n",
    "        output = self.layer3(hidden)\n",
    "\n",
    "\n",
    "        # softmax activation\n",
    "        output = vg.logsoftmax(output)\n",
    "        # -- the logsoftmax computes the _logarithm_ of the probabilities produced by softmax. This makes the computation\n",
    "        #    of the CE loss more stable when the probabilities get close to 0 (remember that the CE loss is the logarithm\n",
    "        #    of these probabilities). It needs to be implemented in a specific way. See the source for details.\n",
    "\n",
    "        return output\n",
    "\n",
    "    def parameters(self):\n",
    "\n",
    "        return self.layer1.parameters() + self.layer2.parameters()"
   ]
  },
  {
   "cell_type": "code",
   "execution_count": 47,
   "metadata": {},
   "outputs": [],
   "source": [
    "def train(mlp, xtrain, ytrain, xval, yval, batch_size=128, epochs=20, learning_rate=0.01, momentum=0.):\n",
    "    n, m = xtrain.shape\n",
    "    b = batch_size\n",
    "\n",
    "    metrics = {\n",
    "        'train_loss': [],\n",
    "        'val_loss': [],\n",
    "        'val_acc': []\n",
    "    }\n",
    "\n",
    "    print('\\n## Starting training')\n",
    "    for epoch in range(epochs):\n",
    "\n",
    "        print(f'epoch {epoch:03}')\n",
    "\n",
    "        ## Compute validation accuracy\n",
    "        o = mlp(vg.TensorNode(xval))\n",
    "        oval = o.value\n",
    "\n",
    "        predictions = np.argmax(oval, axis=1)\n",
    "        num_correct = (predictions == yval).sum()\n",
    "        acc = num_correct / yval.shape[0]\n",
    "\n",
    "        o.clear() # gc the computation graph\n",
    "        print(f'       accuracy: {acc:.4}')\n",
    "\n",
    "        cl = 0.0 # running sum of the training loss\n",
    "        prev_change = {}\n",
    "        is_first = True\n",
    "        # We loop over the data in batches of size `b`\n",
    "        for fr in range(0, n, b):\n",
    "\n",
    "            # The end index of the batch\n",
    "            to = min(fr + b, n)\n",
    "\n",
    "            # Slice out the batch and its corresponding target values\n",
    "            batch, targets = xtrain[fr:to, :], ytrain[fr:to]\n",
    "\n",
    "            # Wrap the inputs in a Node\n",
    "            batch = vg.TensorNode(value=batch)\n",
    "\n",
    "            outputs = mlp(batch)\n",
    "            loss = vg.logceloss(outputs, targets)\n",
    "            # -- The computation graph is now complete. It consists of the MLP, together with the computation of\n",
    "            #    the scalar loss.\n",
    "            # -- The variable `loss` is the TensorNode at the very top of our computation graph. This means we can call\n",
    "            #    it to perform operations on the computation graph, like clearing the gradients, starting the backpropgation\n",
    "            #    and clearing the graph.\n",
    "            # -- Note that we set the MLP up to produce log probabilties, so we should compute the CE loss for these.\n",
    "\n",
    "            cl += loss.value\n",
    "            # -- We must be careful here to extract the _raw_ value for the running loss. What would happen if we kept\n",
    "            #    a running sum using the TensorNode?\n",
    "\n",
    "            # Start the backpropagation\n",
    "            loss.backward()\n",
    "\n",
    "            # pply gradient descent\n",
    "            for i, parm in enumerate(mlp.parameters()):\n",
    "                if momentum > 0:\n",
    "                    if is_first:\n",
    "                        parm.value -= learning_rate * parm.grad\n",
    "                        prev_change[i] = learning_rate * parm.grad\n",
    "                    else:\n",
    "                        parm.value -= (learning_rate * parm.grad + momentum * prev_change[i])\n",
    "                        prev_change[i] = (learning_rate * parm.grad + momentum * prev_change[i])\n",
    "                else:\n",
    "                    parm.value -= learning_rate * parm.grad\n",
    "            is_first = False\n",
    "                # -- Note that we are directly manipulating the members of the parm TensorNode. This means that for this\n",
    "                #    part, we are not building up a computation graph.\n",
    "\n",
    "            # -- In Pytorch, the gradient descent is abstracted away into an Optimizer. This allows us to build slightly more\n",
    "            #    complexoptimizers than plain graident descent.\n",
    "\n",
    "            # Finally, we need to reset the gradients to zero ...\n",
    "            loss.zero_grad()\n",
    "            # ... and delete the parts of the computation graph we don't need to remember.\n",
    "            loss.clear()\n",
    "\n",
    "        # cslculate metrics\n",
    "        metrics['train_loss'].append(cl)\n",
    "        metrics['val_acc'].append(acc)\n",
    "\n",
    "        outputs = mlp(vg.TensorNode(xval))\n",
    "        loss = vg.logceloss(outputs, yval)\n",
    "        metrics['val_loss'].append(loss.value)\n",
    "\n",
    "        loss.zero_grad()\n",
    "        loss.clear()\n",
    "\n",
    "        print(f'   running loss: {cl/n:.4}')\n",
    "        \n",
    "    return mlp, metrics"
   ]
  },
  {
   "cell_type": "code",
   "execution_count": 48,
   "metadata": {},
   "outputs": [
    {
     "name": "stdout",
     "output_type": "stream",
     "text": [
      "MLP2\n",
      "\n",
      "## Starting training\n",
      "epoch 000\n",
      "       accuracy: 0.1058\n",
      "   running loss: 0.4029\n",
      "epoch 001\n",
      "       accuracy: 0.9452\n",
      "   running loss: 0.2217\n",
      "epoch 002\n",
      "       accuracy: 0.9582\n",
      "   running loss: 0.1704\n",
      "epoch 003\n",
      "       accuracy: 0.966\n",
      "   running loss: 0.1385\n",
      "epoch 004\n",
      "       accuracy: 0.9698\n",
      "   running loss: 0.1167\n",
      "epoch 005\n",
      "       accuracy: 0.9726\n",
      "   running loss: 0.1005\n",
      "epoch 006\n",
      "       accuracy: 0.976\n",
      "   running loss: 0.08801\n",
      "momentum\n",
      "\n",
      "## Starting training\n",
      "epoch 000\n",
      "       accuracy: 0.1206\n",
      "   running loss: 0.2495\n",
      "epoch 001\n",
      "       accuracy: 0.968\n",
      "   running loss: 0.09079\n",
      "epoch 002\n",
      "       accuracy: 0.9738\n",
      "   running loss: 0.05392\n",
      "epoch 003\n",
      "       accuracy: 0.98\n",
      "   running loss: 0.03395\n",
      "epoch 004\n",
      "       accuracy: 0.9802\n",
      "   running loss: 0.02218\n",
      "epoch 005\n",
      "       accuracy: 0.9806\n",
      "   running loss: 0.0146\n",
      "epoch 006\n",
      "       accuracy: 0.979\n",
      "   running loss: 0.009084\n",
      "MLP3\n",
      "\n",
      "## Starting training\n",
      "epoch 000\n",
      "       accuracy: 0.1\n",
      "   running loss: 0.4191\n",
      "epoch 001\n",
      "       accuracy: 0.9446\n",
      "   running loss: 0.2176\n",
      "epoch 002\n",
      "       accuracy: 0.9584\n",
      "   running loss: 0.1682\n",
      "epoch 003\n",
      "       accuracy: 0.9654\n",
      "   running loss: 0.1376\n",
      "epoch 004\n",
      "       accuracy: 0.9714\n",
      "   running loss: 0.1163\n",
      "epoch 005\n",
      "       accuracy: 0.9736\n",
      "   running loss: 0.1004\n",
      "epoch 006\n",
      "       accuracy: 0.9746\n",
      "   running loss: 0.08795\n",
      "momentum\n",
      "\n",
      "## Starting training\n",
      "epoch 000\n",
      "       accuracy: 0.061\n",
      "   running loss: 0.2528\n",
      "epoch 001\n",
      "       accuracy: 0.9678\n",
      "   running loss: 0.09035\n",
      "epoch 002\n",
      "       accuracy: 0.9744\n",
      "   running loss: 0.05293\n",
      "epoch 003\n",
      "       accuracy: 0.9788\n",
      "   running loss: 0.03314\n",
      "epoch 004\n",
      "       accuracy: 0.9796\n",
      "   running loss: 0.02165\n",
      "epoch 005\n",
      "       accuracy: 0.9804\n",
      "   running loss: 0.01443\n",
      "epoch 006\n",
      "       accuracy: 0.9794\n",
      "   running loss: 0.009297\n"
     ]
    }
   ],
   "source": [
    "results = {}\n",
    "for net_cls in [MLP2, MLP3]:\n",
    "    mlp = net_cls(input_size=num_features, output_size=num_classes)\n",
    "    print(mlp.name)\n",
    "    mlp, metrics = train(mlp, xtrain, ytrain, xval, yval, learning_rate=learning_rate, epochs=epochs)\n",
    "    results[mlp.name] = {}\n",
    "    results[mlp.name]['SGD'] = metrics\n",
    "\n",
    "    print('momentum')\n",
    "    mlp = net_cls(input_size=num_features, output_size=num_classes)\n",
    "    mlp, metrics = train(mlp, xtrain, ytrain, xval, yval, learning_rate=learning_rate, epochs=epochs, momentum=momentum)\n",
    "    results[mlp.name]['momentum'] = metrics"
   ]
  },
  {
   "cell_type": "code",
   "execution_count": 51,
   "metadata": {},
   "outputs": [],
   "source": [
    "import matplotlib.pyplot as plt"
   ]
  },
  {
   "cell_type": "code",
   "execution_count": 52,
   "metadata": {},
   "outputs": [
    {
     "data": {
      "image/png": "[encoded data removed]",
      "text/plain": [
       "<Figure size 640x480 with 1 Axes>"
      ]
     },
     "metadata": {},
     "output_type": "display_data"
    }
   ],
   "source": [
    "plt.plot(results['MLP2']['SGD']['train_loss'], label='2 lin layers')\n",
    "plt.plot(results['MLP2']['momentum']['train_loss'], label='2 lin layers + momentum')\n",
    "plt.plot(results['MLP3']['SGD']['train_loss'], label='3 lin layers')\n",
    "plt.plot(results['MLP3']['momentum']['train_loss'], label='3 lin layers + momentum')\n",
    "plt.xlabel('epoch')\n",
    "plt.ylabel('loss')\n",
    "plt.legend()\n",
    "plt.grid()\n",
    "plt.title('Training loss')\n",
    "plt.show()"
   ]
  },
  {
   "cell_type": "code",
   "execution_count": 54,
   "metadata": {},
   "outputs": [
    {
     "data": {
      "image/png": "[encoded data removed]",
      "text/plain": [
       "<Figure size 640x480 with 1 Axes>"
      ]
     },
     "metadata": {},
     "output_type": "display_data"
    }
   ],
   "source": [
    "plt.plot(results['MLP2']['SGD']['val_acc'], label='2 lin layers')\n",
    "plt.plot(results['MLP2']['momentum']['val_acc'], label='2 lin layers + momentum')\n",
    "plt.plot(results['MLP3']['SGD']['val_acc'], label='3 lin layers')\n",
    "plt.plot(results['MLP3']['momentum']['val_acc'], label='3 lin layers + momentum')\n",
    "plt.xlabel('epoch')\n",
    "plt.ylabel('loss')\n",
    "plt.legend()\n",
    "plt.grid()\n",
    "plt.title('Validation accuracy')\n",
    "plt.show()"
   ]
  },
  {
   "cell_type": "markdown",
   "metadata": {},
   "source": [
    "## Part 3 - PyTorch"
   ]
  },
  {
   "cell_type": "markdown",
   "metadata": {},
   "source": [
    "### Question 11 - 60-minuts blitz"
   ]
  },
  {
   "cell_type": "markdown",
   "metadata": {},
   "source": [
    "#### Tensors"
   ]
  },
  {
   "cell_type": "code",
   "execution_count": 79,
   "metadata": {},
   "outputs": [],
   "source": [
    "import torch\n",
    "import numpy as np"
   ]
  },
  {
   "cell_type": "markdown",
   "metadata": {},
   "source": [
    "Create tensor from another tensor"
   ]
  },
  {
   "cell_type": "code",
   "execution_count": 80,
   "metadata": {},
   "outputs": [],
   "source": [
    "x_data = torch.tensor([\n",
    "    [1, 2],\n",
    "    [3, 4]\n",
    "])"
   ]
  },
  {
   "cell_type": "code",
   "execution_count": 81,
   "metadata": {},
   "outputs": [
    {
     "name": "stdout",
     "output_type": "stream",
     "text": [
      "Ones Tensor: \n",
      " tensor([[1, 1],\n",
      "        [1, 1]]) \n",
      "\n",
      "Random Tensor: \n",
      " tensor([[0.0121, 0.6877],\n",
      "        [0.1075, 0.3579]]) \n",
      "\n"
     ]
    }
   ],
   "source": [
    "x_ones = torch.ones_like(x_data) # retains the properties of x_data\n",
    "print(f\"Ones Tensor: \\n {x_ones} \\n\")\n",
    "\n",
    "x_rand = torch.rand_like(x_data, dtype=torch.float) # overrides the datatype of x_data\n",
    "print(f\"Random Tensor: \\n {x_rand} \\n\")"
   ]
  },
  {
   "cell_type": "markdown",
   "metadata": {},
   "source": [
    "Create random tensor"
   ]
  },
  {
   "cell_type": "code",
   "execution_count": 82,
   "metadata": {},
   "outputs": [
    {
     "name": "stdout",
     "output_type": "stream",
     "text": [
      "Random Tensor: \n",
      " tensor([[0.5885, 0.3190, 0.2424],\n",
      "        [0.3649, 0.2799, 0.0273]]) \n",
      "\n",
      "Ones Tensor: \n",
      " tensor([[1., 1., 1.],\n",
      "        [1., 1., 1.]]) \n",
      "\n",
      "Zeros Tensor: \n",
      " tensor([[0., 0., 0.],\n",
      "        [0., 0., 0.]])\n"
     ]
    }
   ],
   "source": [
    "shape = (2, 3,)\n",
    "rand_tensor = torch.rand(shape) # uniform distribution on [0, 1)\n",
    "ones_tensor = torch.ones(shape)\n",
    "zeros_tensor = torch.zeros(shape)\n",
    "\n",
    "print(f\"Random Tensor: \\n {rand_tensor} \\n\")\n",
    "print(f\"Ones Tensor: \\n {ones_tensor} \\n\")\n",
    "print(f\"Zeros Tensor: \\n {zeros_tensor}\")"
   ]
  },
  {
   "cell_type": "markdown",
   "metadata": {},
   "source": [
    "#### Building classifier"
   ]
  },
  {
   "cell_type": "code",
   "execution_count": 1,
   "metadata": {},
   "outputs": [],
   "source": [
    "import torch\n",
    "import torchvision\n",
    "import torchvision.transforms as transforms\n",
    "\n",
    "import torch.nn as nn\n",
    "import torch.nn.functional as F\n",
    "import torch.optim as optim\n",
    "\n",
    "import matplotlib.pyplot as plt\n",
    "import numpy as np"
   ]
  },
  {
   "cell_type": "code",
   "execution_count": 42,
   "metadata": {},
   "outputs": [],
   "source": [
    "batch_size = 128\n",
    "epochs = 5\n",
    "learning_rate = 0.001\n",
    "momentum = 0.9\n"
   ]
  },
  {
   "cell_type": "code",
   "execution_count": 43,
   "metadata": {},
   "outputs": [],
   "source": [
    "# data preparation\n",
    "# - reshape to [1, 32, 32]\n",
    "# - normalize\n",
    "\n",
    "transform = transforms.Compose([\n",
    "    transforms.ToTensor(),\n",
    "    transforms.Resize((28, 28)),\n",
    "    transforms.Normalize((0.1307,), (0.3081,))\n",
    "])\n"
   ]
  },
  {
   "cell_type": "code",
   "execution_count": 96,
   "metadata": {},
   "outputs": [],
   "source": [
    "trainset = torchvision.datasets.MNIST(root='./mnist', train=True, download=True, transform=transform)\n",
    "testset = torchvision.datasets.MNIST(root='./mnist', train=False, download=True, transform=transform)"
   ]
  },
  {
   "cell_type": "code",
   "execution_count": 97,
   "metadata": {},
   "outputs": [],
   "source": [
    "# trainset, valset = torch.utils.data.random_split(trainset, [55000, 5000])"
   ]
  },
  {
   "cell_type": "code",
   "execution_count": 98,
   "metadata": {},
   "outputs": [],
   "source": [
    "trainloader = torch.utils.data.DataLoader(trainset, batch_size=batch_size, shuffle=True, num_workers=2)\n",
    "# valloader = torch.utils.data.DataLoader(valset, batch_size=batch_size, shuffle=True, num_workers=2)\n",
    "testloader = torch.utils.data.DataLoader(testset, batch_size=batch_size, shuffle=False, num_workers=2)"
   ]
  },
  {
   "cell_type": "code",
   "execution_count": 99,
   "metadata": {},
   "outputs": [],
   "source": [
    "examples = enumerate(trainloader)\n",
    "batch_idx, (example_data, example_targets) = next(examples)"
   ]
  },
  {
   "cell_type": "code",
   "execution_count": 100,
   "metadata": {},
   "outputs": [
    {
     "data": {
      "image/png": "[encoded data removed]",
      "text/plain": [
       "<Figure size 640x480 with 6 Axes>"
      ]
     },
     "metadata": {},
     "output_type": "display_data"
    }
   ],
   "source": [
    "# functions to show an image\n",
    "fig = plt.figure()\n",
    "for i in range(6):\n",
    "  plt.subplot(2,3,i+1)\n",
    "  plt.tight_layout()\n",
    "  plt.imshow(example_data[i][0], cmap='gray', interpolation='none')\n",
    "  plt.title(\"Ground Truth: {}\".format(example_targets[i]))\n",
    "  plt.xticks([])\n",
    "  plt.yticks([])"
   ]
  },
  {
   "cell_type": "code",
   "execution_count": 101,
   "metadata": {},
   "outputs": [],
   "source": [
    "class Net(nn.Module):\n",
    "    def __init__(self) -> None:\n",
    "        super().__init__()\n",
    "\n",
    "        self.conv1 = nn.Conv2d(1, 6, 5, padding=2) # [1, 28, 28] -> [6, 28, 28]\n",
    "        self.pool1 = nn.MaxPool2d(2, 2) # [6, 28, 28] -> [6, 14, 14]\n",
    "        self.conv2 = nn.Conv2d(6, 16, 5) # [6, 14, 14] -> [16, 10, 10]\n",
    "        self.pool2 = nn.MaxPool2d(2, 2) # [16, 10, 10] -> [16, 5, 5]\n",
    "        self.fc1 = nn.Linear(16 * 5 * 5, 120) # [400] -> [120]\n",
    "        self.fc2 = nn.Linear(120, 84)\n",
    "        self.fc3 = nn.Linear(84, 10)\n",
    "        # self.softmax = nn.Softmax(dim=-1)\n",
    "    \n",
    "    def forward(self, input):\n",
    "        x = input\n",
    "        x = self.conv1(x)\n",
    "        x = F.relu(x)\n",
    "        x = self.pool1(x)\n",
    "\n",
    "        x = self.conv2(x)\n",
    "        x = F.relu(x)\n",
    "        x = self.pool2(x)\n",
    "\n",
    "        x = torch.flatten(x, 1)\n",
    "\n",
    "        x = self.fc1(x)\n",
    "        x = F.relu(x)\n",
    "\n",
    "        x = self.fc2(x)\n",
    "        x = F.relu(x)\n",
    "\n",
    "        x = self.fc3(x)\n",
    "\n",
    "        # return self.softmax(x)\n",
    "        return x"
   ]
  },
  {
   "cell_type": "code",
   "execution_count": 102,
   "metadata": {},
   "outputs": [
    {
     "name": "stdout",
     "output_type": "stream",
     "text": [
      "Net(\n",
      "  (conv1): Conv2d(1, 6, kernel_size=(5, 5), stride=(1, 1), padding=(2, 2))\n",
      "  (pool1): MaxPool2d(kernel_size=2, stride=2, padding=0, dilation=1, ceil_mode=False)\n",
      "  (conv2): Conv2d(6, 16, kernel_size=(5, 5), stride=(1, 1))\n",
      "  (pool2): MaxPool2d(kernel_size=2, stride=2, padding=0, dilation=1, ceil_mode=False)\n",
      "  (fc1): Linear(in_features=400, out_features=120, bias=True)\n",
      "  (fc2): Linear(in_features=120, out_features=84, bias=True)\n",
      "  (fc3): Linear(in_features=84, out_features=10, bias=True)\n",
      ")\n"
     ]
    }
   ],
   "source": [
    "net = Net()\n",
    "print(net)"
   ]
  },
  {
   "cell_type": "code",
   "execution_count": 110,
   "metadata": {},
   "outputs": [
    {
     "name": "stdout",
     "output_type": "stream",
     "text": [
      "0.01\n",
      "[1,    50] loss: 2.300\n",
      "[1,   100] loss: 2.294\n",
      "[1,   150] loss: 2.288\n",
      "[1,   200] loss: 2.282\n",
      "[1,   250] loss: 2.270\n",
      "[1,   300] loss: 2.253\n",
      "[1,   350] loss: 2.222\n",
      "[1,   400] loss: 2.149\n",
      "[1,   450] loss: 1.944\n",
      "[2,    50] loss: 1.122\n",
      "[2,   100] loss: 0.726\n",
      "[2,   150] loss: 0.581\n",
      "[2,   200] loss: 0.515\n",
      "[2,   250] loss: 0.452\n",
      "[2,   300] loss: 0.409\n",
      "[2,   350] loss: 0.399\n",
      "[2,   400] loss: 0.366\n",
      "[2,   450] loss: 0.353\n",
      "[3,    50] loss: 0.317\n",
      "[3,   100] loss: 0.321\n",
      "[3,   150] loss: 0.289\n",
      "[3,   200] loss: 0.279\n",
      "[3,   250] loss: 0.281\n",
      "[3,   300] loss: 0.268\n",
      "[3,   350] loss: 0.244\n",
      "[3,   400] loss: 0.229\n",
      "[3,   450] loss: 0.228\n",
      "[4,    50] loss: 0.207\n",
      "[4,   100] loss: 0.211\n",
      "[4,   150] loss: 0.205\n",
      "[4,   200] loss: 0.206\n",
      "[4,   250] loss: 0.182\n",
      "[4,   300] loss: 0.193\n",
      "[4,   350] loss: 0.174\n",
      "[4,   400] loss: 0.182\n",
      "[4,   450] loss: 0.157\n",
      "[5,    50] loss: 0.170\n",
      "[5,   100] loss: 0.161\n",
      "[5,   150] loss: 0.154\n",
      "[5,   200] loss: 0.150\n",
      "[5,   250] loss: 0.150\n",
      "[5,   300] loss: 0.139\n",
      "[5,   350] loss: 0.141\n",
      "[5,   400] loss: 0.140\n",
      "[5,   450] loss: 0.129\n",
      "Finished Training\n",
      "0.03\n",
      "[1,    50] loss: 2.301\n",
      "[1,   100] loss: 2.291\n",
      "[1,   150] loss: 2.280\n",
      "[1,   200] loss: 2.260\n",
      "[1,   250] loss: 2.232\n",
      "[1,   300] loss: 2.167\n",
      "[1,   350] loss: 2.021\n",
      "[1,   400] loss: 1.686\n",
      "[1,   450] loss: 1.231\n",
      "[2,    50] loss: 0.752\n",
      "[2,   100] loss: 0.608\n",
      "[2,   150] loss: 0.495\n",
      "[2,   200] loss: 0.454\n",
      "[2,   250] loss: 0.429\n",
      "[2,   300] loss: 0.407\n",
      "[2,   350] loss: 0.388\n",
      "[2,   400] loss: 0.366\n",
      "[2,   450] loss: 0.352\n",
      "[3,    50] loss: 0.307\n",
      "[3,   100] loss: 0.321\n",
      "[3,   150] loss: 0.302\n",
      "[3,   200] loss: 0.275\n",
      "[3,   250] loss: 0.278\n",
      "[3,   300] loss: 0.258\n",
      "[3,   350] loss: 0.245\n",
      "[3,   400] loss: 0.241\n",
      "[3,   450] loss: 0.233\n",
      "[4,    50] loss: 0.219\n",
      "[4,   100] loss: 0.215\n",
      "[4,   150] loss: 0.208\n",
      "[4,   200] loss: 0.202\n",
      "[4,   250] loss: 0.193\n",
      "[4,   300] loss: 0.185\n",
      "[4,   350] loss: 0.180\n",
      "[4,   400] loss: 0.172\n",
      "[4,   450] loss: 0.179\n",
      "[5,    50] loss: 0.165\n",
      "[5,   100] loss: 0.172\n",
      "[5,   150] loss: 0.147\n",
      "[5,   200] loss: 0.150\n",
      "[5,   250] loss: 0.149\n",
      "[5,   300] loss: 0.157\n",
      "[5,   350] loss: 0.147\n",
      "[5,   400] loss: 0.133\n",
      "[5,   450] loss: 0.135\n",
      "Finished Training\n",
      "0.001\n",
      "[1,    50] loss: 2.308\n",
      "[1,   100] loss: 2.296\n",
      "[1,   150] loss: 2.287\n",
      "[1,   200] loss: 2.272\n",
      "[1,   250] loss: 2.251\n",
      "[1,   300] loss: 2.206\n",
      "[1,   350] loss: 2.094\n",
      "[1,   400] loss: 1.743\n",
      "[1,   450] loss: 1.089\n",
      "[2,    50] loss: 0.623\n",
      "[2,   100] loss: 0.506\n",
      "[2,   150] loss: 0.454\n",
      "[2,   200] loss: 0.428\n",
      "[2,   250] loss: 0.378\n",
      "[2,   300] loss: 0.366\n",
      "[2,   350] loss: 0.364\n",
      "[2,   400] loss: 0.331\n",
      "[2,   450] loss: 0.304\n",
      "[3,    50] loss: 0.307\n",
      "[3,   100] loss: 0.269\n",
      "[3,   150] loss: 0.268\n",
      "[3,   200] loss: 0.266\n",
      "[3,   250] loss: 0.250\n",
      "[3,   300] loss: 0.259\n",
      "[3,   350] loss: 0.214\n",
      "[3,   400] loss: 0.254\n",
      "[3,   450] loss: 0.209\n",
      "[4,    50] loss: 0.207\n",
      "[4,   100] loss: 0.202\n",
      "[4,   150] loss: 0.207\n",
      "[4,   200] loss: 0.208\n",
      "[4,   250] loss: 0.176\n",
      "[4,   300] loss: 0.178\n",
      "[4,   350] loss: 0.174\n",
      "[4,   400] loss: 0.181\n",
      "[4,   450] loss: 0.170\n",
      "[5,    50] loss: 0.152\n",
      "[5,   100] loss: 0.149\n",
      "[5,   150] loss: 0.153\n",
      "[5,   200] loss: 0.163\n",
      "[5,   250] loss: 0.145\n",
      "[5,   300] loss: 0.142\n",
      "[5,   350] loss: 0.154\n",
      "[5,   400] loss: 0.138\n",
      "[5,   450] loss: 0.156\n",
      "Finished Training\n",
      "0.003\n",
      "[1,    50] loss: 2.298\n",
      "[1,   100] loss: 2.285\n",
      "[1,   150] loss: 2.268\n",
      "[1,   200] loss: 2.238\n",
      "[1,   250] loss: 2.182\n",
      "[1,   300] loss: 2.034\n",
      "[1,   350] loss: 1.597\n",
      "[1,   400] loss: 0.983\n",
      "[1,   450] loss: 0.687\n",
      "[2,    50] loss: 0.510\n",
      "[2,   100] loss: 0.427\n",
      "[2,   150] loss: 0.425\n",
      "[2,   200] loss: 0.383\n",
      "[2,   250] loss: 0.359\n",
      "[2,   300] loss: 0.329\n",
      "[2,   350] loss: 0.324\n",
      "[2,   400] loss: 0.298\n",
      "[2,   450] loss: 0.283\n",
      "[3,    50] loss: 0.283\n",
      "[3,   100] loss: 0.270\n",
      "[3,   150] loss: 0.244\n",
      "[3,   200] loss: 0.225\n",
      "[3,   250] loss: 0.229\n",
      "[3,   300] loss: 0.223\n",
      "[3,   350] loss: 0.211\n",
      "[3,   400] loss: 0.204\n",
      "[3,   450] loss: 0.217\n",
      "[4,    50] loss: 0.183\n",
      "[4,   100] loss: 0.176\n",
      "[4,   150] loss: 0.189\n",
      "[4,   200] loss: 0.183\n",
      "[4,   250] loss: 0.172\n",
      "[4,   300] loss: 0.173\n",
      "[4,   350] loss: 0.152\n",
      "[4,   400] loss: 0.152\n",
      "[4,   450] loss: 0.156\n",
      "[5,    50] loss: 0.145\n",
      "[5,   100] loss: 0.140\n",
      "[5,   150] loss: 0.134\n",
      "[5,   200] loss: 0.128\n",
      "[5,   250] loss: 0.126\n",
      "[5,   300] loss: 0.138\n",
      "[5,   350] loss: 0.129\n",
      "[5,   400] loss: 0.119\n",
      "[5,   450] loss: 0.119\n",
      "Finished Training\n"
     ]
    }
   ],
   "source": [
    "losses = {}\n",
    "for lr in [0.01, 0.03, 0.001, 0.003]:\n",
    "    print(lr)\n",
    "    \n",
    "    net = Net()\n",
    "    criterion = nn.CrossEntropyLoss()\n",
    "    optimizer = optim.SGD(net.parameters(), lr=learning_rate, momentum=momentum)\n",
    "\n",
    "    loss_train = []\n",
    "    for epoch in range(epochs):  # loop over the dataset multiple times\n",
    "        running_loss = 0.0\n",
    "        for i, data in enumerate(trainloader, 0):\n",
    "            # get the inputs; data is a list of [inputs, labels]\n",
    "            inputs, labels = data\n",
    "\n",
    "            # zero the parameter gradients\n",
    "            optimizer.zero_grad()\n",
    "\n",
    "            # forward + backward + optimize\n",
    "            outputs = net(inputs)\n",
    "            loss = criterion(outputs, labels)\n",
    "            loss.backward()\n",
    "            optimizer.step()\n",
    "\n",
    "            # print statistics\n",
    "            running_loss += loss.item()\n",
    "            if i % 50 == 49:    # print every 100 mini-batches\n",
    "                loss_train.append(running_loss / 50)\n",
    "                print(f'[{epoch + 1}, {i + 1:5d}] loss: {running_loss / 50:.3f}')\n",
    "                running_loss = 0.0\n",
    "\n",
    "    losses.update({\n",
    "        lr: {\n",
    "            'loss_train': loss_train,\n",
    "            'net': net\n",
    "        }\n",
    "    })\n",
    "\n",
    "    print('Finished Training')"
   ]
  },
  {
   "cell_type": "code",
   "execution_count": 112,
   "metadata": {},
   "outputs": [
    {
     "data": {
      "image/png": "[encoded data removed]",
      "text/plain": [
       "<Figure size 640x480 with 1 Axes>"
      ]
     },
     "metadata": {},
     "output_type": "display_data"
    }
   ],
   "source": [
    "plt.plot(losses[0.01]['loss_train'], label='lr = 0.01')\n",
    "plt.plot(losses[0.03]['loss_train'], label='lr = 0.03')\n",
    "plt.plot(losses[0.001]['loss_train'], label='lr = 0.001')\n",
    "plt.plot(losses[0.003]['loss_train'], label='lr = 0.003')\n",
    "plt.xlabel('iteration')\n",
    "plt.ylabel('loss')\n",
    "plt.legend()\n",
    "plt.grid()\n",
    "plt.show()"
   ]
  },
  {
   "cell_type": "code",
   "execution_count": 116,
   "metadata": {},
   "outputs": [
    {
     "name": "stdout",
     "output_type": "stream",
     "text": [
      "Accuracy of the network (lr = 0.01) on the 10000 test images: 96 %\n",
      "Accuracy of the network (lr = 0.03) on the 10000 test images: 96 %\n",
      "Accuracy of the network (lr = 0.001) on the 10000 test images: 95 %\n",
      "Accuracy of the network (lr = 0.003) on the 10000 test images: 96 %\n"
     ]
    }
   ],
   "source": [
    "for lr in losses.keys():\n",
    "    correct = 0\n",
    "    total = 0\n",
    "\n",
    "    # since we're not training, we don't need to calculate the gradients for our outputs\n",
    "    with torch.no_grad():\n",
    "        for data in testloader:\n",
    "            images, labels = data\n",
    "            # calculate outputs by running images through the network\n",
    "            # outputs = net(images)\n",
    "            outputs = losses[lr]['net'](images)\n",
    "            # the class with the highest energy is what we choose as prediction\n",
    "            _, predicted = torch.max(outputs.data, 1)\n",
    "            total += labels.size(0)\n",
    "            correct += (predicted == labels).sum().item()\n",
    "\n",
    "    print(f'Accuracy of the network (lr = {lr}) on the 10000 test images: {100 * correct // total} %')"
   ]
  },
  {
   "cell_type": "code",
   "execution_count": 117,
   "metadata": {},
   "outputs": [
    {
     "name": "stdout",
     "output_type": "stream",
     "text": [
      "Accuracy for class: 0     is 99.3 %\n",
      "Accuracy for class: 1     is 98.9 %\n",
      "Accuracy for class: 2     is 98.9 %\n",
      "Accuracy for class: 3     is 95.9 %\n",
      "Accuracy for class: 4     is 96.2 %\n",
      "Accuracy for class: 5     is 93.4 %\n",
      "Accuracy for class: 6     is 96.6 %\n",
      "Accuracy for class: 7     is 93.3 %\n",
      "Accuracy for class: 8     is 95.5 %\n",
      "Accuracy for class: 9     is 94.9 %\n"
     ]
    }
   ],
   "source": [
    "# prepare to count predictions for each class\n",
    "classes = ['0', '1', '2', '3', '4', '5', '6', '7', '8', '9']\n",
    "correct_pred = {classname: 0 for classname in classes}\n",
    "total_pred = {classname: 0 for classname in classes}\n",
    "\n",
    "# again no gradients needed\n",
    "with torch.no_grad():\n",
    "    for data in testloader:\n",
    "        images, labels = data\n",
    "        outputs = losses[0.003]['net'](images)\n",
    "        _, predictions = torch.max(outputs, 1)\n",
    "        # collect the correct predictions for each class\n",
    "        for label, prediction in zip(labels, predictions):\n",
    "            if label == prediction:\n",
    "                correct_pred[classes[label]] += 1\n",
    "            total_pred[classes[label]] += 1\n",
    "\n",
    "\n",
    "# print accuracy for each class\n",
    "for classname, correct_count in correct_pred.items():\n",
    "    accuracy = 100 * float(correct_count) / total_pred[classname]\n",
    "    print(f'Accuracy for class: {classname:5s} is {accuracy:.1f} %')"
   ]
  },
  {
   "cell_type": "markdown",
   "metadata": {},
   "source": [
    "### Question 12"
   ]
  },
  {
   "cell_type": "code",
   "execution_count": 9,
   "metadata": {},
   "outputs": [],
   "source": [
    "import torch\n",
    "import torchvision\n",
    "import torchvision.transforms as transforms\n",
    "\n",
    "import torch.nn as nn\n",
    "import torch.nn.functional as F\n",
    "import torch.optim as optim\n"
   ]
  },
  {
   "cell_type": "code",
   "execution_count": 17,
   "metadata": {},
   "outputs": [],
   "source": [
    "epochs = 10\n",
    "batch_size = 64\n",
    "learning_rate = 0.001\n",
    "momentum = 0.9\n"
   ]
  },
  {
   "cell_type": "code",
   "execution_count": 11,
   "metadata": {},
   "outputs": [
    {
     "name": "stdout",
     "output_type": "stream",
     "text": [
      "Files already downloaded and verified\n",
      "Files already downloaded and verified\n"
     ]
    }
   ],
   "source": [
    "transform = transforms.Compose([\n",
    "    transforms.ToTensor(),\n",
    "    transforms.Normalize((0.5, 0.5, 0.5), (0.5, 0.5, 0.5))\n",
    "])\n",
    "\n",
    "trainset = torchvision.datasets.CIFAR10(root='./data', train=True, download=True, transform=transform)\n",
    "trainloader = torch.utils.data.DataLoader(trainset, batch_size=batch_size, shuffle=True, num_workers=2)\n",
    "\n",
    "testset = torchvision.datasets.CIFAR10(root='./data', train=False, download=True, transform=transform)\n",
    "testloader = torch.utils.data.DataLoader(testset, batch_size=batch_size, shuffle=False, num_workers=2)\n",
    "\n",
    "classes = ('plane', 'car', 'bird', 'cat', 'deer', 'dog', 'frog', 'horse', 'ship', 'truck')"
   ]
  },
  {
   "cell_type": "code",
   "execution_count": 12,
   "metadata": {},
   "outputs": [],
   "source": [
    "class Net_1(nn.Module):\n",
    "\n",
    "    def __init__(self):\n",
    "        super().__init__()\n",
    "        self.name = '1_conv_layer'\n",
    "        # 1 input image channel, 6 output channels, 5x5 square convolution\n",
    "        # kernel\n",
    "        self.conv1 = nn.Conv2d(3, 16, 5) # [1, 32, 32] -> [16, 28, 28]\n",
    "        self.pool1 = nn.MaxPool2d(2, 2) # [16, 28, 28] -> [16, 14, 14]\n",
    "        # an affine operation: y = Wx + b\n",
    "        self.fc1 = nn.Linear(16 * 14 * 14,512)  # 5*5 from image dimension\n",
    "        self.fc2 = nn.Linear(512, 84)\n",
    "        self.fc3 = nn.Linear(84, 10)\n",
    "\n",
    "    def forward(self, x):\n",
    "        # Max pooling over a (2, 2) window\n",
    "        # x = F.max_pool2d(F.relu(self.conv1(x)), (2, 2))\n",
    "        x = self.conv1(x)\n",
    "        x = F.relu(x)\n",
    "        x = self.pool1(x)\n",
    "        x = torch.flatten(x, 1) # flatten all dimensions except the batch dimension\n",
    "        x = F.relu(self.fc1(x))\n",
    "        x = F.relu(self.fc2(x))\n",
    "        x = self.fc3(x)\n",
    "        return x"
   ]
  },
  {
   "cell_type": "code",
   "execution_count": 13,
   "metadata": {},
   "outputs": [],
   "source": [
    "class Net_2(nn.Module):\n",
    "\n",
    "    def __init__(self):\n",
    "        super().__init__()\n",
    "        self.name = '2_conv_layers'\n",
    "        # 1 input image channel, 6 output channels, 5x5 square convolution\n",
    "        # kernel\n",
    "        self.conv1 = nn.Conv2d(3, 6, 5)\n",
    "        self.conv2 = nn.Conv2d(6, 16, 5)\n",
    "        # an affine operation: y = Wx + b\n",
    "        self.fc1 = nn.Linear(16 * 5 * 5, 120)  # 5*5 from image dimension\n",
    "        self.fc2 = nn.Linear(120, 84)\n",
    "        self.fc3 = nn.Linear(84, 10)\n",
    "\n",
    "    def forward(self, x):\n",
    "        # Max pooling over a (2, 2) window\n",
    "        x = F.max_pool2d(F.relu(self.conv1(x)), (2, 2))\n",
    "        # If the size is a square, you can specify with a single number\n",
    "        x = F.max_pool2d(F.relu(self.conv2(x)), 2)\n",
    "        x = torch.flatten(x, 1) # flatten all dimensions except the batch dimension\n",
    "        x = F.relu(self.fc1(x))\n",
    "        x = F.relu(self.fc2(x))\n",
    "        x = self.fc3(x)\n",
    "        return x"
   ]
  },
  {
   "cell_type": "code",
   "execution_count": 14,
   "metadata": {},
   "outputs": [],
   "source": [
    "class Net_3(nn.Module):\n",
    "\n",
    "    def __init__(self):\n",
    "        super().__init__()\n",
    "        self.name = '3_conv_layers'\n",
    "        # 1 input image channel, 6 output channels, 5x5 square convolution\n",
    "        # kernel\n",
    "        self.conv1 = nn.Conv2d(3, 6, 5, padding=2) # [1, 32, 32] -> [6, 32, 32]\n",
    "        self.pool1 = nn.MaxPool2d(2, 2) # [16, 32, 32] -> [16, 16, 16]\n",
    "\n",
    "        self.conv2 = nn.Conv2d(6, 16, 5, padding=2) # [6, 16, 16] -> [16, 16, 16]\n",
    "        self.pool2 = nn.MaxPool2d(2, 2) # [16, 16, 16] -> [16, 8, 8]\n",
    "\n",
    "        self.conv3 = nn.Conv2d(16, 64, 5, padding=2) # [16, 8, 8] -> [64, 8, 8]\n",
    "        self.pool3 = nn.MaxPool2d(2, 2) # [64, 8, 8] -> [64, 4, 4]\n",
    "        # an affine operation: y = Wx + b\n",
    "        self.fc1 = nn.Linear(64 * 4 * 4, 128)  # 5*5 from image dimension\n",
    "        self.fc2 = nn.Linear(128, 84)\n",
    "        self.fc3 = nn.Linear(84, 10)\n",
    "\n",
    "    def forward(self, x):\n",
    "        # Max pooling over a (2, 2) window\n",
    "        # x = F.max_pool2d(F.relu(self.conv1(x)), (2, 2))\n",
    "        x = self.conv1(x)\n",
    "        x = F.relu(x)\n",
    "        x = self.pool1(x)\n",
    "\n",
    "        x = self.conv2(x)\n",
    "        x = F.relu(x)\n",
    "        x = self.pool2(x)\n",
    "\n",
    "        x = self.conv3(x)\n",
    "        x = F.relu(x)\n",
    "        x = self.pool3(x)\n",
    "\n",
    "        x = torch.flatten(x, 1) # flatten all dimensions except the batch dimension\n",
    "        x = F.relu(self.fc1(x))\n",
    "        x = F.relu(self.fc2(x))\n",
    "        x = self.fc3(x)\n",
    "        return x"
   ]
  },
  {
   "cell_type": "code",
   "execution_count": 15,
   "metadata": {},
   "outputs": [],
   "source": [
    "from tqdm.notebook import tqdm"
   ]
  },
  {
   "cell_type": "code",
   "execution_count": 18,
   "metadata": {},
   "outputs": [
    {
     "name": "stdout",
     "output_type": "stream",
     "text": [
      "Net_1(\n",
      "  (conv1): Conv2d(3, 16, kernel_size=(5, 5), stride=(1, 1))\n",
      "  (pool1): MaxPool2d(kernel_size=2, stride=2, padding=0, dilation=1, ceil_mode=False)\n",
      "  (fc1): Linear(in_features=3136, out_features=512, bias=True)\n",
      "  (fc2): Linear(in_features=512, out_features=84, bias=True)\n",
      "  (fc3): Linear(in_features=84, out_features=10, bias=True)\n",
      ")\n"
     ]
    },
    {
     "data": {
      "application/vnd.jupyter.widget-view+json": {
       "model_id": "154d9e4d760e4e588da881ef82e70775",
       "version_major": 2,
       "version_minor": 0
      },
      "text/plain": [
       "0it [00:00, ?it/s]"
      ]
     },
     "metadata": {},
     "output_type": "display_data"
    },
    {
     "name": "stdout",
     "output_type": "stream",
     "text": [
      "[1,   100] loss: 2.301\n",
      "[1,   200] loss: 2.291\n",
      "[1,   300] loss: 2.274\n",
      "[1,   400] loss: 2.231\n",
      "[1,   500] loss: 2.150\n",
      "[1,   600] loss: 2.049\n",
      "[1,   700] loss: 1.989\n"
     ]
    },
    {
     "data": {
      "application/vnd.jupyter.widget-view+json": {
       "model_id": "56ef30581a2e4519a708f056582e7fea",
       "version_major": 2,
       "version_minor": 0
      },
      "text/plain": [
       "0it [00:00, ?it/s]"
      ]
     },
     "metadata": {},
     "output_type": "display_data"
    },
    {
     "name": "stdout",
     "output_type": "stream",
     "text": [
      "[2,   100] loss: 1.882\n",
      "[2,   200] loss: 1.844\n",
      "[2,   300] loss: 1.792\n",
      "[2,   400] loss: 1.759\n",
      "[2,   500] loss: 1.741\n",
      "[2,   600] loss: 1.678\n",
      "[2,   700] loss: 1.655\n"
     ]
    },
    {
     "data": {
      "application/vnd.jupyter.widget-view+json": {
       "model_id": "015b73ff55c44253bc49dbf5c668b1e1",
       "version_major": 2,
       "version_minor": 0
      },
      "text/plain": [
       "0it [00:00, ?it/s]"
      ]
     },
     "metadata": {},
     "output_type": "display_data"
    },
    {
     "name": "stdout",
     "output_type": "stream",
     "text": [
      "[3,   100] loss: 1.604\n",
      "[3,   200] loss: 1.572\n",
      "[3,   300] loss: 1.564\n",
      "[3,   400] loss: 1.538\n",
      "[3,   500] loss: 1.531\n",
      "[3,   600] loss: 1.495\n",
      "[3,   700] loss: 1.490\n"
     ]
    },
    {
     "data": {
      "application/vnd.jupyter.widget-view+json": {
       "model_id": "2669f1e659b2409b819d16e07007ef58",
       "version_major": 2,
       "version_minor": 0
      },
      "text/plain": [
       "0it [00:00, ?it/s]"
      ]
     },
     "metadata": {},
     "output_type": "display_data"
    },
    {
     "name": "stdout",
     "output_type": "stream",
     "text": [
      "[4,   100] loss: 1.464\n",
      "[4,   200] loss: 1.459\n",
      "[4,   300] loss: 1.437\n",
      "[4,   400] loss: 1.414\n",
      "[4,   500] loss: 1.361\n",
      "[4,   600] loss: 1.390\n",
      "[4,   700] loss: 1.368\n"
     ]
    },
    {
     "data": {
      "application/vnd.jupyter.widget-view+json": {
       "model_id": "0d659c5027974e50916d3a63c8d9a550",
       "version_major": 2,
       "version_minor": 0
      },
      "text/plain": [
       "0it [00:00, ?it/s]"
      ]
     },
     "metadata": {},
     "output_type": "display_data"
    },
    {
     "name": "stdout",
     "output_type": "stream",
     "text": [
      "[5,   100] loss: 1.337\n",
      "[5,   200] loss: 1.342\n",
      "[5,   300] loss: 1.323\n",
      "[5,   400] loss: 1.314\n",
      "[5,   500] loss: 1.310\n",
      "[5,   600] loss: 1.308\n",
      "[5,   700] loss: 1.324\n"
     ]
    },
    {
     "data": {
      "application/vnd.jupyter.widget-view+json": {
       "model_id": "7c04c9bb642e43a782ac4fce92587133",
       "version_major": 2,
       "version_minor": 0
      },
      "text/plain": [
       "0it [00:00, ?it/s]"
      ]
     },
     "metadata": {},
     "output_type": "display_data"
    },
    {
     "name": "stdout",
     "output_type": "stream",
     "text": [
      "[6,   100] loss: 1.268\n",
      "[6,   200] loss: 1.265\n",
      "[6,   300] loss: 1.269\n",
      "[6,   400] loss: 1.260\n",
      "[6,   500] loss: 1.254\n",
      "[6,   600] loss: 1.246\n",
      "[6,   700] loss: 1.241\n"
     ]
    },
    {
     "data": {
      "application/vnd.jupyter.widget-view+json": {
       "model_id": "5c7afcf1d40945e893add71a4323cf35",
       "version_major": 2,
       "version_minor": 0
      },
      "text/plain": [
       "0it [00:00, ?it/s]"
      ]
     },
     "metadata": {},
     "output_type": "display_data"
    },
    {
     "name": "stdout",
     "output_type": "stream",
     "text": [
      "[7,   100] loss: 1.233\n",
      "[7,   200] loss: 1.200\n",
      "[7,   300] loss: 1.181\n",
      "[7,   400] loss: 1.204\n",
      "[7,   500] loss: 1.182\n",
      "[7,   600] loss: 1.200\n",
      "[7,   700] loss: 1.175\n"
     ]
    },
    {
     "data": {
      "application/vnd.jupyter.widget-view+json": {
       "model_id": "3ae754b44b7f4f3fbbb53f77d5e82c68",
       "version_major": 2,
       "version_minor": 0
      },
      "text/plain": [
       "0it [00:00, ?it/s]"
      ]
     },
     "metadata": {},
     "output_type": "display_data"
    },
    {
     "name": "stdout",
     "output_type": "stream",
     "text": [
      "[8,   100] loss: 1.157\n",
      "[8,   200] loss: 1.151\n",
      "[8,   300] loss: 1.161\n",
      "[8,   400] loss: 1.142\n",
      "[8,   500] loss: 1.119\n",
      "[8,   600] loss: 1.130\n",
      "[8,   700] loss: 1.159\n"
     ]
    },
    {
     "data": {
      "application/vnd.jupyter.widget-view+json": {
       "model_id": "c11fa47591504e2c82a95c37fc5ced90",
       "version_major": 2,
       "version_minor": 0
      },
      "text/plain": [
       "0it [00:00, ?it/s]"
      ]
     },
     "metadata": {},
     "output_type": "display_data"
    },
    {
     "name": "stdout",
     "output_type": "stream",
     "text": [
      "[9,   100] loss: 1.103\n",
      "[9,   200] loss: 1.111\n",
      "[9,   300] loss: 1.098\n",
      "[9,   400] loss: 1.114\n",
      "[9,   500] loss: 1.101\n",
      "[9,   600] loss: 1.083\n",
      "[9,   700] loss: 1.071\n"
     ]
    },
    {
     "data": {
      "application/vnd.jupyter.widget-view+json": {
       "model_id": "f0fbd161756549739621394ceec21c37",
       "version_major": 2,
       "version_minor": 0
      },
      "text/plain": [
       "0it [00:00, ?it/s]"
      ]
     },
     "metadata": {},
     "output_type": "display_data"
    },
    {
     "name": "stdout",
     "output_type": "stream",
     "text": [
      "[10,   100] loss: 1.059\n",
      "[10,   200] loss: 1.050\n",
      "[10,   300] loss: 1.052\n",
      "[10,   400] loss: 1.055\n",
      "[10,   500] loss: 1.038\n",
      "[10,   600] loss: 1.026\n",
      "[10,   700] loss: 1.033\n",
      "Finished Training\n",
      "Net_2(\n",
      "  (conv1): Conv2d(3, 6, kernel_size=(5, 5), stride=(1, 1))\n",
      "  (conv2): Conv2d(6, 16, kernel_size=(5, 5), stride=(1, 1))\n",
      "  (fc1): Linear(in_features=400, out_features=120, bias=True)\n",
      "  (fc2): Linear(in_features=120, out_features=84, bias=True)\n",
      "  (fc3): Linear(in_features=84, out_features=10, bias=True)\n",
      ")\n"
     ]
    },
    {
     "data": {
      "application/vnd.jupyter.widget-view+json": {
       "model_id": "c8be2ba62f3243698937802d78f90d39",
       "version_major": 2,
       "version_minor": 0
      },
      "text/plain": [
       "0it [00:00, ?it/s]"
      ]
     },
     "metadata": {},
     "output_type": "display_data"
    },
    {
     "name": "stdout",
     "output_type": "stream",
     "text": [
      "[1,   100] loss: 2.304\n",
      "[1,   200] loss: 2.304\n",
      "[1,   300] loss: 2.302\n",
      "[1,   400] loss: 2.301\n",
      "[1,   500] loss: 2.298\n",
      "[1,   600] loss: 2.295\n",
      "[1,   700] loss: 2.293\n"
     ]
    },
    {
     "data": {
      "application/vnd.jupyter.widget-view+json": {
       "model_id": "97d387780ba04c91bfb2582dffefd117",
       "version_major": 2,
       "version_minor": 0
      },
      "text/plain": [
       "0it [00:00, ?it/s]"
      ]
     },
     "metadata": {},
     "output_type": "display_data"
    },
    {
     "name": "stdout",
     "output_type": "stream",
     "text": [
      "[2,   100] loss: 2.281\n",
      "[2,   200] loss: 2.268\n",
      "[2,   300] loss: 2.235\n",
      "[2,   400] loss: 2.177\n",
      "[2,   500] loss: 2.102\n",
      "[2,   600] loss: 2.066\n",
      "[2,   700] loss: 2.041\n"
     ]
    },
    {
     "data": {
      "application/vnd.jupyter.widget-view+json": {
       "model_id": "fd9a001ae6dd42ba88becc54f262b5c7",
       "version_major": 2,
       "version_minor": 0
      },
      "text/plain": [
       "0it [00:00, ?it/s]"
      ]
     },
     "metadata": {},
     "output_type": "display_data"
    },
    {
     "name": "stdout",
     "output_type": "stream",
     "text": [
      "[3,   100] loss: 1.979\n",
      "[3,   200] loss: 1.955\n",
      "[3,   300] loss: 1.915\n",
      "[3,   400] loss: 1.910\n",
      "[3,   500] loss: 1.872\n",
      "[3,   600] loss: 1.860\n",
      "[3,   700] loss: 1.839\n"
     ]
    },
    {
     "data": {
      "application/vnd.jupyter.widget-view+json": {
       "model_id": "ebf77b4d731d4fdd89dc8ccdd850855c",
       "version_major": 2,
       "version_minor": 0
      },
      "text/plain": [
       "0it [00:00, ?it/s]"
      ]
     },
     "metadata": {},
     "output_type": "display_data"
    },
    {
     "name": "stdout",
     "output_type": "stream",
     "text": [
      "[4,   100] loss: 1.784\n",
      "[4,   200] loss: 1.754\n",
      "[4,   300] loss: 1.733\n",
      "[4,   400] loss: 1.709\n",
      "[4,   500] loss: 1.689\n",
      "[4,   600] loss: 1.692\n",
      "[4,   700] loss: 1.660\n"
     ]
    },
    {
     "data": {
      "application/vnd.jupyter.widget-view+json": {
       "model_id": "4a8baf65c2394d298425cc6b898c64bb",
       "version_major": 2,
       "version_minor": 0
      },
      "text/plain": [
       "0it [00:00, ?it/s]"
      ]
     },
     "metadata": {},
     "output_type": "display_data"
    },
    {
     "name": "stdout",
     "output_type": "stream",
     "text": [
      "[5,   100] loss: 1.618\n",
      "[5,   200] loss: 1.624\n",
      "[5,   300] loss: 1.608\n",
      "[5,   400] loss: 1.593\n",
      "[5,   500] loss: 1.571\n",
      "[5,   600] loss: 1.568\n",
      "[5,   700] loss: 1.560\n"
     ]
    },
    {
     "data": {
      "application/vnd.jupyter.widget-view+json": {
       "model_id": "323dcd141bdb486782cab1b59c374347",
       "version_major": 2,
       "version_minor": 0
      },
      "text/plain": [
       "0it [00:00, ?it/s]"
      ]
     },
     "metadata": {},
     "output_type": "display_data"
    },
    {
     "name": "stdout",
     "output_type": "stream",
     "text": [
      "[6,   100] loss: 1.526\n",
      "[6,   200] loss: 1.526\n",
      "[6,   300] loss: 1.523\n",
      "[6,   400] loss: 1.523\n",
      "[6,   500] loss: 1.506\n",
      "[6,   600] loss: 1.507\n",
      "[6,   700] loss: 1.502\n"
     ]
    },
    {
     "data": {
      "application/vnd.jupyter.widget-view+json": {
       "model_id": "4ba75409fe1146b5bc7bb4e18418ff49",
       "version_major": 2,
       "version_minor": 0
      },
      "text/plain": [
       "0it [00:00, ?it/s]"
      ]
     },
     "metadata": {},
     "output_type": "display_data"
    },
    {
     "name": "stdout",
     "output_type": "stream",
     "text": [
      "[7,   100] loss: 1.489\n",
      "[7,   200] loss: 1.451\n",
      "[7,   300] loss: 1.477\n",
      "[7,   400] loss: 1.455\n",
      "[7,   500] loss: 1.449\n",
      "[7,   600] loss: 1.440\n",
      "[7,   700] loss: 1.421\n"
     ]
    },
    {
     "data": {
      "application/vnd.jupyter.widget-view+json": {
       "model_id": "eface88f88b74eeeab728a95267dea5c",
       "version_major": 2,
       "version_minor": 0
      },
      "text/plain": [
       "0it [00:00, ?it/s]"
      ]
     },
     "metadata": {},
     "output_type": "display_data"
    },
    {
     "name": "stdout",
     "output_type": "stream",
     "text": [
      "[8,   100] loss: 1.421\n",
      "[8,   200] loss: 1.433\n",
      "[8,   300] loss: 1.415\n",
      "[8,   400] loss: 1.413\n",
      "[8,   500] loss: 1.362\n",
      "[8,   600] loss: 1.405\n",
      "[8,   700] loss: 1.403\n"
     ]
    },
    {
     "data": {
      "application/vnd.jupyter.widget-view+json": {
       "model_id": "9d87e671da604ee39a71dbb641c328e8",
       "version_major": 2,
       "version_minor": 0
      },
      "text/plain": [
       "0it [00:00, ?it/s]"
      ]
     },
     "metadata": {},
     "output_type": "display_data"
    },
    {
     "name": "stdout",
     "output_type": "stream",
     "text": [
      "[9,   100] loss: 1.378\n",
      "[9,   200] loss: 1.389\n",
      "[9,   300] loss: 1.373\n",
      "[9,   400] loss: 1.378\n",
      "[9,   500] loss: 1.333\n",
      "[9,   600] loss: 1.363\n",
      "[9,   700] loss: 1.359\n"
     ]
    },
    {
     "data": {
      "application/vnd.jupyter.widget-view+json": {
       "model_id": "134ef3c715a743ae8edbf65adc975a3d",
       "version_major": 2,
       "version_minor": 0
      },
      "text/plain": [
       "0it [00:00, ?it/s]"
      ]
     },
     "metadata": {},
     "output_type": "display_data"
    },
    {
     "name": "stdout",
     "output_type": "stream",
     "text": [
      "[10,   100] loss: 1.330\n",
      "[10,   200] loss: 1.351\n",
      "[10,   300] loss: 1.334\n",
      "[10,   400] loss: 1.332\n",
      "[10,   500] loss: 1.329\n",
      "[10,   600] loss: 1.302\n",
      "[10,   700] loss: 1.325\n",
      "Finished Training\n",
      "Net_3(\n",
      "  (conv1): Conv2d(3, 6, kernel_size=(5, 5), stride=(1, 1), padding=(2, 2))\n",
      "  (pool1): MaxPool2d(kernel_size=2, stride=2, padding=0, dilation=1, ceil_mode=False)\n",
      "  (conv2): Conv2d(6, 16, kernel_size=(5, 5), stride=(1, 1), padding=(2, 2))\n",
      "  (pool2): MaxPool2d(kernel_size=2, stride=2, padding=0, dilation=1, ceil_mode=False)\n",
      "  (conv3): Conv2d(16, 64, kernel_size=(5, 5), stride=(1, 1), padding=(2, 2))\n",
      "  (pool3): MaxPool2d(kernel_size=2, stride=2, padding=0, dilation=1, ceil_mode=False)\n",
      "  (fc1): Linear(in_features=1024, out_features=128, bias=True)\n",
      "  (fc2): Linear(in_features=128, out_features=84, bias=True)\n",
      "  (fc3): Linear(in_features=84, out_features=10, bias=True)\n",
      ")\n"
     ]
    },
    {
     "data": {
      "application/vnd.jupyter.widget-view+json": {
       "model_id": "9ea298e4a08f4095abb75fca24626120",
       "version_major": 2,
       "version_minor": 0
      },
      "text/plain": [
       "0it [00:00, ?it/s]"
      ]
     },
     "metadata": {},
     "output_type": "display_data"
    },
    {
     "name": "stdout",
     "output_type": "stream",
     "text": [
      "[1,   100] loss: 2.303\n",
      "[1,   200] loss: 2.304\n",
      "[1,   300] loss: 2.303\n",
      "[1,   400] loss: 2.303\n",
      "[1,   500] loss: 2.302\n",
      "[1,   600] loss: 2.300\n",
      "[1,   700] loss: 2.300\n"
     ]
    },
    {
     "data": {
      "application/vnd.jupyter.widget-view+json": {
       "model_id": "a3ebe6f6dc3d4a98b9634e1bb308ba5f",
       "version_major": 2,
       "version_minor": 0
      },
      "text/plain": [
       "0it [00:00, ?it/s]"
      ]
     },
     "metadata": {},
     "output_type": "display_data"
    },
    {
     "name": "stdout",
     "output_type": "stream",
     "text": [
      "[2,   100] loss: 2.298\n",
      "[2,   200] loss: 2.297\n",
      "[2,   300] loss: 2.296\n",
      "[2,   400] loss: 2.294\n",
      "[2,   500] loss: 2.291\n",
      "[2,   600] loss: 2.285\n",
      "[2,   700] loss: 2.278\n"
     ]
    },
    {
     "data": {
      "application/vnd.jupyter.widget-view+json": {
       "model_id": "ee7e5fa3c4cc47aba8fb8c03d76a69f5",
       "version_major": 2,
       "version_minor": 0
      },
      "text/plain": [
       "0it [00:00, ?it/s]"
      ]
     },
     "metadata": {},
     "output_type": "display_data"
    },
    {
     "name": "stdout",
     "output_type": "stream",
     "text": [
      "[3,   100] loss: 2.232\n",
      "[3,   200] loss: 2.163\n",
      "[3,   300] loss: 2.072\n",
      "[3,   400] loss: 2.006\n",
      "[3,   500] loss: 1.968\n",
      "[3,   600] loss: 1.925\n",
      "[3,   700] loss: 1.913\n"
     ]
    },
    {
     "data": {
      "application/vnd.jupyter.widget-view+json": {
       "model_id": "eb89295ac310474199211e9cb62f3992",
       "version_major": 2,
       "version_minor": 0
      },
      "text/plain": [
       "0it [00:00, ?it/s]"
      ]
     },
     "metadata": {},
     "output_type": "display_data"
    },
    {
     "name": "stdout",
     "output_type": "stream",
     "text": [
      "[4,   100] loss: 1.860\n",
      "[4,   200] loss: 1.858\n",
      "[4,   300] loss: 1.810\n",
      "[4,   400] loss: 1.804\n",
      "[4,   500] loss: 1.758\n",
      "[4,   600] loss: 1.726\n",
      "[4,   700] loss: 1.725\n"
     ]
    },
    {
     "data": {
      "application/vnd.jupyter.widget-view+json": {
       "model_id": "880643960d6c49bc93e639d29434d71d",
       "version_major": 2,
       "version_minor": 0
      },
      "text/plain": [
       "0it [00:00, ?it/s]"
      ]
     },
     "metadata": {},
     "output_type": "display_data"
    },
    {
     "name": "stdout",
     "output_type": "stream",
     "text": [
      "[5,   100] loss: 1.674\n",
      "[5,   200] loss: 1.666\n",
      "[5,   300] loss: 1.635\n",
      "[5,   400] loss: 1.637\n",
      "[5,   500] loss: 1.632\n",
      "[5,   600] loss: 1.609\n",
      "[5,   700] loss: 1.601\n"
     ]
    },
    {
     "data": {
      "application/vnd.jupyter.widget-view+json": {
       "model_id": "c7381bf9de9c49ca9a2c0ff748876956",
       "version_major": 2,
       "version_minor": 0
      },
      "text/plain": [
       "0it [00:00, ?it/s]"
      ]
     },
     "metadata": {},
     "output_type": "display_data"
    },
    {
     "name": "stdout",
     "output_type": "stream",
     "text": [
      "[6,   100] loss: 1.584\n",
      "[6,   200] loss: 1.578\n",
      "[6,   300] loss: 1.542\n",
      "[6,   400] loss: 1.544\n",
      "[6,   500] loss: 1.518\n",
      "[6,   600] loss: 1.520\n",
      "[6,   700] loss: 1.490\n"
     ]
    },
    {
     "data": {
      "application/vnd.jupyter.widget-view+json": {
       "model_id": "edea94051f99451da388bcc9290f28ef",
       "version_major": 2,
       "version_minor": 0
      },
      "text/plain": [
       "0it [00:00, ?it/s]"
      ]
     },
     "metadata": {},
     "output_type": "display_data"
    },
    {
     "name": "stdout",
     "output_type": "stream",
     "text": [
      "[7,   100] loss: 1.471\n",
      "[7,   200] loss: 1.471\n",
      "[7,   300] loss: 1.459\n",
      "[7,   400] loss: 1.458\n",
      "[7,   500] loss: 1.438\n",
      "[7,   600] loss: 1.445\n",
      "[7,   700] loss: 1.432\n"
     ]
    },
    {
     "data": {
      "application/vnd.jupyter.widget-view+json": {
       "model_id": "7e4170410ac54e699851d00690a375c0",
       "version_major": 2,
       "version_minor": 0
      },
      "text/plain": [
       "0it [00:00, ?it/s]"
      ]
     },
     "metadata": {},
     "output_type": "display_data"
    },
    {
     "name": "stdout",
     "output_type": "stream",
     "text": [
      "[8,   100] loss: 1.405\n",
      "[8,   200] loss: 1.406\n",
      "[8,   300] loss: 1.359\n",
      "[8,   400] loss: 1.381\n",
      "[8,   500] loss: 1.375\n",
      "[8,   600] loss: 1.353\n",
      "[8,   700] loss: 1.338\n"
     ]
    },
    {
     "data": {
      "application/vnd.jupyter.widget-view+json": {
       "model_id": "c1fdb6a4fc89487ab82dd5fafa3ee463",
       "version_major": 2,
       "version_minor": 0
      },
      "text/plain": [
       "0it [00:00, ?it/s]"
      ]
     },
     "metadata": {},
     "output_type": "display_data"
    },
    {
     "name": "stdout",
     "output_type": "stream",
     "text": [
      "[9,   100] loss: 1.315\n",
      "[9,   200] loss: 1.331\n",
      "[9,   300] loss: 1.346\n",
      "[9,   400] loss: 1.328\n",
      "[9,   500] loss: 1.280\n",
      "[9,   600] loss: 1.322\n",
      "[9,   700] loss: 1.290\n"
     ]
    },
    {
     "data": {
      "application/vnd.jupyter.widget-view+json": {
       "model_id": "b71b949e59104e94858fd7017d107e06",
       "version_major": 2,
       "version_minor": 0
      },
      "text/plain": [
       "0it [00:00, ?it/s]"
      ]
     },
     "metadata": {},
     "output_type": "display_data"
    },
    {
     "name": "stdout",
     "output_type": "stream",
     "text": [
      "[10,   100] loss: 1.278\n",
      "[10,   200] loss: 1.261\n",
      "[10,   300] loss: 1.259\n",
      "[10,   400] loss: 1.240\n",
      "[10,   500] loss: 1.259\n",
      "[10,   600] loss: 1.235\n",
      "[10,   700] loss: 1.246\n",
      "Finished Training\n"
     ]
    }
   ],
   "source": [
    "stat = {}\n",
    "for net_cls in [Net_1, Net_2, Net_3]:\n",
    "    net = net_cls()\n",
    "    print(net)\n",
    "\n",
    "    criterion = nn.CrossEntropyLoss()\n",
    "\n",
    "    # optimizer = optim.Adam(net.parameters(), lr=learning_rate)\n",
    "    optimizer = optim.SGD(net.parameters(), lr=learning_rate, momentum=momentum)\n",
    "\n",
    "    loss_history = []\n",
    "    for epoch in range(epochs):  # loop over the dataset multiple times\n",
    "        running_loss = 0.0\n",
    "        for i, data in tqdm(enumerate(trainloader, 0)):\n",
    "            # get the inputs; data is a list of [inputs, labels]\n",
    "            inputs, labels = data\n",
    "\n",
    "            # zero the parameter gradients\n",
    "            optimizer.zero_grad()\n",
    "\n",
    "            # forward + backward + optimize\n",
    "            outputs = net(inputs)\n",
    "            loss = criterion(outputs, labels)\n",
    "            loss.backward()\n",
    "            optimizer.step()\n",
    "\n",
    "            # print statistics\n",
    "            running_loss += loss.item()\n",
    "\n",
    "            every_n_iter = 100\n",
    "            if i % every_n_iter == (every_n_iter - 1):\n",
    "                loss_history.append(running_loss / every_n_iter)\n",
    "                print(f'[{epoch + 1}, {i + 1:5d}] loss: {running_loss / every_n_iter:.3f}')\n",
    "                running_loss = 0.0\n",
    "    print('Finished Training')\n",
    "\n",
    "    stat[net.name] = {\n",
    "        'net': net,\n",
    "        'train_loss': loss_history\n",
    "    }\n",
    "    \n"
   ]
  },
  {
   "cell_type": "code",
   "execution_count": 20,
   "metadata": {},
   "outputs": [],
   "source": [
    "import matplotlib.pyplot as plt"
   ]
  },
  {
   "cell_type": "code",
   "execution_count": 24,
   "metadata": {},
   "outputs": [
    {
     "data": {
      "image/png": "[encoded data removed]",
      "text/plain": [
       "<Figure size 640x480 with 1 Axes>"
      ]
     },
     "metadata": {},
     "output_type": "display_data"
    }
   ],
   "source": [
    "plt.plot(stat['1_conv_layer']['train_loss'], label='1 conv layer')\n",
    "plt.plot(stat['2_conv_layers']['train_loss'], label='2 conv layers')\n",
    "plt.plot(stat['3_conv_layers']['train_loss'], label='3 conv layers')\n",
    "plt.xlabel('iteration')\n",
    "plt.ylabel('loss')\n",
    "plt.legend()\n",
    "plt.grid()\n",
    "plt.title('Training loss')\n",
    "plt.show()"
   ]
  },
  {
   "cell_type": "code",
   "execution_count": 26,
   "metadata": {},
   "outputs": [
    {
     "name": "stdout",
     "output_type": "stream",
     "text": [
      "Accuracy of the network with 1_conv_layer on the 10000 test images: 59 %\n",
      "Accuracy of the network with 2_conv_layers on the 10000 test images: 51 %\n",
      "Accuracy of the network with 3_conv_layers on the 10000 test images: 55 %\n"
     ]
    }
   ],
   "source": [
    "for key, val in stat.items():  \n",
    "    correct = 0\n",
    "    total = 0\n",
    "    # since we're not training, we don't need to calculate the gradients for our outputs\n",
    "    with torch.no_grad():\n",
    "        for data in testloader:\n",
    "            images, labels = data\n",
    "            # calculate outputs by running images through the network\n",
    "            outputs = val['net'](images)\n",
    "            # the class with the highest energy is what we choose as prediction\n",
    "            _, predicted = torch.max(outputs.data, 1)\n",
    "            total += labels.size(0)\n",
    "            correct += (predicted == labels).sum().item()\n",
    "\n",
    "    print(f'Accuracy of the network with {key} on the 10000 test images: {100 * correct // total} %')"
   ]
  },
  {
   "cell_type": "code",
   "execution_count": 27,
   "metadata": {},
   "outputs": [
    {
     "name": "stdout",
     "output_type": "stream",
     "text": [
      "Collecting torchsummary\n",
      "  Downloading torchsummary-1.5.1-py3-none-any.whl (2.8 kB)\n",
      "Installing collected packages: torchsummary\n",
      "Successfully installed torchsummary-1.5.1\n"
     ]
    }
   ],
   "source": [
    "!pip install torchsummary"
   ]
  },
  {
   "cell_type": "code",
   "execution_count": 29,
   "metadata": {},
   "outputs": [
    {
     "name": "stdout",
     "output_type": "stream",
     "text": [
      "----------------------------------------------------------------\n",
      "        Layer (type)               Output Shape         Param #\n",
      "================================================================\n",
      "            Conv2d-1           [-1, 16, 28, 28]           1,216\n",
      "         MaxPool2d-2           [-1, 16, 14, 14]               0\n",
      "            Linear-3                  [-1, 512]       1,606,144\n",
      "            Linear-4                   [-1, 84]          43,092\n",
      "            Linear-5                   [-1, 10]             850\n",
      "================================================================\n",
      "Total params: 1,651,302\n",
      "Trainable params: 1,651,302\n",
      "Non-trainable params: 0\n",
      "----------------------------------------------------------------\n",
      "Input size (MB): 0.01\n",
      "Forward/backward pass size (MB): 0.12\n",
      "Params size (MB): 6.30\n",
      "Estimated Total Size (MB): 6.44\n",
      "----------------------------------------------------------------\n",
      "None\n",
      "----------------------------------------------------------------\n",
      "        Layer (type)               Output Shape         Param #\n",
      "================================================================\n",
      "            Conv2d-1            [-1, 6, 28, 28]             456\n",
      "            Conv2d-2           [-1, 16, 10, 10]           2,416\n",
      "            Linear-3                  [-1, 120]          48,120\n",
      "            Linear-4                   [-1, 84]          10,164\n",
      "            Linear-5                   [-1, 10]             850\n",
      "================================================================\n",
      "Total params: 62,006\n",
      "Trainable params: 62,006\n",
      "Non-trainable params: 0\n",
      "----------------------------------------------------------------\n",
      "Input size (MB): 0.01\n",
      "Forward/backward pass size (MB): 0.05\n",
      "Params size (MB): 0.24\n",
      "Estimated Total Size (MB): 0.30\n",
      "----------------------------------------------------------------\n",
      "None\n",
      "----------------------------------------------------------------\n",
      "        Layer (type)               Output Shape         Param #\n",
      "================================================================\n",
      "            Conv2d-1            [-1, 6, 32, 32]             456\n",
      "         MaxPool2d-2            [-1, 6, 16, 16]               0\n",
      "            Conv2d-3           [-1, 16, 16, 16]           2,416\n",
      "         MaxPool2d-4             [-1, 16, 8, 8]               0\n",
      "            Conv2d-5             [-1, 64, 8, 8]          25,664\n",
      "         MaxPool2d-6             [-1, 64, 4, 4]               0\n",
      "            Linear-7                  [-1, 128]         131,200\n",
      "            Linear-8                   [-1, 84]          10,836\n",
      "            Linear-9                   [-1, 10]             850\n",
      "================================================================\n",
      "Total params: 171,422\n",
      "Trainable params: 171,422\n",
      "Non-trainable params: 0\n",
      "----------------------------------------------------------------\n",
      "Input size (MB): 0.01\n",
      "Forward/backward pass size (MB): 0.14\n",
      "Params size (MB): 0.65\n",
      "Estimated Total Size (MB): 0.80\n",
      "----------------------------------------------------------------\n",
      "None\n"
     ]
    }
   ],
   "source": [
    "from torchsummary import summary\n",
    "\n",
    "for key, val in stat.items(): \n",
    "    print(summary(val['net'], (3, 32, 32)))"
   ]
  },
  {
   "cell_type": "code",
   "execution_count": null,
   "metadata": {},
   "outputs": [],
   "source": []
  }
 ],
 "metadata": {
  "kernelspec": {
   "display_name": "Python 3.9.15",
   "language": "python",
   "name": "python3"
  },
  "language_info": {
   "codemirror_mode": {
    "name": "ipython",
    "version": 3
   },
   "file_extension": ".py",
   "mimetype": "text/x-python",
   "name": "python",
   "nbconvert_exporter": "python",
   "pygments_lexer": "ipython3",
   "version": "3.9.15"
  },
  "orig_nbformat": 4,
  "vscode": {
   "interpreter": {
    "hash": "80529b423b53fd639a6f5f2af8b83afb67b7ac3506cc89d37f7746dba0566c4c"
   }
  }
 },
 "nbformat": 4,
 "nbformat_minor": 2
}
