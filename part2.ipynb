{
 "cells": [
  {
   "cell_type": "markdown",
   "metadata": {},
   "source": [
    "# Assignment 2"
   ]
  },
  {
   "cell_type": "code",
   "execution_count": 1,
   "metadata": {},
   "outputs": [],
   "source": [
    "import matplotlib.pyplot as plt\n",
    "import numpy as np\n",
    "import random\n",
    "from time import time\n",
    "\n",
    "from data_rnn import load_ndfa"
   ]
  },
  {
   "cell_type": "code",
   "execution_count": 2,
   "metadata": {},
   "outputs": [],
   "source": [
    "import torch\n",
    "import torch.nn as nn\n",
    "import torch.nn.functional as F\n",
    "\n",
    "import torch.optim as optim\n",
    "import torch.distributions as dist"
   ]
  },
  {
   "cell_type": "code",
   "execution_count": 3,
   "metadata": {},
   "outputs": [
    {
     "data": {
      "text/plain": [
       "device(type='cpu')"
      ]
     },
     "execution_count": 3,
     "metadata": {},
     "output_type": "execute_result"
    }
   ],
   "source": [
    "if torch.cuda.is_available():\n",
    "    device = torch.device('cuda') \n",
    "else:\n",
    "    device = torch.device('cpu') \n",
    "\n",
    "device"
   ]
  },
  {
   "cell_type": "markdown",
   "metadata": {},
   "source": [
    "### Load data"
   ]
  },
  {
   "cell_type": "code",
   "execution_count": 4,
   "metadata": {},
   "outputs": [],
   "source": [
    "# NDFA\n",
    "x_train, (i2w, w2i) = load_ndfa(n=150_000)\n",
    "\n",
    "# # Brackets\n",
    "# x_train, (i2w, w2i) = load_brackets(n=150_000)"
   ]
  },
  {
   "cell_type": "code",
   "execution_count": 5,
   "metadata": {},
   "outputs": [
    {
     "data": {
      "text/plain": [
       "150000"
      ]
     },
     "execution_count": 5,
     "metadata": {},
     "output_type": "execute_result"
    }
   ],
   "source": [
    "len(x_train)"
   ]
  },
  {
   "cell_type": "code",
   "execution_count": 6,
   "metadata": {},
   "outputs": [
    {
     "data": {
      "text/plain": [
       "[10, 10]"
      ]
     },
     "execution_count": 6,
     "metadata": {},
     "output_type": "execute_result"
    }
   ],
   "source": [
    "x_train[0]"
   ]
  },
  {
   "cell_type": "code",
   "execution_count": 7,
   "metadata": {},
   "outputs": [
    {
     "name": "stdout",
     "output_type": "stream",
     "text": [
      "ss\n"
     ]
    }
   ],
   "source": [
    "print(''.join([i2w[i] for i in  x_train[10_000]]) )"
   ]
  },
  {
   "cell_type": "code",
   "execution_count": 8,
   "metadata": {},
   "outputs": [
    {
     "data": {
      "text/plain": [
       "15"
      ]
     },
     "execution_count": 8,
     "metadata": {},
     "output_type": "execute_result"
    }
   ],
   "source": [
    "vocab_size = len(w2i)\n",
    "vocab_size"
   ]
  },
  {
   "cell_type": "code",
   "execution_count": 9,
   "metadata": {},
   "outputs": [
    {
     "data": {
      "text/plain": [
       "{'.pad': 0,\n",
       " '.start': 1,\n",
       " '.end': 2,\n",
       " '.unk': 3,\n",
       " 'b': 4,\n",
       " 'w': 5,\n",
       " 'c': 6,\n",
       " 'k': 7,\n",
       " 'a': 8,\n",
       " 'm': 9,\n",
       " 's': 10,\n",
       " '!': 11,\n",
       " 'u': 12,\n",
       " 'l': 13,\n",
       " 'v': 14}"
      ]
     },
     "execution_count": 9,
     "metadata": {},
     "output_type": "execute_result"
    }
   ],
   "source": [
    "w2i"
   ]
  },
  {
   "cell_type": "code",
   "execution_count": 10,
   "metadata": {},
   "outputs": [],
   "source": [
    "def get_max_seq_length(batch):\n",
    "    return max(len(seq) for seq in batch)"
   ]
  },
  {
   "cell_type": "code",
   "execution_count": 11,
   "metadata": {},
   "outputs": [],
   "source": [
    "def get_sum_seq_lengths(batch):\n",
    "    return sum(len(seq) for seq in batch)"
   ]
  },
  {
   "cell_type": "code",
   "execution_count": 12,
   "metadata": {},
   "outputs": [],
   "source": [
    "def add_padding(seq, amt=1):\n",
    "    for _ in range(amt):\n",
    "        seq.append(w2i['.pad'])\n",
    "    return seq"
   ]
  },
  {
   "cell_type": "code",
   "execution_count": 13,
   "metadata": {},
   "outputs": [],
   "source": [
    "def add_start(seq):\n",
    "    seq.insert(0, w2i['.start'])\n",
    "    return seq"
   ]
  },
  {
   "cell_type": "code",
   "execution_count": 14,
   "metadata": {},
   "outputs": [],
   "source": [
    "def add_end(seq):\n",
    "    seq.append(w2i['.end'])\n",
    "    return seq"
   ]
  },
  {
   "cell_type": "code",
   "execution_count": 15,
   "metadata": {},
   "outputs": [
    {
     "name": "stdout",
     "output_type": "stream",
     "text": [
      "The longest sequence in trainset has 158 length.\n"
     ]
    }
   ],
   "source": [
    "print(f'The longest sequence in trainset has {get_max_seq_length(x_train)} length.')"
   ]
  },
  {
   "cell_type": "code",
   "execution_count": 16,
   "metadata": {},
   "outputs": [
    {
     "name": "stdout",
     "output_type": "stream",
     "text": [
      "Mean length of a sequence in trainset is 13.96264.\n"
     ]
    }
   ],
   "source": [
    "print(f'Mean length of a sequence in trainset is {get_sum_seq_lengths(x_train) / len(x_train)}.')"
   ]
  },
  {
   "cell_type": "code",
   "execution_count": 17,
   "metadata": {},
   "outputs": [],
   "source": [
    "def preprocess_batch(batch):\n",
    "    max_len = get_max_seq_length(batch)\n",
    "    \n",
    "    upd_batch = []\n",
    "    for i, _ in enumerate(batch):\n",
    "        seq = batch[i].copy()\n",
    "        seq = add_start(seq)\n",
    "        seq = add_end(seq)\n",
    "        seq = add_padding(seq, amt=max_len + 2 - len(seq))\n",
    "        upd_batch.append(seq)\n",
    "    \n",
    "    upd_batch = torch.tensor(upd_batch, dtype=torch.long)\n",
    "    return upd_batch"
   ]
  },
  {
   "cell_type": "code",
   "execution_count": 18,
   "metadata": {},
   "outputs": [],
   "source": [
    "def get_batches(data, max_token_amount=10000):\n",
    "    batches, targets = [], []\n",
    "    bound_l, bound_r = -1, 0\n",
    "\n",
    "    while bound_r < len(data):\n",
    "        bound_l = bound_r\n",
    "\n",
    "        num_of_tokens = 0\n",
    "        while bound_r < len(data) and (num_of_tokens + len(data[bound_r])) < max_token_amount:\n",
    "            num_of_tokens += len(data[bound_r])\n",
    "            bound_r += 1\n",
    "        print(bound_l, bound_r)\n",
    "        batch = data[bound_l:bound_r]\n",
    "        batch = preprocess_batch(batch)\n",
    "        target = F.pad(batch, (0, 1), \"constant\", 0)[:, 1:]\n",
    "        # target = F.one_hot(target, num_classes=vocab_size)\n",
    "\n",
    "        batches.append(batch)\n",
    "        targets.append(target)\n",
    "    return batches, targets\n"
   ]
  },
  {
   "cell_type": "code",
   "execution_count": 19,
   "metadata": {},
   "outputs": [],
   "source": [
    "def batch_generator(batches, targets):\n",
    "    indices = list(range(len(batches)))\n",
    "    random.shuffle(indices)\n",
    "    # print(f'Shuffle: {indices}')\n",
    "    \n",
    "    for ind in indices:\n",
    "        yield batches[ind], targets[ind], (len(batches[ind]), len(batches[ind][0]))"
   ]
  },
  {
   "cell_type": "markdown",
   "metadata": {},
   "source": [
    "## Question 5"
   ]
  },
  {
   "cell_type": "code",
   "execution_count": 20,
   "metadata": {},
   "outputs": [],
   "source": [
    "class Net(nn.Module):\n",
    "    def __init__(self, vocab_size, embedding_size=32, hidden_size=16, lstm_num_layers=3) -> None:\n",
    "        super().__init__()\n",
    "\n",
    "        self.embed = nn.Embedding(vocab_size, embedding_size)\n",
    "        self.lstm = nn.LSTM(embedding_size, hidden_size, lstm_num_layers, batch_first=True)\n",
    "        self.linear = nn.Linear(hidden_size, vocab_size)\n",
    "\n",
    "    def forward(self, input):\n",
    "        x = input\n",
    "        x = self.embed(x)\n",
    "        x, (hn, cn) = self.lstm(x)\n",
    "        output = self.linear(x)\n",
    "        return output"
   ]
  },
  {
   "cell_type": "code",
   "execution_count": 21,
   "metadata": {},
   "outputs": [
    {
     "data": {
      "text/plain": [
       "Net(\n",
       "  (embed): Embedding(15, 32)\n",
       "  (lstm): LSTM(32, 16, num_layers=3, batch_first=True)\n",
       "  (linear): Linear(in_features=16, out_features=15, bias=True)\n",
       ")"
      ]
     },
     "execution_count": 21,
     "metadata": {},
     "output_type": "execute_result"
    }
   ],
   "source": [
    "net = Net(vocab_size)\n",
    "net"
   ]
  },
  {
   "cell_type": "code",
   "execution_count": 27,
   "metadata": {},
   "outputs": [],
   "source": [
    "def train(model, batches, targets, epochs=3, learning_rate=0.01, device=torch.device('cpu')):\n",
    "    criterion = nn.CrossEntropyLoss(reduction='sum', ignore_index=w2i['.pad'])\n",
    "    optimizer = optim.Adam(model.parameters(), lr=learning_rate)\n",
    "\n",
    "    model.to(device)\n",
    "    model.train()\n",
    "\n",
    "    metrics = {\n",
    "        'loss_history': [], # loss per iteration\n",
    "        'loss_train': [], # loss per epoch\n",
    "        'loss_history_per_token': [] # loss per token on iteratiom\n",
    "    }\n",
    "\n",
    "    total_loss = []\n",
    "    for epoch in range(epochs):\n",
    "        print(f\"Epoch {epoch + 1}\\n-------------------------------\")\n",
    "\n",
    "        for i, (x_batch, y_batch, batch_len) in enumerate(batch_generator(batches, targets)):\n",
    "            x_batch, y_batch = x_batch.to(device), y_batch.to(device)\n",
    "            assert x_batch.shape == y_batch.shape\n",
    "            # print(x_batch[0], y_batch[0])\n",
    "\n",
    "            optimizer.zero_grad()\n",
    "\n",
    "            start_time = time()\n",
    "            outputs = model(x_batch)\n",
    "            loss = criterion(outputs.reshape(outputs.shape[0]*outputs.shape[1], -1), y_batch.reshape(y_batch.shape[0]*y_batch.shape[1], )) # outputs: [batch_size*time, vocab_size], y:[batch_size*time]\n",
    "            loss.backward()\n",
    "            finish_time = time()\n",
    "\n",
    "            # print statistics\n",
    "            print(f'[{epoch + 1}, {i + 1:5d}] loss: {loss.item() / y_batch.size()[0] / y_batch.size()[-1]:.6f} time: {finish_time - start_time:.3f}')\n",
    "            metrics['loss_history_per_token'].append(loss.item() / y_batch.size()[0] / y_batch.size()[-1]) # loss per token for each iteration\n",
    "            metrics['loss_history'].append(loss.item())\n",
    "            total_loss.append(loss.item())\n",
    "\n",
    "            optimizer.step()\n",
    "\n",
    "        metrics['loss_train'].append(np.mean(total_loss)) # mean loss per epoch\n",
    "    return model, metrics"
   ]
  },
  {
   "cell_type": "code",
   "execution_count": 28,
   "metadata": {},
   "outputs": [],
   "source": [
    "vocab_size=len(w2i)\n",
    "max_token_amount = 50000\n",
    "\n",
    "\n",
    "embedding_size = 32\n",
    "hidden_size = 16\n",
    "lstm_num_layers = 1\n",
    "\n",
    "epochs = 3\n",
    "learning_rate = 0.01"
   ]
  },
  {
   "cell_type": "code",
   "execution_count": 29,
   "metadata": {},
   "outputs": [
    {
     "name": "stdout",
     "output_type": "stream",
     "text": [
      "0 24999\n",
      "24999 41610\n",
      "41610 49943\n",
      "49943 58276\n",
      "58276 66236\n",
      "66236 71235\n",
      "71235 76234\n",
      "76234 81233\n",
      "81233 86232\n",
      "86232 89943\n",
      "89943 93514\n",
      "93514 97085\n",
      "97085 100656\n",
      "100656 103883\n",
      "103883 106660\n",
      "106660 109437\n",
      "109437 112214\n",
      "112214 114903\n",
      "114903 117175\n",
      "117175 119447\n",
      "119447 121719\n",
      "121719 123905\n",
      "123905 125828\n",
      "125828 127751\n",
      "127751 129674\n",
      "129674 131394\n",
      "131394 133060\n",
      "133060 134726\n",
      "134726 136236\n",
      "136236 137706\n",
      "137706 139135\n",
      "139135 140450\n",
      "140450 141759\n",
      "141759 142949\n",
      "142949 144108\n",
      "144108 145194\n",
      "145194 146203\n",
      "146203 147149\n",
      "147149 148027\n",
      "148027 148816\n",
      "148816 149512\n",
      "149512 150000\n",
      "42\n"
     ]
    }
   ],
   "source": [
    "batches, targets = get_batches(x_train, max_token_amount=max_token_amount)\n",
    "print(len(batches))"
   ]
  },
  {
   "cell_type": "code",
   "execution_count": 30,
   "metadata": {},
   "outputs": [
    {
     "data": {
      "text/plain": [
       "(tensor([[ 1, 10, 10,  2],\n",
       "         [ 1, 10, 10,  2],\n",
       "         [ 1, 10, 10,  2],\n",
       "         [ 1, 10, 10,  2],\n",
       "         [ 1, 10, 10,  2]]),\n",
       " tensor([[10, 10,  2,  0],\n",
       "         [10, 10,  2,  0],\n",
       "         [10, 10,  2,  0],\n",
       "         [10, 10,  2,  0],\n",
       "         [10, 10,  2,  0]]))"
      ]
     },
     "execution_count": 30,
     "metadata": {},
     "output_type": "execute_result"
    }
   ],
   "source": [
    "batches[0][:5], targets[0][:5]"
   ]
  },
  {
   "cell_type": "code",
   "execution_count": 31,
   "metadata": {},
   "outputs": [
    {
     "name": "stdout",
     "output_type": "stream",
     "text": [
      "Epoch 1\n",
      "-------------------------------\n",
      "[1,     1] loss: 2.629756 time: 0.212\n",
      "[1,     2] loss: 2.451179 time: 0.152\n",
      "[1,     3] loss: 2.330926 time: 0.119\n",
      "[1,     4] loss: 2.266205 time: 0.095\n",
      "[1,     5] loss: 1.468756 time: 0.166\n",
      "[1,     6] loss: 2.053754 time: 0.115\n",
      "[1,     7] loss: 2.029179 time: 0.172\n",
      "[1,     8] loss: 1.793088 time: 0.199\n",
      "[1,     9] loss: 1.971679 time: 0.212\n",
      "[1,    10] loss: 1.787137 time: 0.189\n",
      "[1,    11] loss: 1.794798 time: 0.112\n",
      "[1,    12] loss: 1.761398 time: 0.118\n",
      "[1,    13] loss: 1.478545 time: 0.114\n",
      "[1,    14] loss: 1.583803 time: 0.114\n",
      "[1,    15] loss: 1.508735 time: 0.116\n",
      "[1,    16] loss: 0.927355 time: 0.251\n",
      "[1,    17] loss: 1.351821 time: 0.127\n",
      "[1,    18] loss: 1.393423 time: 0.191\n",
      "[1,    19] loss: 1.239339 time: 0.098\n",
      "[1,    20] loss: 1.207376 time: 0.112\n",
      "[1,    21] loss: 1.180923 time: 0.113\n",
      "[1,    22] loss: 1.095127 time: 0.119\n",
      "[1,    23] loss: 1.078314 time: 0.110\n",
      "[1,    24] loss: 0.988235 time: 0.116\n",
      "[1,    25] loss: 0.974649 time: 0.109\n",
      "[1,    26] loss: 0.841853 time: 0.131\n",
      "[1,    27] loss: 0.882768 time: 0.099\n",
      "[1,    28] loss: 0.843424 time: 0.091\n",
      "[1,    29] loss: 0.732352 time: 0.134\n",
      "[1,    30] loss: 0.403914 time: 0.179\n",
      "[1,    31] loss: 0.699432 time: 0.121\n",
      "[1,    32] loss: 0.760170 time: 0.099\n",
      "[1,    33] loss: 0.690974 time: 0.095\n",
      "[1,    34] loss: 0.587837 time: 0.121\n",
      "[1,    35] loss: 0.541906 time: 0.117\n",
      "[1,    36] loss: 0.529533 time: 0.122\n",
      "[1,    37] loss: 0.436210 time: 0.126\n",
      "[1,    38] loss: 0.702388 time: 0.099\n",
      "[1,    39] loss: 0.548074 time: 0.095\n",
      "[1,    40] loss: 0.467957 time: 0.112\n",
      "[1,    41] loss: 0.367986 time: 0.128\n",
      "[1,    42] loss: 0.347520 time: 0.124\n",
      "Epoch 2\n",
      "-------------------------------\n",
      "[2,     1] loss: 0.349243 time: 0.124\n",
      "[2,     2] loss: 0.382052 time: 0.115\n",
      "[2,     3] loss: 0.346702 time: 0.120\n",
      "[2,     4] loss: 0.451011 time: 0.097\n",
      "[2,     5] loss: 0.275486 time: 0.122\n",
      "[2,     6] loss: 0.497266 time: 0.098\n",
      "[2,     7] loss: 0.533718 time: 0.152\n",
      "[2,     8] loss: 0.342169 time: 0.121\n",
      "[2,     9] loss: 0.334613 time: 0.108\n",
      "[2,    10] loss: 0.741344 time: 0.104\n",
      "[2,    11] loss: 0.553225 time: 0.233\n",
      "[2,    12] loss: 0.207522 time: 0.134\n",
      "[2,    13] loss: 0.509058 time: 0.099\n",
      "[2,    14] loss: 0.347545 time: 0.112\n",
      "[2,    15] loss: 0.255746 time: 0.115\n",
      "[2,    16] loss: 0.473236 time: 0.103\n",
      "[2,    17] loss: 0.390981 time: 0.092\n",
      "[2,    18] loss: 0.267642 time: 0.122\n",
      "[2,    19] loss: 0.202665 time: 0.121\n",
      "[2,    20] loss: 0.208026 time: 0.123\n",
      "[2,    21] loss: 0.436925 time: 0.101\n",
      "[2,    22] loss: 0.289863 time: 0.094\n",
      "[2,    23] loss: 0.208885 time: 0.123\n",
      "[2,    24] loss: 0.282517 time: 0.094\n",
      "[2,    25] loss: 0.348622 time: 0.097\n",
      "[2,    26] loss: 0.682596 time: 0.180\n",
      "[2,    27] loss: 0.536816 time: 0.096\n",
      "[2,    28] loss: 0.219784 time: 0.115\n",
      "[2,    29] loss: 0.401526 time: 0.101\n",
      "[2,    30] loss: 0.270864 time: 0.093\n",
      "[2,    31] loss: 0.294941 time: 0.105\n",
      "[2,    32] loss: 0.227156 time: 0.111\n",
      "[2,    33] loss: 0.236036 time: 0.117\n",
      "[2,    34] loss: 0.244984 time: 0.109\n",
      "[2,    35] loss: 0.195481 time: 0.131\n",
      "[2,    36] loss: 0.204992 time: 0.113\n",
      "[2,    37] loss: 0.240762 time: 0.117\n",
      "[2,    38] loss: 0.281384 time: 0.098\n",
      "[2,    39] loss: 0.181676 time: 0.142\n",
      "[2,    40] loss: 0.311547 time: 0.120\n",
      "[2,    41] loss: 0.088647 time: 0.182\n",
      "[2,    42] loss: 0.214526 time: 0.108\n",
      "Epoch 3\n",
      "-------------------------------\n",
      "[3,     1] loss: 0.270088 time: 0.094\n",
      "[3,     2] loss: 0.375236 time: 0.103\n",
      "[3,     3] loss: 0.224106 time: 0.110\n",
      "[3,     4] loss: 0.303888 time: 0.099\n",
      "[3,     5] loss: 0.173341 time: 0.132\n",
      "[3,     6] loss: 0.150231 time: 0.120\n",
      "[3,     7] loss: 0.157398 time: 0.118\n",
      "[3,     8] loss: 0.293235 time: 0.103\n",
      "[3,     9] loss: 0.207402 time: 0.108\n",
      "[3,    10] loss: 0.179996 time: 0.118\n",
      "[3,    11] loss: 0.250909 time: 0.101\n",
      "[3,    12] loss: 0.290296 time: 0.104\n",
      "[3,    13] loss: 0.220734 time: 0.098\n",
      "[3,    14] loss: 0.150507 time: 0.139\n",
      "[3,    15] loss: 0.170690 time: 0.119\n",
      "[3,    16] loss: 0.197494 time: 0.111\n",
      "[3,    17] loss: 0.243527 time: 0.099\n",
      "[3,    18] loss: 0.178860 time: 0.128\n",
      "[3,    19] loss: 0.151976 time: 0.119\n",
      "[3,    20] loss: 0.230959 time: 0.114\n",
      "[3,    21] loss: 0.212241 time: 0.092\n",
      "[3,    22] loss: 0.346760 time: 0.105\n",
      "[3,    23] loss: 0.064578 time: 0.183\n",
      "[3,    24] loss: 0.141738 time: 0.117\n",
      "[3,    25] loss: 0.341187 time: 0.100\n",
      "[3,    26] loss: 0.272675 time: 0.094\n",
      "[3,    27] loss: 0.153974 time: 0.113\n",
      "[3,    28] loss: 0.173117 time: 0.123\n",
      "[3,    29] loss: 0.203640 time: 0.098\n",
      "[3,    30] loss: 0.135848 time: 0.129\n",
      "[3,    31] loss: 0.300398 time: 0.156\n",
      "[3,    32] loss: 0.359134 time: 0.225\n",
      "[3,    33] loss: 0.624102 time: 0.182\n",
      "[3,    34] loss: 0.421233 time: 0.109\n",
      "[3,    35] loss: 0.125308 time: 0.132\n",
      "[3,    36] loss: 0.312341 time: 0.100\n",
      "[3,    37] loss: 0.148152 time: 0.125\n",
      "[3,    38] loss: 0.163074 time: 0.123\n",
      "[3,    39] loss: 0.209093 time: 0.116\n",
      "[3,    40] loss: 0.196055 time: 0.112\n",
      "[3,    41] loss: 0.401451 time: 0.108\n",
      "[3,    42] loss: 0.203758 time: 0.118\n"
     ]
    }
   ],
   "source": [
    "model = Net(vocab_size, embedding_size, hidden_size, lstm_num_layers)\n",
    "model, metrics = train(model, batches, targets, epochs, learning_rate, device)"
   ]
  },
  {
   "cell_type": "code",
   "execution_count": 32,
   "metadata": {},
   "outputs": [
    {
     "data": {
      "image/png": "[encoded data removed]",
      "text/plain": [
       "<Figure size 640x480 with 1 Axes>"
      ]
     },
     "metadata": {},
     "output_type": "display_data"
    }
   ],
   "source": [
    "plt.plot(range(1, epochs + 1), metrics['loss_train'], marker='o')\n",
    "plt.xlabel('epoch')\n",
    "plt.ylabel('loss')\n",
    "plt.title('Train loss')\n",
    "plt.grid()\n",
    "plt.show()"
   ]
  },
  {
   "cell_type": "code",
   "execution_count": 33,
   "metadata": {},
   "outputs": [
    {
     "data": {
      "image/png": "[encoded data removed]",
      "text/plain": [
       "<Figure size 640x480 with 1 Axes>"
      ]
     },
     "metadata": {},
     "output_type": "display_data"
    }
   ],
   "source": [
    "plt.plot(metrics['loss_history_per_token'], marker='o')\n",
    "plt.xlabel('iteration')\n",
    "plt.ylabel('loss')\n",
    "plt.title('Train loss')\n",
    "plt.grid()\n",
    "plt.show()"
   ]
  },
  {
   "cell_type": "code",
   "execution_count": 34,
   "metadata": {},
   "outputs": [
    {
     "data": {
      "image/png": "[encoded data removed]",
      "text/plain": [
       "<Figure size 640x480 with 1 Axes>"
      ]
     },
     "metadata": {},
     "output_type": "display_data"
    }
   ],
   "source": [
    "plt.plot(metrics['loss_history'], marker='o')\n",
    "plt.xlabel('iteration')\n",
    "plt.ylabel('loss')\n",
    "plt.title('Train loss')\n",
    "plt.grid()\n",
    "plt.show()"
   ]
  },
  {
   "cell_type": "code",
   "execution_count": null,
   "metadata": {},
   "outputs": [],
   "source": []
  }
 ],
 "metadata": {
  "kernelspec": {
   "display_name": "Python 3.9.15 ('deep_learning')",
   "language": "python",
   "name": "python3"
  },
  "language_info": {
   "codemirror_mode": {
    "name": "ipython",
    "version": 3
   },
   "file_extension": ".py",
   "mimetype": "text/x-python",
   "name": "python",
   "nbconvert_exporter": "python",
   "pygments_lexer": "ipython3",
   "version": "3.9.15"
  },
  "orig_nbformat": 4,
  "vscode": {
   "interpreter": {
    "hash": "80529b423b53fd639a6f5f2af8b83afb67b7ac3506cc89d37f7746dba0566c4c"
   }
  }
 },
 "nbformat": 4,
 "nbformat_minor": 2
}
