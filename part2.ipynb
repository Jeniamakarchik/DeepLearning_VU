{
 "cells": [
  {
   "cell_type": "markdown",
   "metadata": {},
   "source": [
    "# Assignment 2"
   ]
  },
  {
   "cell_type": "code",
   "execution_count": 1,
   "metadata": {},
   "outputs": [],
   "source": [
    "from collections import defaultdict\n",
    "import matplotlib.pyplot as plt\n",
    "import numpy as np\n",
    "import random\n",
    "from time import time\n",
    "\n",
    "from data_rnn import load_ndfa"
   ]
  },
  {
   "cell_type": "code",
   "execution_count": 2,
   "metadata": {},
   "outputs": [],
   "source": [
    "import torch\n",
    "import torch.nn as nn\n",
    "import torch.nn.functional as F\n",
    "\n",
    "import torch.optim as optim\n",
    "import torch.distributions as dist"
   ]
  },
  {
   "cell_type": "code",
   "execution_count": 3,
   "metadata": {},
   "outputs": [
    {
     "data": {
      "text/plain": [
       "device(type='cpu')"
      ]
     },
     "execution_count": 3,
     "metadata": {},
     "output_type": "execute_result"
    }
   ],
   "source": [
    "if torch.cuda.is_available():\n",
    "    device = torch.device('cuda') \n",
    "else:\n",
    "    device = torch.device('cpu') \n",
    "\n",
    "device"
   ]
  },
  {
   "cell_type": "markdown",
   "metadata": {},
   "source": [
    "### Load data"
   ]
  },
  {
   "cell_type": "code",
   "execution_count": 4,
   "metadata": {},
   "outputs": [],
   "source": [
    "# NDFA\n",
    "x_train, (i2w, w2i) = load_ndfa(n=150_000)\n",
    "\n",
    "# # Brackets\n",
    "# x_train, (i2w, w2i) = load_brackets(n=150_000)"
   ]
  },
  {
   "cell_type": "code",
   "execution_count": 5,
   "metadata": {},
   "outputs": [
    {
     "data": {
      "text/plain": [
       "150000"
      ]
     },
     "execution_count": 5,
     "metadata": {},
     "output_type": "execute_result"
    }
   ],
   "source": [
    "len(x_train)"
   ]
  },
  {
   "cell_type": "code",
   "execution_count": 6,
   "metadata": {},
   "outputs": [
    {
     "data": {
      "text/plain": [
       "[12, 12]"
      ]
     },
     "execution_count": 6,
     "metadata": {},
     "output_type": "execute_result"
    }
   ],
   "source": [
    "x_train[0]"
   ]
  },
  {
   "cell_type": "code",
   "execution_count": 47,
   "metadata": {},
   "outputs": [],
   "source": [
    "def print_sequence(seq):\n",
    "    if seq[0] == w2i['.start']:\n",
    "        seq = seq[1:]\n",
    "    if seq[-1] == w2i['.end']:\n",
    "        seq = seq[:-1]\n",
    "        \n",
    "    print(''.join([i2w[i] for i in seq]) )\n"
   ]
  },
  {
   "cell_type": "code",
   "execution_count": 48,
   "metadata": {},
   "outputs": [
    {
     "name": "stdout",
     "output_type": "stream",
     "text": [
      "ss\n"
     ]
    }
   ],
   "source": [
    "print_sequence(x_train[10_000])"
   ]
  },
  {
   "cell_type": "code",
   "execution_count": 9,
   "metadata": {},
   "outputs": [
    {
     "data": {
      "text/plain": [
       "15"
      ]
     },
     "execution_count": 9,
     "metadata": {},
     "output_type": "execute_result"
    }
   ],
   "source": [
    "vocab_size = len(w2i)\n",
    "vocab_size"
   ]
  },
  {
   "cell_type": "code",
   "execution_count": 10,
   "metadata": {},
   "outputs": [
    {
     "data": {
      "text/plain": [
       "{'.pad': 0,\n",
       " '.start': 1,\n",
       " '.end': 2,\n",
       " '.unk': 3,\n",
       " 'l': 4,\n",
       " 'k': 5,\n",
       " 'm': 6,\n",
       " 'u': 7,\n",
       " 'v': 8,\n",
       " 'w': 9,\n",
       " 'a': 10,\n",
       " 'c': 11,\n",
       " 's': 12,\n",
       " 'b': 13,\n",
       " '!': 14}"
      ]
     },
     "execution_count": 10,
     "metadata": {},
     "output_type": "execute_result"
    }
   ],
   "source": [
    "w2i"
   ]
  },
  {
   "cell_type": "code",
   "execution_count": 11,
   "metadata": {},
   "outputs": [],
   "source": [
    "def get_max_seq_length(batch):\n",
    "    return max(len(seq) for seq in batch)"
   ]
  },
  {
   "cell_type": "code",
   "execution_count": 12,
   "metadata": {},
   "outputs": [],
   "source": [
    "def get_sum_seq_lengths(batch):\n",
    "    return sum(len(seq) for seq in batch)"
   ]
  },
  {
   "cell_type": "code",
   "execution_count": 13,
   "metadata": {},
   "outputs": [],
   "source": [
    "def add_padding(seq, amt=1):\n",
    "    for _ in range(amt):\n",
    "        seq.append(w2i['.pad'])\n",
    "    return seq"
   ]
  },
  {
   "cell_type": "code",
   "execution_count": 14,
   "metadata": {},
   "outputs": [],
   "source": [
    "def add_start(seq):\n",
    "    seq.insert(0, w2i['.start'])\n",
    "    return seq"
   ]
  },
  {
   "cell_type": "code",
   "execution_count": 15,
   "metadata": {},
   "outputs": [],
   "source": [
    "def add_end(seq):\n",
    "    seq.append(w2i['.end'])\n",
    "    return seq"
   ]
  },
  {
   "cell_type": "code",
   "execution_count": 16,
   "metadata": {},
   "outputs": [
    {
     "name": "stdout",
     "output_type": "stream",
     "text": [
      "The longest sequence in trainset has 158 length.\n"
     ]
    }
   ],
   "source": [
    "print(f'The longest sequence in trainset has {get_max_seq_length(x_train)} length.')"
   ]
  },
  {
   "cell_type": "code",
   "execution_count": 17,
   "metadata": {},
   "outputs": [
    {
     "name": "stdout",
     "output_type": "stream",
     "text": [
      "Mean length of a sequence in trainset is 13.96264.\n"
     ]
    }
   ],
   "source": [
    "print(f'Mean length of a sequence in trainset is {get_sum_seq_lengths(x_train) / len(x_train)}.')"
   ]
  },
  {
   "cell_type": "code",
   "execution_count": 18,
   "metadata": {},
   "outputs": [],
   "source": [
    "def preprocess_batch(batch):\n",
    "    max_len = get_max_seq_length(batch)\n",
    "    \n",
    "    upd_batch = []\n",
    "    for i, _ in enumerate(batch):\n",
    "        seq = batch[i].copy()\n",
    "        seq = add_start(seq)\n",
    "        seq = add_end(seq)\n",
    "        seq = add_padding(seq, amt=max_len + 2 - len(seq))\n",
    "        upd_batch.append(seq)\n",
    "    \n",
    "    upd_batch = torch.tensor(upd_batch, dtype=torch.long)\n",
    "    return upd_batch"
   ]
  },
  {
   "cell_type": "code",
   "execution_count": 19,
   "metadata": {},
   "outputs": [],
   "source": [
    "def get_batches(data, max_token_amount=10000):\n",
    "    batches, targets = [], []\n",
    "    bound_l, bound_r = -1, 0\n",
    "\n",
    "    while bound_r < len(data):\n",
    "        bound_l = bound_r\n",
    "\n",
    "        num_of_tokens = 0\n",
    "        while bound_r < len(data) and (num_of_tokens + len(data[bound_r])) < max_token_amount:\n",
    "            num_of_tokens += len(data[bound_r])\n",
    "            bound_r += 1\n",
    "        print(bound_l, bound_r)\n",
    "        batch = data[bound_l:bound_r]\n",
    "        batch = preprocess_batch(batch)\n",
    "        target = F.pad(batch, (0, 1), \"constant\", 0)[:, 1:]\n",
    "        # target = F.one_hot(target, num_classes=vocab_size)\n",
    "\n",
    "        batches.append(batch)\n",
    "        targets.append(target)\n",
    "    return batches, targets\n"
   ]
  },
  {
   "cell_type": "code",
   "execution_count": 20,
   "metadata": {},
   "outputs": [],
   "source": [
    "def batch_generator(batches, targets):\n",
    "    indices = list(range(len(batches)))\n",
    "    random.shuffle(indices)\n",
    "    # print(f'Shuffle: {indices}')\n",
    "    \n",
    "    for ind in indices:\n",
    "        yield batches[ind], targets[ind], (len(batches[ind]), len(batches[ind][0]))"
   ]
  },
  {
   "cell_type": "markdown",
   "metadata": {},
   "source": [
    "## Question 5"
   ]
  },
  {
   "cell_type": "code",
   "execution_count": 49,
   "metadata": {},
   "outputs": [],
   "source": [
    "class Net(nn.Module):\n",
    "    def __init__(self, vocab_size, embedding_size=32, hidden_size=16, lstm_num_layers=3) -> None:\n",
    "        super().__init__()\n",
    "\n",
    "        self.embed = nn.Embedding(vocab_size, embedding_size)\n",
    "        self.lstm = nn.LSTM(embedding_size, hidden_size, lstm_num_layers, batch_first=True)\n",
    "        self.linear = nn.Linear(hidden_size, vocab_size)\n",
    "\n",
    "    def forward(self, input):\n",
    "        x = input\n",
    "        x = self.embed(x)\n",
    "        x, (hn, cn) = self.lstm(x)\n",
    "        output = self.linear(x)\n",
    "        return output"
   ]
  },
  {
   "cell_type": "code",
   "execution_count": 50,
   "metadata": {},
   "outputs": [
    {
     "data": {
      "text/plain": [
       "Net(\n",
       "  (embed): Embedding(15, 32)\n",
       "  (lstm): LSTM(32, 16, num_layers=3, batch_first=True)\n",
       "  (linear): Linear(in_features=16, out_features=15, bias=True)\n",
       ")"
      ]
     },
     "execution_count": 50,
     "metadata": {},
     "output_type": "execute_result"
    }
   ],
   "source": [
    "net = Net(vocab_size)\n",
    "net"
   ]
  },
  {
   "cell_type": "code",
   "execution_count": 51,
   "metadata": {},
   "outputs": [],
   "source": [
    "def sample(lnprobs, temperature=1.0):\n",
    "    \"\"\"\n",
    "    Sample an element from a categorical distribution\n",
    "    :param lnprobs: Outcome logits\n",
    "    :param temperature: Sampling temperature. 1.0 follows the given\n",
    "    distribution, 0.0 returns the maximum probability element.\n",
    "    :return: The index of the sampled element.\n",
    "    \"\"\"\n",
    "    if temperature == 0.0:\n",
    "        return lnprobs.argmax()\n",
    "\n",
    "    p = F.softmax(lnprobs / temperature, dim=0)\n",
    "    cd = dist.Categorical(p)\n",
    "    \n",
    "    return cd.sample()"
   ]
  },
  {
   "cell_type": "code",
   "execution_count": 52,
   "metadata": {},
   "outputs": [],
   "source": [
    "def generate_seq(model, w2i, start_seq, max_length=25, temp=1.0, device=torch.device('cpu')):\n",
    "    new_seq = start_seq.copy()\n",
    "    start_seq = torch.tensor(start_seq, dtype=torch.long).to(device)\n",
    "    start_seq = start_seq[None, :]\n",
    "\n",
    "    output = model(start_seq)\n",
    "    last_token = sample(output[0, -1, :])\n",
    "\n",
    "    curr_len = len(start_seq)\n",
    "    while curr_len < max_length and last_token.item() != w2i['.end']:\n",
    "        new_seq.append(last_token.item())\n",
    "        curr_len += 1\n",
    "\n",
    "        output = model(last_token.reshape(1, 1))\n",
    "        last_token = sample(output[0, -1, :])\n",
    "    new_seq.append(last_token)\n",
    "    \n",
    "    return new_seq\n"
   ]
  },
  {
   "cell_type": "code",
   "execution_count": 53,
   "metadata": {},
   "outputs": [],
   "source": [
    "def train(model, batches, targets, start_seq, epochs=3, learning_rate=0.01, \n",
    "    grad_limit=3, max_length=25, temp=1.0, device=torch.device('cpu')):\n",
    "        \n",
    "    criterion = nn.CrossEntropyLoss(reduction='sum', ignore_index=w2i['.pad'])\n",
    "    optimizer = optim.Adam(model.parameters(), lr=learning_rate)\n",
    "\n",
    "    model.to(device)\n",
    "    model.train()\n",
    "\n",
    "    metrics = {\n",
    "        'loss_history': [], # loss per iteration\n",
    "        'loss_train': [], # loss per epoch\n",
    "        'loss_history_per_token': [] # loss per token on iteratiom\n",
    "    }\n",
    "\n",
    "    samples = defaultdict(list)\n",
    "\n",
    "    total_loss = []\n",
    "    for epoch in range(epochs):\n",
    "        print(f\"Epoch {epoch + 1}\\n-------------------------------\")\n",
    "\n",
    "        for i, (x_batch, y_batch, _) in enumerate(batch_generator(batches, targets)):\n",
    "            x_batch, y_batch = x_batch.to(device), y_batch.to(device)\n",
    "            assert x_batch.shape == y_batch.shape\n",
    "\n",
    "            optimizer.zero_grad()\n",
    "\n",
    "            start_time = time()\n",
    "            outputs = model(x_batch)\n",
    "            # print(outputs.shape)\n",
    "            loss = criterion(outputs.reshape(outputs.shape[0]*outputs.shape[1], -1), y_batch.reshape(y_batch.shape[0]*y_batch.shape[1], )) # outputs: [batch_size*time, vocab_size], y:[batch_size*time]\n",
    "            loss.backward()\n",
    "            finish_time = time()\n",
    "\n",
    "            # print statistics\n",
    "            print(f'[{epoch + 1}, {i + 1:5d}] loss: {loss.item() / y_batch.size()[0] / y_batch.size()[-1]:.6f} time: {finish_time - start_time:.3f}')\n",
    "            metrics['loss_history_per_token'].append(loss.item() / y_batch.size()[0] / y_batch.size()[-1]) # loss per token for each iteration\n",
    "            metrics['loss_history'].append(loss.item())\n",
    "            total_loss.append(loss.item())\n",
    "\n",
    "            nn.utils.clip_grad_norm_(model.parameters(), grad_limit)\n",
    "            optimizer.step()\n",
    "\n",
    "        metrics['loss_train'].append(np.mean(total_loss)) # mean loss per epoch\n",
    "\n",
    "        for _ in range(10):\n",
    "            samples[epoch].append(generate_seq(model, w2i, start_seq, max_length, temp, device))\n",
    "            \n",
    "    return model, metrics, samples"
   ]
  },
  {
   "cell_type": "code",
   "execution_count": 54,
   "metadata": {},
   "outputs": [],
   "source": [
    "vocab_size=len(w2i)\n",
    "max_token_amount = 50000\n",
    "\n",
    "\n",
    "embedding_size = 32\n",
    "hidden_size = 16\n",
    "lstm_num_layers = 1\n",
    "\n",
    "grad_limit = 5\n",
    "max_length = 25\n",
    "temp = 1.0\n",
    "\n",
    "epochs = 3\n",
    "learning_rate = 0.01"
   ]
  },
  {
   "cell_type": "code",
   "execution_count": 55,
   "metadata": {},
   "outputs": [
    {
     "name": "stdout",
     "output_type": "stream",
     "text": [
      "0 24999\n",
      "24999 41610\n",
      "41610 49943\n",
      "49943 58276\n",
      "58276 66236\n",
      "66236 71235\n",
      "71235 76234\n",
      "76234 81233\n",
      "81233 86232\n",
      "86232 89943\n",
      "89943 93514\n",
      "93514 97085\n",
      "97085 100656\n",
      "100656 103883\n",
      "103883 106660\n",
      "106660 109437\n",
      "109437 112214\n",
      "112214 114903\n",
      "114903 117175\n",
      "117175 119447\n",
      "119447 121719\n",
      "121719 123905\n",
      "123905 125828\n",
      "125828 127751\n",
      "127751 129674\n",
      "129674 131394\n",
      "131394 133060\n",
      "133060 134726\n",
      "134726 136236\n",
      "136236 137706\n",
      "137706 139135\n",
      "139135 140450\n",
      "140450 141759\n",
      "141759 142949\n",
      "142949 144108\n",
      "144108 145194\n",
      "145194 146203\n",
      "146203 147149\n",
      "147149 148027\n",
      "148027 148816\n",
      "148816 149512\n",
      "149512 150000\n",
      "42\n"
     ]
    }
   ],
   "source": [
    "batches, targets = get_batches(x_train, max_token_amount=max_token_amount)\n",
    "print(len(batches))"
   ]
  },
  {
   "cell_type": "code",
   "execution_count": 56,
   "metadata": {},
   "outputs": [
    {
     "data": {
      "text/plain": [
       "(tensor([[ 1, 12, 12,  2],\n",
       "         [ 1, 12, 12,  2],\n",
       "         [ 1, 12, 12,  2],\n",
       "         [ 1, 12, 12,  2],\n",
       "         [ 1, 12, 12,  2]]),\n",
       " tensor([[12, 12,  2,  0],\n",
       "         [12, 12,  2,  0],\n",
       "         [12, 12,  2,  0],\n",
       "         [12, 12,  2,  0],\n",
       "         [12, 12,  2,  0]]))"
      ]
     },
     "execution_count": 56,
     "metadata": {},
     "output_type": "execute_result"
    }
   ],
   "source": [
    "batches[0][:5], targets[0][:5]"
   ]
  },
  {
   "cell_type": "code",
   "execution_count": 57,
   "metadata": {},
   "outputs": [],
   "source": [
    "start_seq = [\n",
    "    w2i['.start'],\n",
    "    w2i['s'],\n",
    "    w2i['a']\n",
    "]"
   ]
  },
  {
   "cell_type": "code",
   "execution_count": 58,
   "metadata": {},
   "outputs": [
    {
     "name": "stdout",
     "output_type": "stream",
     "text": [
      "Epoch 1\n",
      "-------------------------------\n",
      "[1,     1] loss: 2.630177 time: 0.194\n",
      "[1,     2] loss: 2.501814 time: 0.164\n",
      "[1,     3] loss: 1.478745 time: 0.184\n",
      "[1,     4] loss: 2.384547 time: 0.119\n",
      "[1,     5] loss: 2.321265 time: 0.183\n",
      "[1,     6] loss: 1.243621 time: 0.244\n",
      "[1,     7] loss: 1.866113 time: 0.116\n",
      "[1,     8] loss: 1.868862 time: 0.109\n",
      "[1,     9] loss: 2.032119 time: 0.115\n",
      "[1,    10] loss: 1.938493 time: 0.144\n",
      "[1,    11] loss: 1.679699 time: 0.143\n",
      "[1,    12] loss: 1.796578 time: 0.095\n",
      "[1,    13] loss: 1.775709 time: 0.102\n",
      "[1,    14] loss: 1.582468 time: 0.124\n",
      "[1,    15] loss: 1.411927 time: 0.158\n",
      "[1,    16] loss: 1.582464 time: 0.192\n",
      "[1,    17] loss: 1.339524 time: 0.119\n",
      "[1,    18] loss: 1.512744 time: 0.097\n",
      "[1,    19] loss: 1.103021 time: 0.127\n",
      "[1,    20] loss: 1.543588 time: 0.104\n",
      "[1,    21] loss: 1.332523 time: 0.128\n",
      "[1,    22] loss: 1.134934 time: 0.104\n",
      "[1,    23] loss: 1.129640 time: 0.104\n",
      "[1,    24] loss: 0.965106 time: 0.110\n",
      "[1,    25] loss: 1.019450 time: 0.097\n",
      "[1,    26] loss: 0.943358 time: 0.108\n",
      "[1,    27] loss: 0.726163 time: 0.120\n",
      "[1,    28] loss: 0.946542 time: 0.100\n",
      "[1,    29] loss: 0.690020 time: 0.116\n",
      "[1,    30] loss: 0.676636 time: 0.119\n",
      "[1,    31] loss: 0.690816 time: 0.099\n",
      "[1,    32] loss: 0.553251 time: 0.116\n",
      "[1,    33] loss: 0.902941 time: 0.111\n",
      "[1,    34] loss: 0.446248 time: 0.124\n",
      "[1,    35] loss: 0.428838 time: 0.128\n",
      "[1,    36] loss: 0.468243 time: 0.114\n",
      "[1,    37] loss: 0.345740 time: 0.124\n",
      "[1,    38] loss: 0.375756 time: 0.122\n",
      "[1,    39] loss: 0.311603 time: 0.129\n",
      "[1,    40] loss: 0.516257 time: 0.149\n",
      "[1,    41] loss: 0.287877 time: 0.118\n",
      "[1,    42] loss: 0.554977 time: 0.096\n",
      "Epoch 2\n",
      "-------------------------------\n",
      "[2,     1] loss: 0.246395 time: 0.122\n",
      "[2,     2] loss: 0.284147 time: 0.117\n",
      "[2,     3] loss: 0.278858 time: 0.108\n",
      "[2,     4] loss: 0.248691 time: 0.115\n",
      "[2,     5] loss: 0.195072 time: 0.121\n",
      "[2,     6] loss: 0.191770 time: 0.117\n",
      "[2,     7] loss: 0.189190 time: 0.112\n",
      "[2,     8] loss: 0.441914 time: 0.096\n",
      "[2,     9] loss: 0.726721 time: 0.173\n",
      "[2,    10] loss: 0.288199 time: 0.095\n",
      "[2,    11] loss: 0.189523 time: 0.113\n",
      "[2,    12] loss: 0.261328 time: 0.113\n",
      "[2,    13] loss: 0.351730 time: 0.221\n",
      "[2,    14] loss: 0.226922 time: 0.092\n",
      "[2,    15] loss: 0.161874 time: 0.123\n",
      "[2,    16] loss: 0.345652 time: 0.094\n",
      "[2,    17] loss: 0.195325 time: 0.113\n",
      "[2,    18] loss: 0.323787 time: 0.092\n",
      "[2,    19] loss: 0.254364 time: 0.094\n",
      "[2,    20] loss: 0.222877 time: 0.092\n",
      "[2,    21] loss: 0.165898 time: 0.114\n",
      "[2,    22] loss: 0.281025 time: 0.094\n",
      "[2,    23] loss: 0.215114 time: 0.090\n",
      "[2,    24] loss: 0.145427 time: 0.123\n",
      "[2,    25] loss: 0.233364 time: 0.098\n",
      "[2,    26] loss: 0.130045 time: 0.130\n",
      "[2,    27] loss: 0.177782 time: 0.109\n",
      "[2,    28] loss: 0.229492 time: 0.097\n",
      "[2,    29] loss: 0.067476 time: 0.171\n",
      "[2,    30] loss: 0.156112 time: 0.115\n",
      "[2,    31] loss: 0.267392 time: 0.141\n",
      "[2,    32] loss: 0.110870 time: 0.120\n",
      "[2,    33] loss: 0.241184 time: 0.097\n",
      "[2,    34] loss: 0.180045 time: 0.089\n",
      "[2,    35] loss: 0.416095 time: 0.102\n",
      "[2,    36] loss: 0.146831 time: 0.114\n",
      "[2,    37] loss: 0.398841 time: 0.101\n",
      "[2,    38] loss: 0.172821 time: 0.094\n",
      "[2,    39] loss: 0.161944 time: 0.111\n",
      "[2,    40] loss: 0.131991 time: 0.113\n",
      "[2,    41] loss: 0.120634 time: 0.124\n",
      "[2,    42] loss: 0.156075 time: 0.110\n",
      "Epoch 3\n",
      "-------------------------------\n",
      "[3,     1] loss: 0.146912 time: 0.111\n",
      "[3,     2] loss: 0.187704 time: 0.090\n",
      "[3,     3] loss: 0.430535 time: 0.222\n",
      "[3,     4] loss: 0.141657 time: 0.110\n",
      "[3,     5] loss: 0.151613 time: 0.117\n",
      "[3,     6] loss: 0.179194 time: 0.109\n",
      "[3,     7] loss: 0.165344 time: 0.089\n",
      "[3,     8] loss: 0.149668 time: 0.110\n",
      "[3,     9] loss: 0.085495 time: 0.133\n",
      "[3,    10] loss: 0.272280 time: 0.098\n",
      "[3,    11] loss: 0.147836 time: 0.109\n",
      "[3,    12] loss: 0.103848 time: 0.114\n",
      "[3,    13] loss: 0.162646 time: 0.094\n",
      "[3,    14] loss: 0.386183 time: 0.100\n",
      "[3,    15] loss: 0.270705 time: 0.087\n",
      "[3,    16] loss: 0.181455 time: 0.092\n",
      "[3,    17] loss: 0.981972 time: 0.171\n",
      "[3,    18] loss: 0.127433 time: 0.114\n",
      "[3,    19] loss: 0.107167 time: 0.117\n",
      "[3,    20] loss: 0.112880 time: 0.122\n",
      "[3,    21] loss: 0.136452 time: 0.112\n",
      "[3,    22] loss: 0.093937 time: 0.124\n",
      "[3,    23] loss: 0.048450 time: 0.171\n",
      "[3,    24] loss: 0.123018 time: 0.114\n",
      "[3,    25] loss: 0.226036 time: 0.097\n",
      "[3,    26] loss: 0.132268 time: 0.117\n",
      "[3,    27] loss: 0.098276 time: 0.122\n",
      "[3,    28] loss: 0.165427 time: 0.090\n",
      "[3,    29] loss: 0.230949 time: 0.097\n",
      "[3,    30] loss: 0.110498 time: 0.131\n",
      "[3,    31] loss: 0.292962 time: 0.092\n",
      "[3,    32] loss: 0.113044 time: 0.111\n",
      "[3,    33] loss: 0.100555 time: 0.110\n",
      "[3,    34] loss: 0.187401 time: 0.093\n",
      "[3,    35] loss: 0.273822 time: 0.141\n",
      "[3,    36] loss: 0.281328 time: 0.090\n",
      "[3,    37] loss: 0.153428 time: 0.113\n",
      "[3,    38] loss: 0.378627 time: 0.102\n",
      "[3,    39] loss: 0.110502 time: 0.111\n",
      "[3,    40] loss: 0.096813 time: 0.120\n",
      "[3,    41] loss: 0.203305 time: 0.099\n",
      "[3,    42] loss: 0.203423 time: 0.087\n"
     ]
    }
   ],
   "source": [
    "model = Net(vocab_size, embedding_size, hidden_size, lstm_num_layers)\n",
    "model, metrics, samples = train(model, batches, targets, start_seq, epochs, learning_rate, grad_limit, max_length, temp, device)"
   ]
  },
  {
   "cell_type": "code",
   "execution_count": 59,
   "metadata": {},
   "outputs": [
    {
     "data": {
      "image/png": "[encoded data removed]",
      "text/plain": [
       "<Figure size 640x480 with 1 Axes>"
      ]
     },
     "metadata": {},
     "output_type": "display_data"
    }
   ],
   "source": [
    "plt.plot(range(1, epochs + 1), metrics['loss_train'], marker='o')\n",
    "plt.xlabel('epoch')\n",
    "plt.ylabel('loss')\n",
    "plt.title('Train loss')\n",
    "plt.grid()\n",
    "plt.show()"
   ]
  },
  {
   "cell_type": "code",
   "execution_count": 60,
   "metadata": {},
   "outputs": [
    {
     "data": {
      "image/png": "[encoded data removed]",
      "text/plain": [
       "<Figure size 640x480 with 1 Axes>"
      ]
     },
     "metadata": {},
     "output_type": "display_data"
    }
   ],
   "source": [
    "plt.plot(metrics['loss_history_per_token'], marker='o')\n",
    "plt.xlabel('iteration')\n",
    "plt.ylabel('loss')\n",
    "plt.title('Train loss')\n",
    "plt.grid()\n",
    "plt.show()"
   ]
  },
  {
   "cell_type": "code",
   "execution_count": 61,
   "metadata": {},
   "outputs": [
    {
     "data": {
      "image/png": "[encoded data removed]",
      "text/plain": [
       "<Figure size 640x480 with 1 Axes>"
      ]
     },
     "metadata": {},
     "output_type": "display_data"
    }
   ],
   "source": [
    "plt.plot(metrics['loss_history'], marker='o')\n",
    "plt.xlabel('iteration')\n",
    "plt.ylabel('loss')\n",
    "plt.title('Train loss')\n",
    "plt.grid()\n",
    "plt.show()"
   ]
  },
  {
   "cell_type": "code",
   "execution_count": 63,
   "metadata": {},
   "outputs": [
    {
     "name": "stdout",
     "output_type": "stream",
     "text": [
      "EPOCH 0\n",
      "sabcc!sw!s\n",
      "saabvv!klm!.pad!avw!ab!llm!su.pad\n",
      "sabc!s\n",
      "sabc!abc!abc!u.padm!uvwsvwmmkw\n",
      "sab!abc!.padl!uvw\n",
      "sabc!uvw!avwsabc!abc!uvw!ab\n",
      "saabc!uvvm!.unkuvvw!ks\n",
      "sabc!\n",
      "sabcsvw!uvw!abc!uvw\n",
      "sa\n",
      "\n",
      "EPOCH 1\n",
      "sabc!abc!s\n",
      "sabc!uvw!s\n",
      "sab!s\n",
      "sabc!s\n",
      "sabc!abc!s\n",
      "sabc!slm!abc!s\n",
      "sabc!s\n",
      "sabc!s\n",
      "sabcc!s\n",
      "sabc!uvw!s\n",
      "\n",
      "EPOCH 2\n",
      "sabc!s\n",
      "sabc!suvw!c!s\n",
      "sabc!s\n",
      "sabc!s\n",
      "sabc!s\n",
      "sabc!abc!s\n",
      "sabc!s\n",
      "sabc!s\n",
      "sabc!uvw!s\n",
      "sabc!abc!abvw!uvw!abc!uvw!a\n",
      "\n"
     ]
    }
   ],
   "source": [
    "for epoch, generated in samples.items():\n",
    "    print(f'EPOCH {epoch}')\n",
    "    for seq in generated:\n",
    "        print_sequence(seq)\n",
    "    print()"
   ]
  },
  {
   "cell_type": "code",
   "execution_count": null,
   "metadata": {},
   "outputs": [],
   "source": []
  }
 ],
 "metadata": {
  "kernelspec": {
   "display_name": "Python 3.9.15 ('deep_learning')",
   "language": "python",
   "name": "python3"
  },
  "language_info": {
   "codemirror_mode": {
    "name": "ipython",
    "version": 3
   },
   "file_extension": ".py",
   "mimetype": "text/x-python",
   "name": "python",
   "nbconvert_exporter": "python",
   "pygments_lexer": "ipython3",
   "version": "3.9.15"
  },
  "orig_nbformat": 4,
  "vscode": {
   "interpreter": {
    "hash": "80529b423b53fd639a6f5f2af8b83afb67b7ac3506cc89d37f7746dba0566c4c"
   }
  }
 },
 "nbformat": 4,
 "nbformat_minor": 2
}
